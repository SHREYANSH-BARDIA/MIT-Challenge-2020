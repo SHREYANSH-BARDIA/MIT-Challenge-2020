{
  "nbformat": 4,
  "nbformat_minor": 0,
  "metadata": {
    "colab": {
      "name": "c006_final.ipynb",
      "provenance": [],
      "collapsed_sections": [],
      "toc_visible": true,
      "include_colab_link": true
    },
    "kernelspec": {
      "name": "python3",
      "display_name": "Python 3"
    }
  },
  "cells": [
    {
      "cell_type": "markdown",
      "metadata": {
        "id": "view-in-github",
        "colab_type": "text"
      },
      "source": [
        "<a href=\"https://colab.research.google.com/github/TashiNyangmi/MIT-Challenge-2020/blob/master/c006_final_updated.ipynb\" target=\"_parent\"><img src=\"https://colab.research.google.com/assets/colab-badge.svg\" alt=\"Open In Colab\"/></a>"
      ]
    },
    {
      "cell_type": "markdown",
      "metadata": {
        "id": "XBtl_lg5HjX5"
      },
      "source": [
        "# **MIT COVID-19 Datathon**\n",
        "\n",
        "#### **Team C-006**\n"
      ]
    },
    {
      "cell_type": "markdown",
      "metadata": {
        "id": "ylpjHQtbA1iW"
      },
      "source": [
        "# Environment Set-Up"
      ]
    },
    {
      "cell_type": "markdown",
      "metadata": {
        "id": "uvXeBjb0BC9X"
      },
      "source": [
        "## Packages"
      ]
    },
    {
      "cell_type": "code",
      "metadata": {
        "id": "GW5LcskRHn2g",
        "outputId": "0855b9cd-0da1-4d92-9718-9ec57d78aff1",
        "colab": {
          "base_uri": "https://localhost:8080/",
          "height": 70
        }
      },
      "source": [
        "# Import libraries\n",
        "import numpy as np\n",
        "import os\n",
        "import pandas as pd\n",
        "import seaborn as sns\n",
        "import matplotlib.pyplot as plt\n",
        "import matplotlib.patches as patches\n",
        "import matplotlib.path as path\n",
        "from sklearn.linear_model import LinearRegression\n",
        "\n",
        "!pip install -U -q pandasql\n",
        "import pandasql as psql\n",
        "from pandasql import sqldf\n",
        "\n",
        "# Below imports are used to print out pretty pandas dataframes\n",
        "from IPython.display import display, HTML\n",
        "\n",
        "# Imports for accessing Datathon data using Google BigQuery.\n",
        "from google.colab import auth\n",
        "from google.cloud import bigquery\n",
        "\n",
        "# Import libraries for google drive\n",
        "!pip install -U -q PyDrive\n",
        "from pydrive.auth import GoogleAuth\n",
        "from pydrive.drive import GoogleDrive\n",
        "from oauth2client.client import GoogleCredentials\n",
        "\n",
        "# BigQuery Setup\n",
        "project_id='mit-covid-19-datathon'\n",
        "os.environ[\"GOOGLE_CLOUD_PROJECT\"]=project_id"
      ],
      "execution_count": null,
      "outputs": [
        {
          "output_type": "stream",
          "text": [
            "/usr/local/lib/python3.6/dist-packages/statsmodels/tools/_testing.py:19: FutureWarning: pandas.util.testing is deprecated. Use the functions in the public API at pandas.testing instead.\n",
            "  import pandas.util.testing as tm\n"
          ],
          "name": "stderr"
        }
      ]
    },
    {
      "cell_type": "markdown",
      "metadata": {
        "id": "3FBdgk_yBiNm"
      },
      "source": [
        "## Authentication"
      ]
    },
    {
      "cell_type": "code",
      "metadata": {
        "id": "DJqN73-XIVOZ"
      },
      "source": [
        "auth.authenticate_user()\n",
        "gauth = GoogleAuth()\n",
        "gauth.credentials = GoogleCredentials.get_application_default()\n",
        "drive = GoogleDrive(gauth)"
      ],
      "execution_count": null,
      "outputs": []
    },
    {
      "cell_type": "markdown",
      "metadata": {
        "id": "Ao2lN3O2A-Ki"
      },
      "source": [
        "## Functions"
      ]
    },
    {
      "cell_type": "code",
      "metadata": {
        "id": "qcvWZDXkIejS"
      },
      "source": [
        "# Read data from BigQuery into pandas dataframes.\n",
        "def run_query(query):\n",
        "  return pd.io.gbq.read_gbq(query, project_id=project_id, verbose=False, configuration={'query':{'useLegacySql': False}})"
      ],
      "execution_count": null,
      "outputs": []
    },
    {
      "cell_type": "code",
      "metadata": {
        "id": "skw8y_En5Wzu"
      },
      "source": [
        "def get_data_from_gdrive(link):\n",
        "  #extracting string following \"=\" in the link string\n",
        "  fluff, id = link.split('=')\n",
        "\n",
        "  # Store dataset in a new pd.DataFrame\n",
        "  downloaded = drive.CreateFile({'id':id}) \n",
        "  downloaded.GetContentFile('Filename.csv')  \n",
        "  df_original = pd.read_csv('Filename.csv')\n",
        "  return df_original"
      ],
      "execution_count": null,
      "outputs": []
    },
    {
      "cell_type": "code",
      "metadata": {
        "id": "1uPtSpndI60P",
        "outputId": "6938408f-a1fd-48ca-ee52-e19612d6be31",
        "colab": {
          "base_uri": "https://localhost:8080/",
          "height": 77
        }
      },
      "source": [
        "# BigQuery Sample\n",
        "df = run_query('''\n",
        "SELECT count(*)\n",
        "FROM `bigquery-public-data.census_utility.fips_codes_states`\n",
        "''')\n",
        "\n",
        "df"
      ],
      "execution_count": null,
      "outputs": [
        {
          "output_type": "execute_result",
          "data": {
            "text/html": [
              "<div>\n",
              "<style scoped>\n",
              "    .dataframe tbody tr th:only-of-type {\n",
              "        vertical-align: middle;\n",
              "    }\n",
              "\n",
              "    .dataframe tbody tr th {\n",
              "        vertical-align: top;\n",
              "    }\n",
              "\n",
              "    .dataframe thead th {\n",
              "        text-align: right;\n",
              "    }\n",
              "</style>\n",
              "<table border=\"1\" class=\"dataframe\">\n",
              "  <thead>\n",
              "    <tr style=\"text-align: right;\">\n",
              "      <th></th>\n",
              "      <th>f0_</th>\n",
              "    </tr>\n",
              "  </thead>\n",
              "  <tbody>\n",
              "    <tr>\n",
              "      <th>0</th>\n",
              "      <td>57</td>\n",
              "    </tr>\n",
              "  </tbody>\n",
              "</table>\n",
              "</div>"
            ],
            "text/plain": [
              "   f0_\n",
              "0   57"
            ]
          },
          "metadata": {
            "tags": []
          },
          "execution_count": 5
        }
      ]
    },
    {
      "cell_type": "markdown",
      "metadata": {
        "id": "UQfzwU_y_sGr"
      },
      "source": [
        "# Data Import\n",
        "\n",
        "\n"
      ]
    },
    {
      "cell_type": "markdown",
      "metadata": {
        "id": "VylnkAHFNAcF"
      },
      "source": [
        "## Google Mobility Dataset, Key Facts:\n",
        "\n",
        "- Changes for each day are **compared to a baseline value** for that day of the week\n",
        "- The **baseline** is the median value, for the **corresponding day of the week, during the 5-week period Jan 3–Feb 6**, 2020.\n",
        "- **Start date:** 15 February\n",
        "- **End date:** 7 May"
      ]
    },
    {
      "cell_type": "markdown",
      "metadata": {
        "id": "66aozgsLJBbK"
      },
      "source": [
        "### Mobility and County Populations by Race"
      ]
    },
    {
      "cell_type": "code",
      "metadata": {
        "id": "Tsfo3cmbJMZC"
      },
      "source": [
        "# Old query\n",
        "\n",
        "# mobility_and_pop_by_county = run_query(\"\"\"\n",
        "# WITH mob AS (\n",
        "# SELECT \n",
        "# --   retail_and_recreation_percent_change_from_baseline retail_and_rec,\n",
        "# --   grocery_and_pharmacy_percent_change_from_baseline grocery_and_pharmacy,\n",
        "# --   parks_percent_change_from_baseline parks,\n",
        "# --   transit_stations_percent_change_from_baseline transit,\n",
        "# --   workplaces_percent_change_from_baseline work,\n",
        "# --   residential_percent_change_from_baseline residential,\n",
        "#   *\n",
        "# FROM `bigquery-public-data.covid19_google_mobility.mobility_report`\n",
        "# WHERE country_region_code = \"US\"\n",
        "#   AND sub_region_1 IS NOT NULL\n",
        "#   AND sub_region_2 IS NOT NULL\n",
        "# )\n",
        "# SELECT \n",
        "#   states.state_name state,\n",
        "#   fips.area_name county,\n",
        "#   acs.geo_id fips_code,\n",
        "#   mob.date,\n",
        "#   acs.total_pop,\n",
        "#   acs.white_pop,\n",
        "#   acs.black_pop,\n",
        "#   acs.asian_pop,\n",
        "#   acs.hispanic_pop,\n",
        "#   acs.amerindian_pop,\n",
        "#   acs.other_race_pop,\n",
        "#   acs.two_or_more_races_pop,\n",
        "#   acs.hispanic_any_race,\n",
        "#   acs.not_hispanic_pop,\n",
        "#   mob.retail_and_recreation_percent_change_from_baseline retail_and_rec,\n",
        "#   mob.grocery_and_pharmacy_percent_change_from_baseline grocery_and_pharmacy,\n",
        "#   mob.parks_percent_change_from_baseline parks,\n",
        "#   mob.transit_stations_percent_change_from_baseline transit,\n",
        "#   mob.workplaces_percent_change_from_baseline work,\n",
        "#   mob.residential_percent_change_from_baseline residential,\n",
        "# FROM `bigquery-public-data.census_bureau_acs.county_2018_5yr` acs\n",
        "# LEFT JOIN `bigquery-public-data.census_utility.fips_codes_states` states\n",
        "#   ON SUBSTR(acs.geo_id, 1, 2) = states.state_fips_code\n",
        "# LEFT JOIN `bigquery-public-data.census_utility.fips_codes_all` fips\n",
        "#   ON SUBSTR(acs.geo_id, 1, 2) = fips.state AND SUBSTR(acs.geo_id, 3, 3) = fips.county\n",
        "# INNER JOIN mob\n",
        "#   ON mob.sub_region_1 = states.state_name AND mob.sub_region_2 = fips.area_name\n",
        "# ORDER BY state, county, date\n",
        "# \"\"\")"
      ],
      "execution_count": null,
      "outputs": []
    },
    {
      "cell_type": "code",
      "metadata": {
        "id": "mzqu_OUtUf9F"
      },
      "source": [
        "# Aggregated Query\n",
        "\n",
        "mobility_and_pop_by_county = run_query(\"\"\"\n",
        "WITH mob AS (\n",
        "SELECT\n",
        "   sub_region_1,\n",
        "   sub_region_2,\n",
        "   AVG(retail_and_recreation_percent_change_from_baseline) retail_and_rec,\n",
        "   AVG(grocery_and_pharmacy_percent_change_from_baseline) grocery_and_pharmacy,\n",
        "   AVG(workplaces_percent_change_from_baseline) work,\n",
        "FROM `bigquery-public-data.covid19_google_mobility.mobility_report`\n",
        "WHERE country_region_code = \"US\"\n",
        "  AND sub_region_1 IS NOT NULL\n",
        "  AND sub_region_2 IS NOT NULL\n",
        "  AND date >= \"2020-04-01\"\n",
        "GROUP BY sub_region_1, sub_region_2\n",
        "HAVING\n",
        "  retail_and_rec IS NOT NULL\n",
        "  AND grocery_and_pharmacy IS NOT NULL\n",
        "  AND work IS NOT NULL\n",
        ")\n",
        "SELECT \n",
        "  acs.geo_id fips_code,\n",
        "  states.state_name state,\n",
        "  fips.area_name county,\n",
        "  acs.total_pop,\n",
        "  acs.white_pop,\n",
        "  acs.black_pop,\n",
        "  acs.asian_pop,\n",
        "  acs.hispanic_pop,\n",
        "  acs.amerindian_pop,\n",
        "  acs.other_race_pop,\n",
        "  acs.two_or_more_races_pop,\n",
        "  acs.hispanic_any_race,\n",
        "  acs.not_hispanic_pop,\n",
        "  mob.retail_and_rec,\n",
        "  mob.grocery_and_pharmacy,\n",
        "  mob.work,\n",
        "FROM `bigquery-public-data.census_bureau_acs.county_2018_5yr` acs\n",
        "LEFT JOIN `bigquery-public-data.census_utility.fips_codes_states` states\n",
        "  ON SUBSTR(acs.geo_id, 1, 2) = states.state_fips_code\n",
        "LEFT JOIN `bigquery-public-data.census_utility.fips_codes_all` fips\n",
        "  ON SUBSTR(acs.geo_id, 1, 2) = fips.state AND SUBSTR(acs.geo_id, 3, 3) = fips.county\n",
        "INNER JOIN mob\n",
        "  ON mob.sub_region_1 = states.state_name AND mob.sub_region_2 = fips.area_name\n",
        "ORDER BY state, county\n",
        "\"\"\")"
      ],
      "execution_count": null,
      "outputs": []
    },
    {
      "cell_type": "markdown",
      "metadata": {
        "id": "alVXRfhdoGMj"
      },
      "source": [
        "## ACS Data Imports"
      ]
    },
    {
      "cell_type": "code",
      "metadata": {
        "id": "5-n50QxJRpxQ",
        "outputId": "0a1b373b-5d7e-4cc7-e9a8-6003db6d8c98",
        "colab": {
          "base_uri": "https://localhost:8080/",
          "height": 402
        }
      },
      "source": [
        "# Sample Query using BigQuery in Colab\n",
        "# You can replicate this to run your own queries\n",
        "counties_squaremiles_df = run_query('''\n",
        "SELECT geo_id, state_fips_code, county_fips_code, area_land_meters\n",
        "FROM `bigquery-public-data.geo_us_boundaries.counties` \n",
        "''')\n",
        "\n",
        "counties_squaremiles_df"
      ],
      "execution_count": null,
      "outputs": [
        {
          "output_type": "execute_result",
          "data": {
            "text/html": [
              "<div>\n",
              "<style scoped>\n",
              "    .dataframe tbody tr th:only-of-type {\n",
              "        vertical-align: middle;\n",
              "    }\n",
              "\n",
              "    .dataframe tbody tr th {\n",
              "        vertical-align: top;\n",
              "    }\n",
              "\n",
              "    .dataframe thead th {\n",
              "        text-align: right;\n",
              "    }\n",
              "</style>\n",
              "<table border=\"1\" class=\"dataframe\">\n",
              "  <thead>\n",
              "    <tr style=\"text-align: right;\">\n",
              "      <th></th>\n",
              "      <th>geo_id</th>\n",
              "      <th>state_fips_code</th>\n",
              "      <th>county_fips_code</th>\n",
              "      <th>area_land_meters</th>\n",
              "    </tr>\n",
              "  </thead>\n",
              "  <tbody>\n",
              "    <tr>\n",
              "      <th>0</th>\n",
              "      <td>01013</td>\n",
              "      <td>01</td>\n",
              "      <td>013</td>\n",
              "      <td>2012002531</td>\n",
              "    </tr>\n",
              "    <tr>\n",
              "      <th>1</th>\n",
              "      <td>01059</td>\n",
              "      <td>01</td>\n",
              "      <td>059</td>\n",
              "      <td>1641841404</td>\n",
              "    </tr>\n",
              "    <tr>\n",
              "      <th>2</th>\n",
              "      <td>01041</td>\n",
              "      <td>01</td>\n",
              "      <td>041</td>\n",
              "      <td>1576952799</td>\n",
              "    </tr>\n",
              "    <tr>\n",
              "      <th>3</th>\n",
              "      <td>01105</td>\n",
              "      <td>01</td>\n",
              "      <td>105</td>\n",
              "      <td>1863900621</td>\n",
              "    </tr>\n",
              "    <tr>\n",
              "      <th>4</th>\n",
              "      <td>01039</td>\n",
              "      <td>01</td>\n",
              "      <td>039</td>\n",
              "      <td>2669134207</td>\n",
              "    </tr>\n",
              "    <tr>\n",
              "      <th>...</th>\n",
              "      <td>...</td>\n",
              "      <td>...</td>\n",
              "      <td>...</td>\n",
              "      <td>...</td>\n",
              "    </tr>\n",
              "    <tr>\n",
              "      <th>3228</th>\n",
              "      <td>72059</td>\n",
              "      <td>72</td>\n",
              "      <td>059</td>\n",
              "      <td>109480385</td>\n",
              "    </tr>\n",
              "    <tr>\n",
              "      <th>3229</th>\n",
              "      <td>72111</td>\n",
              "      <td>72</td>\n",
              "      <td>111</td>\n",
              "      <td>115558557</td>\n",
              "    </tr>\n",
              "    <tr>\n",
              "      <th>3230</th>\n",
              "      <td>78020</td>\n",
              "      <td>78</td>\n",
              "      <td>020</td>\n",
              "      <td>50998479</td>\n",
              "    </tr>\n",
              "    <tr>\n",
              "      <th>3231</th>\n",
              "      <td>78010</td>\n",
              "      <td>78</td>\n",
              "      <td>010</td>\n",
              "      <td>215914992</td>\n",
              "    </tr>\n",
              "    <tr>\n",
              "      <th>3232</th>\n",
              "      <td>78030</td>\n",
              "      <td>78</td>\n",
              "      <td>030</td>\n",
              "      <td>81108425</td>\n",
              "    </tr>\n",
              "  </tbody>\n",
              "</table>\n",
              "<p>3233 rows × 4 columns</p>\n",
              "</div>"
            ],
            "text/plain": [
              "     geo_id state_fips_code county_fips_code  area_land_meters\n",
              "0     01013              01              013        2012002531\n",
              "1     01059              01              059        1641841404\n",
              "2     01041              01              041        1576952799\n",
              "3     01105              01              105        1863900621\n",
              "4     01039              01              039        2669134207\n",
              "...     ...             ...              ...               ...\n",
              "3228  72059              72              059         109480385\n",
              "3229  72111              72              111         115558557\n",
              "3230  78020              78              020          50998479\n",
              "3231  78010              78              010         215914992\n",
              "3232  78030              78              030          81108425\n",
              "\n",
              "[3233 rows x 4 columns]"
            ]
          },
          "metadata": {
            "tags": []
          },
          "execution_count": 8
        }
      ]
    },
    {
      "cell_type": "code",
      "metadata": {
        "id": "EmojxNFbabB2"
      },
      "source": [
        "# List of the files to be imported\n",
        "\n",
        "link_dict = {'Total_population ':'https://drive.google.com/open?id=1uAbDuOZ3_K4QcCCJFtdqnIE_S5yT4yw8', \\\n",
        "             'Overcrowding':'https://drive.google.com/open?id=1l4fBj1ZMqD6VoK7WJLum0fhdfhUD-gLV', \\\n",
        "             'Older_adults':'https://drive.google.com/open?id=1_TwxgrXK4FOFiuUoF2nFGHvWc-WX02AB', \\\n",
        "             'Occupation':'https://drive.google.com/open?id=1ppfuS7kQGWevOP5TFIMIkzYUuD5eqoR-', \\\n",
        "             'Low_income':'https://drive.google.com/open?id=11PG8moKvvgfTppouplzVwE8Ga-mryDme', \\\n",
        "             'Hispanic':'https://drive.google.com/open?id=1dCpouYjKM3qn-VAYz6GIMwmGtnHYQfZ7'}"
      ],
      "execution_count": null,
      "outputs": []
    },
    {
      "cell_type": "code",
      "metadata": {
        "id": "0xTQchwkacM0"
      },
      "source": [
        "df_list = []\n",
        "\n",
        "# This will apply the get_data_from_gdrive function to each file \n",
        "for i in link_dict.keys():\n",
        "  df = get_data_from_gdrive(link_dict[i])\n",
        "  df['table_name'] = i\n",
        "  df_list.append(df)"
      ],
      "execution_count": null,
      "outputs": []
    },
    {
      "cell_type": "code",
      "metadata": {
        "id": "njCFI46mfzoZ"
      },
      "source": [
        "Total_population_df = df_list[0]\n",
        "Overcrowding_df = df_list[1]\n",
        "Older_adults_df = df_list[2]\n",
        "Occupation_df = df_list[3]\n",
        "Low_income_df = df_list[4]\n",
        "Hispanic_df = df_list[5]"
      ],
      "execution_count": null,
      "outputs": []
    },
    {
      "cell_type": "markdown",
      "metadata": {
        "id": "DIlHd-6NAH4P"
      },
      "source": [
        "# Data Processing\n"
      ]
    },
    {
      "cell_type": "markdown",
      "metadata": {
        "id": "-rLgyWaDorPR"
      },
      "source": [
        "## ACS"
      ]
    },
    {
      "cell_type": "code",
      "metadata": {
        "id": "C9lACOgi6X0k"
      },
      "source": [
        "# For each dataframe, capturing the last 5 digits which correpsond to the fips code\n",
        "\n",
        "new_df_list = [Total_population_df, Overcrowding_df, Older_adults_df, Occupation_df, Low_income_df, Hispanic_df]\n",
        "\n",
        "for i in new_df_list:\n",
        "  # check before: print(i.head())\n",
        "  i['GEO_ID'] = i['GEO_ID'].astype(str).str[9:]\n",
        "  # check after: print(i.head())"
      ],
      "execution_count": null,
      "outputs": []
    },
    {
      "cell_type": "markdown",
      "metadata": {
        "id": "CPW6oN19DMZf"
      },
      "source": [
        "###  Pulling Square Area per County for Calculating Neighborhoods: Population Density\n"
      ]
    },
    {
      "cell_type": "code",
      "metadata": {
        "id": "Nq7f6tqMOLMq"
      },
      "source": [
        "square_area_per_county = psql.sqldf('''\n",
        "SELECT counties_squaremiles_df.geo_id,\n",
        "  counties_squaremiles_df.area_land_meters/2.596 AS square_miles\n",
        "FROM counties_squaremiles_df''')"
      ],
      "execution_count": null,
      "outputs": []
    },
    {
      "cell_type": "code",
      "metadata": {
        "id": "FaoFEZgAs-pV",
        "outputId": "7adc7b86-9f1d-417a-ba07-5c5702a097ac",
        "colab": {
          "base_uri": "https://localhost:8080/",
          "height": 195
        }
      },
      "source": [
        "square_area_per_county.head()"
      ],
      "execution_count": null,
      "outputs": [
        {
          "output_type": "execute_result",
          "data": {
            "text/html": [
              "<div>\n",
              "<style scoped>\n",
              "    .dataframe tbody tr th:only-of-type {\n",
              "        vertical-align: middle;\n",
              "    }\n",
              "\n",
              "    .dataframe tbody tr th {\n",
              "        vertical-align: top;\n",
              "    }\n",
              "\n",
              "    .dataframe thead th {\n",
              "        text-align: right;\n",
              "    }\n",
              "</style>\n",
              "<table border=\"1\" class=\"dataframe\">\n",
              "  <thead>\n",
              "    <tr style=\"text-align: right;\">\n",
              "      <th></th>\n",
              "      <th>geo_id</th>\n",
              "      <th>square_miles</th>\n",
              "    </tr>\n",
              "  </thead>\n",
              "  <tbody>\n",
              "    <tr>\n",
              "      <th>0</th>\n",
              "      <td>01013</td>\n",
              "      <td>7.750395e+08</td>\n",
              "    </tr>\n",
              "    <tr>\n",
              "      <th>1</th>\n",
              "      <td>01059</td>\n",
              "      <td>6.324505e+08</td>\n",
              "    </tr>\n",
              "    <tr>\n",
              "      <th>2</th>\n",
              "      <td>01041</td>\n",
              "      <td>6.074549e+08</td>\n",
              "    </tr>\n",
              "    <tr>\n",
              "      <th>3</th>\n",
              "      <td>01105</td>\n",
              "      <td>7.179895e+08</td>\n",
              "    </tr>\n",
              "    <tr>\n",
              "      <th>4</th>\n",
              "      <td>01039</td>\n",
              "      <td>1.028172e+09</td>\n",
              "    </tr>\n",
              "  </tbody>\n",
              "</table>\n",
              "</div>"
            ],
            "text/plain": [
              "  geo_id  square_miles\n",
              "0  01013  7.750395e+08\n",
              "1  01059  6.324505e+08\n",
              "2  01041  6.074549e+08\n",
              "3  01105  7.179895e+08\n",
              "4  01039  1.028172e+09"
            ]
          },
          "metadata": {
            "tags": []
          },
          "execution_count": 14
        }
      ]
    },
    {
      "cell_type": "markdown",
      "metadata": {
        "id": "Jx_538RBoYVD"
      },
      "source": [
        "# Calculations: First Round"
      ]
    },
    {
      "cell_type": "markdown",
      "metadata": {
        "id": "zpmH9webKGpN"
      },
      "source": [
        "## Mobility: Aggregating the Time Series Data over the Last 14 Days [24 April - 7 May]"
      ]
    },
    {
      "cell_type": "code",
      "metadata": {
        "id": "S_9PMozvJ67S",
        "outputId": "c3ebddff-1f53-44e9-cf63-e4a814a11b6b",
        "colab": {
          "base_uri": "https://localhost:8080/",
          "height": 299
        }
      },
      "source": [
        "mobility_and_pop_by_county.head()"
      ],
      "execution_count": null,
      "outputs": [
        {
          "output_type": "execute_result",
          "data": {
            "text/html": [
              "<div>\n",
              "<style scoped>\n",
              "    .dataframe tbody tr th:only-of-type {\n",
              "        vertical-align: middle;\n",
              "    }\n",
              "\n",
              "    .dataframe tbody tr th {\n",
              "        vertical-align: top;\n",
              "    }\n",
              "\n",
              "    .dataframe thead th {\n",
              "        text-align: right;\n",
              "    }\n",
              "</style>\n",
              "<table border=\"1\" class=\"dataframe\">\n",
              "  <thead>\n",
              "    <tr style=\"text-align: right;\">\n",
              "      <th></th>\n",
              "      <th>fips_code</th>\n",
              "      <th>state</th>\n",
              "      <th>county</th>\n",
              "      <th>total_pop</th>\n",
              "      <th>white_pop</th>\n",
              "      <th>black_pop</th>\n",
              "      <th>asian_pop</th>\n",
              "      <th>hispanic_pop</th>\n",
              "      <th>amerindian_pop</th>\n",
              "      <th>other_race_pop</th>\n",
              "      <th>two_or_more_races_pop</th>\n",
              "      <th>hispanic_any_race</th>\n",
              "      <th>not_hispanic_pop</th>\n",
              "      <th>retail_and_rec</th>\n",
              "      <th>grocery_and_pharmacy</th>\n",
              "      <th>work</th>\n",
              "    </tr>\n",
              "  </thead>\n",
              "  <tbody>\n",
              "    <tr>\n",
              "      <th>0</th>\n",
              "      <td>01001</td>\n",
              "      <td>Alabama</td>\n",
              "      <td>Autauga County</td>\n",
              "      <td>55200.0</td>\n",
              "      <td>41412.0</td>\n",
              "      <td>10475.0</td>\n",
              "      <td>568.0</td>\n",
              "      <td>1528.0</td>\n",
              "      <td>159.0</td>\n",
              "      <td>41.0</td>\n",
              "      <td>1012.0</td>\n",
              "      <td>1528.0</td>\n",
              "      <td>53672.0</td>\n",
              "      <td>-21.307692</td>\n",
              "      <td>7.282051</td>\n",
              "      <td>-35.923077</td>\n",
              "    </tr>\n",
              "    <tr>\n",
              "      <th>1</th>\n",
              "      <td>01003</td>\n",
              "      <td>Alabama</td>\n",
              "      <td>Baldwin County</td>\n",
              "      <td>208107.0</td>\n",
              "      <td>172768.0</td>\n",
              "      <td>19529.0</td>\n",
              "      <td>1668.0</td>\n",
              "      <td>9353.0</td>\n",
              "      <td>1398.0</td>\n",
              "      <td>410.0</td>\n",
              "      <td>2972.0</td>\n",
              "      <td>9353.0</td>\n",
              "      <td>198754.0</td>\n",
              "      <td>-35.410256</td>\n",
              "      <td>-8.589744</td>\n",
              "      <td>-33.589744</td>\n",
              "    </tr>\n",
              "    <tr>\n",
              "      <th>2</th>\n",
              "      <td>01005</td>\n",
              "      <td>Alabama</td>\n",
              "      <td>Barbour County</td>\n",
              "      <td>25782.0</td>\n",
              "      <td>11898.0</td>\n",
              "      <td>12199.0</td>\n",
              "      <td>85.0</td>\n",
              "      <td>1106.0</td>\n",
              "      <td>63.0</td>\n",
              "      <td>86.0</td>\n",
              "      <td>344.0</td>\n",
              "      <td>1106.0</td>\n",
              "      <td>24676.0</td>\n",
              "      <td>-15.750000</td>\n",
              "      <td>-3.200000</td>\n",
              "      <td>-25.102564</td>\n",
              "    </tr>\n",
              "    <tr>\n",
              "      <th>3</th>\n",
              "      <td>01007</td>\n",
              "      <td>Alabama</td>\n",
              "      <td>Bibb County</td>\n",
              "      <td>22527.0</td>\n",
              "      <td>16801.0</td>\n",
              "      <td>4974.0</td>\n",
              "      <td>37.0</td>\n",
              "      <td>547.0</td>\n",
              "      <td>8.0</td>\n",
              "      <td>0.0</td>\n",
              "      <td>160.0</td>\n",
              "      <td>547.0</td>\n",
              "      <td>21980.0</td>\n",
              "      <td>-16.000000</td>\n",
              "      <td>5.200000</td>\n",
              "      <td>-29.717949</td>\n",
              "    </tr>\n",
              "    <tr>\n",
              "      <th>4</th>\n",
              "      <td>01009</td>\n",
              "      <td>Alabama</td>\n",
              "      <td>Blount County</td>\n",
              "      <td>57645.0</td>\n",
              "      <td>50232.0</td>\n",
              "      <td>820.0</td>\n",
              "      <td>198.0</td>\n",
              "      <td>5261.0</td>\n",
              "      <td>124.0</td>\n",
              "      <td>174.0</td>\n",
              "      <td>818.0</td>\n",
              "      <td>5261.0</td>\n",
              "      <td>52384.0</td>\n",
              "      <td>-17.809524</td>\n",
              "      <td>5.083333</td>\n",
              "      <td>-32.794872</td>\n",
              "    </tr>\n",
              "  </tbody>\n",
              "</table>\n",
              "</div>"
            ],
            "text/plain": [
              "  fips_code    state  ... grocery_and_pharmacy       work\n",
              "0     01001  Alabama  ...             7.282051 -35.923077\n",
              "1     01003  Alabama  ...            -8.589744 -33.589744\n",
              "2     01005  Alabama  ...            -3.200000 -25.102564\n",
              "3     01007  Alabama  ...             5.200000 -29.717949\n",
              "4     01009  Alabama  ...             5.083333 -32.794872\n",
              "\n",
              "[5 rows x 16 columns]"
            ]
          },
          "metadata": {
            "tags": []
          },
          "execution_count": 15
        }
      ]
    },
    {
      "cell_type": "code",
      "metadata": {
        "id": "DlBfbA_LKLRE"
      },
      "source": [
        "# mobility_and_pop_by_county = mobility_and_pop_by_county.set_index(\"date\")\n",
        "\n",
        "# # for number of days to go back from the end_date\n",
        "# date_dict = {'07': '2020-05-01',\n",
        "#              '14': '2020-04-24',\n",
        "#              '21': '2020-04-17',\n",
        "#              '28': '2020-04-10'}\n",
        "# end_date = \"2020-05-07\"\n",
        "\n",
        "# # creates DataFrames sliced by date, \n",
        "# # and calculates mean for each variable on the county level.\n",
        "\n",
        "# df_result_list = []\n",
        "# for i in date_dict.keys():\n",
        "#   df = mobility_and_pop_by_county.loc[date_dict[i]:end_date].groupby(\"fips_code\").mean()\n",
        "#   df_result_list.append(df)\n",
        "\n",
        "# # Datasets filtered for different periods\n",
        "# mobility_and_pop_by_county_index_07 = df_result_list[0]\n",
        "# mobility_and_pop_by_county_index_14 = df_result_list[1]\n",
        "# mobility_and_pop_by_county_index_21 = df_result_list[2]\n",
        "# mobility_and_pop_by_county_index_28 = df_result_list[3]\n",
        "\n",
        "# # The final data set to use, filtered to include only the last 14 days\n",
        "# final_df = mobility_and_pop_by_county_index_14"
      ],
      "execution_count": null,
      "outputs": []
    },
    {
      "cell_type": "code",
      "metadata": {
        "id": "tVxkWfmZKxPv",
        "outputId": "6fe8f7ee-90c0-4eb1-b72b-9a43e58b62ad",
        "colab": {
          "base_uri": "https://localhost:8080/",
          "height": 299
        }
      },
      "source": [
        "final_df = mobility_and_pop_by_county\n",
        "final_df.head()"
      ],
      "execution_count": null,
      "outputs": [
        {
          "output_type": "execute_result",
          "data": {
            "text/html": [
              "<div>\n",
              "<style scoped>\n",
              "    .dataframe tbody tr th:only-of-type {\n",
              "        vertical-align: middle;\n",
              "    }\n",
              "\n",
              "    .dataframe tbody tr th {\n",
              "        vertical-align: top;\n",
              "    }\n",
              "\n",
              "    .dataframe thead th {\n",
              "        text-align: right;\n",
              "    }\n",
              "</style>\n",
              "<table border=\"1\" class=\"dataframe\">\n",
              "  <thead>\n",
              "    <tr style=\"text-align: right;\">\n",
              "      <th></th>\n",
              "      <th>fips_code</th>\n",
              "      <th>state</th>\n",
              "      <th>county</th>\n",
              "      <th>total_pop</th>\n",
              "      <th>white_pop</th>\n",
              "      <th>black_pop</th>\n",
              "      <th>asian_pop</th>\n",
              "      <th>hispanic_pop</th>\n",
              "      <th>amerindian_pop</th>\n",
              "      <th>other_race_pop</th>\n",
              "      <th>two_or_more_races_pop</th>\n",
              "      <th>hispanic_any_race</th>\n",
              "      <th>not_hispanic_pop</th>\n",
              "      <th>retail_and_rec</th>\n",
              "      <th>grocery_and_pharmacy</th>\n",
              "      <th>work</th>\n",
              "    </tr>\n",
              "  </thead>\n",
              "  <tbody>\n",
              "    <tr>\n",
              "      <th>0</th>\n",
              "      <td>01001</td>\n",
              "      <td>Alabama</td>\n",
              "      <td>Autauga County</td>\n",
              "      <td>55200.0</td>\n",
              "      <td>41412.0</td>\n",
              "      <td>10475.0</td>\n",
              "      <td>568.0</td>\n",
              "      <td>1528.0</td>\n",
              "      <td>159.0</td>\n",
              "      <td>41.0</td>\n",
              "      <td>1012.0</td>\n",
              "      <td>1528.0</td>\n",
              "      <td>53672.0</td>\n",
              "      <td>-21.307692</td>\n",
              "      <td>7.282051</td>\n",
              "      <td>-35.923077</td>\n",
              "    </tr>\n",
              "    <tr>\n",
              "      <th>1</th>\n",
              "      <td>01003</td>\n",
              "      <td>Alabama</td>\n",
              "      <td>Baldwin County</td>\n",
              "      <td>208107.0</td>\n",
              "      <td>172768.0</td>\n",
              "      <td>19529.0</td>\n",
              "      <td>1668.0</td>\n",
              "      <td>9353.0</td>\n",
              "      <td>1398.0</td>\n",
              "      <td>410.0</td>\n",
              "      <td>2972.0</td>\n",
              "      <td>9353.0</td>\n",
              "      <td>198754.0</td>\n",
              "      <td>-35.410256</td>\n",
              "      <td>-8.589744</td>\n",
              "      <td>-33.589744</td>\n",
              "    </tr>\n",
              "    <tr>\n",
              "      <th>2</th>\n",
              "      <td>01005</td>\n",
              "      <td>Alabama</td>\n",
              "      <td>Barbour County</td>\n",
              "      <td>25782.0</td>\n",
              "      <td>11898.0</td>\n",
              "      <td>12199.0</td>\n",
              "      <td>85.0</td>\n",
              "      <td>1106.0</td>\n",
              "      <td>63.0</td>\n",
              "      <td>86.0</td>\n",
              "      <td>344.0</td>\n",
              "      <td>1106.0</td>\n",
              "      <td>24676.0</td>\n",
              "      <td>-15.750000</td>\n",
              "      <td>-3.200000</td>\n",
              "      <td>-25.102564</td>\n",
              "    </tr>\n",
              "    <tr>\n",
              "      <th>3</th>\n",
              "      <td>01007</td>\n",
              "      <td>Alabama</td>\n",
              "      <td>Bibb County</td>\n",
              "      <td>22527.0</td>\n",
              "      <td>16801.0</td>\n",
              "      <td>4974.0</td>\n",
              "      <td>37.0</td>\n",
              "      <td>547.0</td>\n",
              "      <td>8.0</td>\n",
              "      <td>0.0</td>\n",
              "      <td>160.0</td>\n",
              "      <td>547.0</td>\n",
              "      <td>21980.0</td>\n",
              "      <td>-16.000000</td>\n",
              "      <td>5.200000</td>\n",
              "      <td>-29.717949</td>\n",
              "    </tr>\n",
              "    <tr>\n",
              "      <th>4</th>\n",
              "      <td>01009</td>\n",
              "      <td>Alabama</td>\n",
              "      <td>Blount County</td>\n",
              "      <td>57645.0</td>\n",
              "      <td>50232.0</td>\n",
              "      <td>820.0</td>\n",
              "      <td>198.0</td>\n",
              "      <td>5261.0</td>\n",
              "      <td>124.0</td>\n",
              "      <td>174.0</td>\n",
              "      <td>818.0</td>\n",
              "      <td>5261.0</td>\n",
              "      <td>52384.0</td>\n",
              "      <td>-17.809524</td>\n",
              "      <td>5.083333</td>\n",
              "      <td>-32.794872</td>\n",
              "    </tr>\n",
              "  </tbody>\n",
              "</table>\n",
              "</div>"
            ],
            "text/plain": [
              "  fips_code    state  ... grocery_and_pharmacy       work\n",
              "0     01001  Alabama  ...             7.282051 -35.923077\n",
              "1     01003  Alabama  ...            -8.589744 -33.589744\n",
              "2     01005  Alabama  ...            -3.200000 -25.102564\n",
              "3     01007  Alabama  ...             5.200000 -29.717949\n",
              "4     01009  Alabama  ...             5.083333 -32.794872\n",
              "\n",
              "[5 rows x 16 columns]"
            ]
          },
          "metadata": {
            "tags": []
          },
          "execution_count": 17
        }
      ]
    },
    {
      "cell_type": "code",
      "metadata": {
        "id": "OCY3ya2kJ9qu",
        "outputId": "b503aaf7-920f-4636-b4b6-4c50dd6e6032",
        "colab": {
          "base_uri": "https://localhost:8080/",
          "height": 34
        }
      },
      "source": [
        "len(final_df)"
      ],
      "execution_count": null,
      "outputs": [
        {
          "output_type": "execute_result",
          "data": {
            "text/plain": [
              "2331"
            ]
          },
          "metadata": {
            "tags": []
          },
          "execution_count": 18
        }
      ]
    },
    {
      "cell_type": "markdown",
      "metadata": {
        "id": "mmXw2dQ2C_SI"
      },
      "source": [
        "## Calculating Homes: Overcrowded Rooms\n",
        "\n",
        "[DONE] Need to include a total_rooms per county\n",
        "Then divide rooms_with_multiple_occupants with total number of rooms\n"
      ]
    },
    {
      "cell_type": "code",
      "metadata": {
        "id": "dBsvx3DHrItt"
      },
      "source": [
        "#Taking only those columns into consideration where no. of occupants per room is more than one\n",
        "more_than_one_occupant_df = Overcrowding_df[['GEO_ID','NAME','B25014_001E','B25014_005E','B25014_006E','B25014_007E','B25014_011E','B25014_012E','B25014_013E']]"
      ],
      "execution_count": null,
      "outputs": []
    },
    {
      "cell_type": "code",
      "metadata": {
        "id": "Ri32MrdPY4CR"
      },
      "source": [
        "# Total number of rooms having more than one occupant per room in each county\n",
        "overcrowded_calc_df = psql.sqldf('''select geo_id,name, sum(B25014_005E)+sum(B25014_006E)+sum(B25014_007E)+sum(B25014_011E)+sum(B25014_012E)+sum(B25014_013E) as rooms_with_multiple_occupants, B25014_001E as total_rooms, (sum(B25014_005E)+sum(B25014_006E)+sum(B25014_007E)+sum(B25014_011E)+sum(B25014_012E)+sum(B25014_013E))*1.0000/B25014_001E as percentage_overcrowded_rooms\n",
        "          from more_than_one_occupant_df\n",
        "          group by geo_id''',globals()).iloc[1:]"
      ],
      "execution_count": null,
      "outputs": []
    },
    {
      "cell_type": "code",
      "metadata": {
        "id": "XpHzBCKjmrCQ",
        "outputId": "20111604-532c-461d-dd92-9c3f5f622732",
        "colab": {
          "base_uri": "https://localhost:8080/",
          "height": 195
        }
      },
      "source": [
        "overcrowded_calc_df.head()"
      ],
      "execution_count": null,
      "outputs": [
        {
          "output_type": "execute_result",
          "data": {
            "text/html": [
              "<div>\n",
              "<style scoped>\n",
              "    .dataframe tbody tr th:only-of-type {\n",
              "        vertical-align: middle;\n",
              "    }\n",
              "\n",
              "    .dataframe tbody tr th {\n",
              "        vertical-align: top;\n",
              "    }\n",
              "\n",
              "    .dataframe thead th {\n",
              "        text-align: right;\n",
              "    }\n",
              "</style>\n",
              "<table border=\"1\" class=\"dataframe\">\n",
              "  <thead>\n",
              "    <tr style=\"text-align: right;\">\n",
              "      <th></th>\n",
              "      <th>GEO_ID</th>\n",
              "      <th>NAME</th>\n",
              "      <th>rooms_with_multiple_occupants</th>\n",
              "      <th>total_rooms</th>\n",
              "      <th>percentage_overcrowded_rooms</th>\n",
              "    </tr>\n",
              "  </thead>\n",
              "  <tbody>\n",
              "    <tr>\n",
              "      <th>1</th>\n",
              "      <td>01001</td>\n",
              "      <td>Autauga County, Alabama</td>\n",
              "      <td>299.0</td>\n",
              "      <td>21115</td>\n",
              "      <td>0.014161</td>\n",
              "    </tr>\n",
              "    <tr>\n",
              "      <th>2</th>\n",
              "      <td>01003</td>\n",
              "      <td>Baldwin County, Alabama</td>\n",
              "      <td>991.0</td>\n",
              "      <td>78622</td>\n",
              "      <td>0.012605</td>\n",
              "    </tr>\n",
              "    <tr>\n",
              "      <th>3</th>\n",
              "      <td>01005</td>\n",
              "      <td>Barbour County, Alabama</td>\n",
              "      <td>313.0</td>\n",
              "      <td>9186</td>\n",
              "      <td>0.034074</td>\n",
              "    </tr>\n",
              "    <tr>\n",
              "      <th>4</th>\n",
              "      <td>01007</td>\n",
              "      <td>Bibb County, Alabama</td>\n",
              "      <td>52.0</td>\n",
              "      <td>6840</td>\n",
              "      <td>0.007602</td>\n",
              "    </tr>\n",
              "    <tr>\n",
              "      <th>5</th>\n",
              "      <td>01009</td>\n",
              "      <td>Blount County, Alabama</td>\n",
              "      <td>339.0</td>\n",
              "      <td>20600</td>\n",
              "      <td>0.016456</td>\n",
              "    </tr>\n",
              "  </tbody>\n",
              "</table>\n",
              "</div>"
            ],
            "text/plain": [
              "  GEO_ID                     NAME  ...  total_rooms percentage_overcrowded_rooms\n",
              "1  01001  Autauga County, Alabama  ...        21115                     0.014161\n",
              "2  01003  Baldwin County, Alabama  ...        78622                     0.012605\n",
              "3  01005  Barbour County, Alabama  ...         9186                     0.034074\n",
              "4  01007     Bibb County, Alabama  ...         6840                     0.007602\n",
              "5  01009   Blount County, Alabama  ...        20600                     0.016456\n",
              "\n",
              "[5 rows x 5 columns]"
            ]
          },
          "metadata": {
            "tags": []
          },
          "execution_count": 21
        }
      ]
    },
    {
      "cell_type": "markdown",
      "metadata": {
        "id": "ioTvxfadDUG9"
      },
      "source": [
        "## Calculating Workplaces: Essential Jobs \n",
        "\n",
        "Calculation for % Essential wokers by county (Essential_workers divided by total population of county) performed in Master DF"
      ]
    },
    {
      "cell_type": "code",
      "metadata": {
        "id": "lRIB9jwicrbN"
      },
      "source": [
        "# Keeping only those occupations from occupation_df which are considered essential by the colorado SDI\n",
        "essential_occupation_df = Occupation_df[['GEO_ID','NAME','C24050_002E','C24050_003E','C24050_004E','C24050_005E','C24050_006E','C24050_007E','C24050_011E','C24050_012E','C24050_013E','C24050_024E']]"
      ],
      "execution_count": null,
      "outputs": []
    },
    {
      "cell_type": "code",
      "metadata": {
        "id": "0qu8ZDYmmaYT"
      },
      "source": [
        "# Sum of Essential Workers in each county\n",
        "\n",
        "total_essential_workers_df = psql.sqldf('''\n",
        "SELECT geo_id,\n",
        "  name,\n",
        "  sum(C24050_002E)+sum(C24050_003E)+sum(C24050_004E)+sum(C24050_005E)+(sum(C24050_006E)*0.6)+sum(C24050_007E)+sum(C24050_011E)+(sum(C24050_012E)*0.64)\n",
        "+(sum(C24050_013E)*0.4)+(sum(C24050_024E)*0.18) AS Essential_Workers\n",
        "FROM essential_occupation_df\n",
        "GROUP BY geo_id\n",
        "''').iloc[1:]"
      ],
      "execution_count": null,
      "outputs": []
    },
    {
      "cell_type": "code",
      "metadata": {
        "id": "PRz9HviOLTKU",
        "outputId": "13d63b23-52ed-44f1-97fb-d10b6ef5da57",
        "colab": {
          "base_uri": "https://localhost:8080/",
          "height": 195
        }
      },
      "source": [
        "total_essential_workers_df.head()"
      ],
      "execution_count": null,
      "outputs": [
        {
          "output_type": "execute_result",
          "data": {
            "text/html": [
              "<div>\n",
              "<style scoped>\n",
              "    .dataframe tbody tr th:only-of-type {\n",
              "        vertical-align: middle;\n",
              "    }\n",
              "\n",
              "    .dataframe tbody tr th {\n",
              "        vertical-align: top;\n",
              "    }\n",
              "\n",
              "    .dataframe thead th {\n",
              "        text-align: right;\n",
              "    }\n",
              "</style>\n",
              "<table border=\"1\" class=\"dataframe\">\n",
              "  <thead>\n",
              "    <tr style=\"text-align: right;\">\n",
              "      <th></th>\n",
              "      <th>GEO_ID</th>\n",
              "      <th>NAME</th>\n",
              "      <th>Essential_Workers</th>\n",
              "    </tr>\n",
              "  </thead>\n",
              "  <tbody>\n",
              "    <tr>\n",
              "      <th>1</th>\n",
              "      <td>01001</td>\n",
              "      <td>Autauga County, Alabama</td>\n",
              "      <td>15300.40</td>\n",
              "    </tr>\n",
              "    <tr>\n",
              "      <th>2</th>\n",
              "      <td>01003</td>\n",
              "      <td>Baldwin County, Alabama</td>\n",
              "      <td>60123.62</td>\n",
              "    </tr>\n",
              "    <tr>\n",
              "      <th>3</th>\n",
              "      <td>01005</td>\n",
              "      <td>Barbour County, Alabama</td>\n",
              "      <td>6564.50</td>\n",
              "    </tr>\n",
              "    <tr>\n",
              "      <th>4</th>\n",
              "      <td>01007</td>\n",
              "      <td>Bibb County, Alabama</td>\n",
              "      <td>6041.06</td>\n",
              "    </tr>\n",
              "    <tr>\n",
              "      <th>5</th>\n",
              "      <td>01009</td>\n",
              "      <td>Blount County, Alabama</td>\n",
              "      <td>15216.38</td>\n",
              "    </tr>\n",
              "  </tbody>\n",
              "</table>\n",
              "</div>"
            ],
            "text/plain": [
              "  GEO_ID                     NAME  Essential_Workers\n",
              "1  01001  Autauga County, Alabama           15300.40\n",
              "2  01003  Baldwin County, Alabama           60123.62\n",
              "3  01005  Barbour County, Alabama            6564.50\n",
              "4  01007     Bibb County, Alabama            6041.06\n",
              "5  01009   Blount County, Alabama           15216.38"
            ]
          },
          "metadata": {
            "tags": []
          },
          "execution_count": 24
        }
      ]
    },
    {
      "cell_type": "markdown",
      "metadata": {
        "id": "fznRmE6TiTOD"
      },
      "source": [
        "# Creating Master table\n",
        "[DONE] Join mobility_race dataset to acs datatsets via fips code"
      ]
    },
    {
      "cell_type": "markdown",
      "metadata": {
        "id": "Uc7e-_FXuEGV"
      },
      "source": [
        "Number of null rows in overcrowded = 0\n",
        "\n",
        "Number of null rows in square_miles = 0\n",
        "\n",
        "Number of null rows in essential workers = 1 (Rio Arriba)"
      ]
    },
    {
      "cell_type": "code",
      "metadata": {
        "id": "FsHtRTmNuB4S",
        "outputId": "bd0119b2-affe-44b6-e130-4393f83c07a3",
        "colab": {
          "base_uri": "https://localhost:8080/",
          "height": 84
        }
      },
      "source": [
        "print(f'Overcrowded rows: {len(overcrowded_calc_df)}')\n",
        "print(f'Square Miles rows: {len(square_area_per_county)}')\n",
        "print(f'Essential Workers rows: {len(total_essential_workers_df)}')\n",
        "print(f'Final_df Workers rows: {len(final_df)}')"
      ],
      "execution_count": null,
      "outputs": [
        {
          "output_type": "stream",
          "text": [
            "Overcrowded rows: 3220\n",
            "Square Miles rows: 3233\n",
            "Essential Workers rows: 3220\n",
            "Final_df Workers rows: 2331\n"
          ],
          "name": "stdout"
        }
      ]
    },
    {
      "cell_type": "code",
      "metadata": {
        "id": "h8Ay5CzzwtIA",
        "outputId": "2e8155bd-c412-4779-9e7a-d6745a15a047",
        "colab": {
          "base_uri": "https://localhost:8080/",
          "height": 299
        }
      },
      "source": [
        "final_df.head()"
      ],
      "execution_count": null,
      "outputs": [
        {
          "output_type": "execute_result",
          "data": {
            "text/html": [
              "<div>\n",
              "<style scoped>\n",
              "    .dataframe tbody tr th:only-of-type {\n",
              "        vertical-align: middle;\n",
              "    }\n",
              "\n",
              "    .dataframe tbody tr th {\n",
              "        vertical-align: top;\n",
              "    }\n",
              "\n",
              "    .dataframe thead th {\n",
              "        text-align: right;\n",
              "    }\n",
              "</style>\n",
              "<table border=\"1\" class=\"dataframe\">\n",
              "  <thead>\n",
              "    <tr style=\"text-align: right;\">\n",
              "      <th></th>\n",
              "      <th>fips_code</th>\n",
              "      <th>state</th>\n",
              "      <th>county</th>\n",
              "      <th>total_pop</th>\n",
              "      <th>white_pop</th>\n",
              "      <th>black_pop</th>\n",
              "      <th>asian_pop</th>\n",
              "      <th>hispanic_pop</th>\n",
              "      <th>amerindian_pop</th>\n",
              "      <th>other_race_pop</th>\n",
              "      <th>two_or_more_races_pop</th>\n",
              "      <th>hispanic_any_race</th>\n",
              "      <th>not_hispanic_pop</th>\n",
              "      <th>retail_and_rec</th>\n",
              "      <th>grocery_and_pharmacy</th>\n",
              "      <th>work</th>\n",
              "    </tr>\n",
              "  </thead>\n",
              "  <tbody>\n",
              "    <tr>\n",
              "      <th>0</th>\n",
              "      <td>01001</td>\n",
              "      <td>Alabama</td>\n",
              "      <td>Autauga County</td>\n",
              "      <td>55200.0</td>\n",
              "      <td>41412.0</td>\n",
              "      <td>10475.0</td>\n",
              "      <td>568.0</td>\n",
              "      <td>1528.0</td>\n",
              "      <td>159.0</td>\n",
              "      <td>41.0</td>\n",
              "      <td>1012.0</td>\n",
              "      <td>1528.0</td>\n",
              "      <td>53672.0</td>\n",
              "      <td>-21.307692</td>\n",
              "      <td>7.282051</td>\n",
              "      <td>-35.923077</td>\n",
              "    </tr>\n",
              "    <tr>\n",
              "      <th>1</th>\n",
              "      <td>01003</td>\n",
              "      <td>Alabama</td>\n",
              "      <td>Baldwin County</td>\n",
              "      <td>208107.0</td>\n",
              "      <td>172768.0</td>\n",
              "      <td>19529.0</td>\n",
              "      <td>1668.0</td>\n",
              "      <td>9353.0</td>\n",
              "      <td>1398.0</td>\n",
              "      <td>410.0</td>\n",
              "      <td>2972.0</td>\n",
              "      <td>9353.0</td>\n",
              "      <td>198754.0</td>\n",
              "      <td>-35.410256</td>\n",
              "      <td>-8.589744</td>\n",
              "      <td>-33.589744</td>\n",
              "    </tr>\n",
              "    <tr>\n",
              "      <th>2</th>\n",
              "      <td>01005</td>\n",
              "      <td>Alabama</td>\n",
              "      <td>Barbour County</td>\n",
              "      <td>25782.0</td>\n",
              "      <td>11898.0</td>\n",
              "      <td>12199.0</td>\n",
              "      <td>85.0</td>\n",
              "      <td>1106.0</td>\n",
              "      <td>63.0</td>\n",
              "      <td>86.0</td>\n",
              "      <td>344.0</td>\n",
              "      <td>1106.0</td>\n",
              "      <td>24676.0</td>\n",
              "      <td>-15.750000</td>\n",
              "      <td>-3.200000</td>\n",
              "      <td>-25.102564</td>\n",
              "    </tr>\n",
              "    <tr>\n",
              "      <th>3</th>\n",
              "      <td>01007</td>\n",
              "      <td>Alabama</td>\n",
              "      <td>Bibb County</td>\n",
              "      <td>22527.0</td>\n",
              "      <td>16801.0</td>\n",
              "      <td>4974.0</td>\n",
              "      <td>37.0</td>\n",
              "      <td>547.0</td>\n",
              "      <td>8.0</td>\n",
              "      <td>0.0</td>\n",
              "      <td>160.0</td>\n",
              "      <td>547.0</td>\n",
              "      <td>21980.0</td>\n",
              "      <td>-16.000000</td>\n",
              "      <td>5.200000</td>\n",
              "      <td>-29.717949</td>\n",
              "    </tr>\n",
              "    <tr>\n",
              "      <th>4</th>\n",
              "      <td>01009</td>\n",
              "      <td>Alabama</td>\n",
              "      <td>Blount County</td>\n",
              "      <td>57645.0</td>\n",
              "      <td>50232.0</td>\n",
              "      <td>820.0</td>\n",
              "      <td>198.0</td>\n",
              "      <td>5261.0</td>\n",
              "      <td>124.0</td>\n",
              "      <td>174.0</td>\n",
              "      <td>818.0</td>\n",
              "      <td>5261.0</td>\n",
              "      <td>52384.0</td>\n",
              "      <td>-17.809524</td>\n",
              "      <td>5.083333</td>\n",
              "      <td>-32.794872</td>\n",
              "    </tr>\n",
              "  </tbody>\n",
              "</table>\n",
              "</div>"
            ],
            "text/plain": [
              "  fips_code    state  ... grocery_and_pharmacy       work\n",
              "0     01001  Alabama  ...             7.282051 -35.923077\n",
              "1     01003  Alabama  ...            -8.589744 -33.589744\n",
              "2     01005  Alabama  ...            -3.200000 -25.102564\n",
              "3     01007  Alabama  ...             5.200000 -29.717949\n",
              "4     01009  Alabama  ...             5.083333 -32.794872\n",
              "\n",
              "[5 rows x 16 columns]"
            ]
          },
          "metadata": {
            "tags": []
          },
          "execution_count": 26
        }
      ]
    },
    {
      "cell_type": "code",
      "metadata": {
        "id": "zr6s-qP3wais",
        "outputId": "87013ccc-2ef0-4797-c753-99e610bb9c5f",
        "colab": {
          "base_uri": "https://localhost:8080/",
          "height": 34
        }
      },
      "source": [
        "first_join = pd.merge(final_df, overcrowded_calc_df, \n",
        "              how=\"inner\", \n",
        "              left_on=\"fips_code\", \n",
        "              right_on=\"GEO_ID\",\n",
        "              )\n",
        "len(first_join)"
      ],
      "execution_count": null,
      "outputs": [
        {
          "output_type": "execute_result",
          "data": {
            "text/plain": [
              "2331"
            ]
          },
          "metadata": {
            "tags": []
          },
          "execution_count": 27
        }
      ]
    },
    {
      "cell_type": "code",
      "metadata": {
        "id": "C_uBJktfyVNU",
        "outputId": "ee513fa9-cae5-4ae6-b79b-e90e28f3c06a",
        "colab": {
          "base_uri": "https://localhost:8080/",
          "height": 34
        }
      },
      "source": [
        "second_join = pd.merge(first_join, square_area_per_county, \n",
        "              how=\"inner\", \n",
        "              left_on=\"GEO_ID\", \n",
        "              right_on=\"geo_id\").drop(\"geo_id\", axis = 1)\n",
        "len(second_join)"
      ],
      "execution_count": null,
      "outputs": [
        {
          "output_type": "execute_result",
          "data": {
            "text/plain": [
              "2331"
            ]
          },
          "metadata": {
            "tags": []
          },
          "execution_count": 28
        }
      ]
    },
    {
      "cell_type": "code",
      "metadata": {
        "id": "It0EjKT8yvAy",
        "outputId": "5c9138d4-d3aa-4837-d5d9-065309b2e835",
        "colab": {
          "base_uri": "https://localhost:8080/",
          "height": 34
        }
      },
      "source": [
        "master_df = pd.merge(second_join, total_essential_workers_df, \n",
        "              how=\"inner\", \n",
        "              left_on=\"GEO_ID\", \n",
        "              right_on=\"GEO_ID\")\n",
        "master_df = master_df.drop(\"NAME_y\", axis = 1)\n",
        "len(master_df)"
      ],
      "execution_count": null,
      "outputs": [
        {
          "output_type": "execute_result",
          "data": {
            "text/plain": [
              "2331"
            ]
          },
          "metadata": {
            "tags": []
          },
          "execution_count": 29
        }
      ]
    },
    {
      "cell_type": "code",
      "metadata": {
        "id": "R24ikGkz7HvY",
        "outputId": "ee6b6f7b-be88-4ab5-d5cc-cfee1be236c8",
        "colab": {
          "base_uri": "https://localhost:8080/",
          "height": 383
        }
      },
      "source": [
        "master_df.head()"
      ],
      "execution_count": null,
      "outputs": [
        {
          "output_type": "execute_result",
          "data": {
            "text/html": [
              "<div>\n",
              "<style scoped>\n",
              "    .dataframe tbody tr th:only-of-type {\n",
              "        vertical-align: middle;\n",
              "    }\n",
              "\n",
              "    .dataframe tbody tr th {\n",
              "        vertical-align: top;\n",
              "    }\n",
              "\n",
              "    .dataframe thead th {\n",
              "        text-align: right;\n",
              "    }\n",
              "</style>\n",
              "<table border=\"1\" class=\"dataframe\">\n",
              "  <thead>\n",
              "    <tr style=\"text-align: right;\">\n",
              "      <th></th>\n",
              "      <th>fips_code</th>\n",
              "      <th>state</th>\n",
              "      <th>county</th>\n",
              "      <th>total_pop</th>\n",
              "      <th>white_pop</th>\n",
              "      <th>black_pop</th>\n",
              "      <th>asian_pop</th>\n",
              "      <th>hispanic_pop</th>\n",
              "      <th>amerindian_pop</th>\n",
              "      <th>other_race_pop</th>\n",
              "      <th>two_or_more_races_pop</th>\n",
              "      <th>hispanic_any_race</th>\n",
              "      <th>not_hispanic_pop</th>\n",
              "      <th>retail_and_rec</th>\n",
              "      <th>grocery_and_pharmacy</th>\n",
              "      <th>work</th>\n",
              "      <th>GEO_ID</th>\n",
              "      <th>NAME_x</th>\n",
              "      <th>rooms_with_multiple_occupants</th>\n",
              "      <th>total_rooms</th>\n",
              "      <th>percentage_overcrowded_rooms</th>\n",
              "      <th>square_miles</th>\n",
              "      <th>Essential_Workers</th>\n",
              "    </tr>\n",
              "  </thead>\n",
              "  <tbody>\n",
              "    <tr>\n",
              "      <th>0</th>\n",
              "      <td>01001</td>\n",
              "      <td>Alabama</td>\n",
              "      <td>Autauga County</td>\n",
              "      <td>55200.0</td>\n",
              "      <td>41412.0</td>\n",
              "      <td>10475.0</td>\n",
              "      <td>568.0</td>\n",
              "      <td>1528.0</td>\n",
              "      <td>159.0</td>\n",
              "      <td>41.0</td>\n",
              "      <td>1012.0</td>\n",
              "      <td>1528.0</td>\n",
              "      <td>53672.0</td>\n",
              "      <td>-21.307692</td>\n",
              "      <td>7.282051</td>\n",
              "      <td>-35.923077</td>\n",
              "      <td>01001</td>\n",
              "      <td>Autauga County, Alabama</td>\n",
              "      <td>299.0</td>\n",
              "      <td>21115</td>\n",
              "      <td>0.014161</td>\n",
              "      <td>5.930671e+08</td>\n",
              "      <td>15300.40</td>\n",
              "    </tr>\n",
              "    <tr>\n",
              "      <th>1</th>\n",
              "      <td>01003</td>\n",
              "      <td>Alabama</td>\n",
              "      <td>Baldwin County</td>\n",
              "      <td>208107.0</td>\n",
              "      <td>172768.0</td>\n",
              "      <td>19529.0</td>\n",
              "      <td>1668.0</td>\n",
              "      <td>9353.0</td>\n",
              "      <td>1398.0</td>\n",
              "      <td>410.0</td>\n",
              "      <td>2972.0</td>\n",
              "      <td>9353.0</td>\n",
              "      <td>198754.0</td>\n",
              "      <td>-35.410256</td>\n",
              "      <td>-8.589744</td>\n",
              "      <td>-33.589744</td>\n",
              "      <td>01003</td>\n",
              "      <td>Baldwin County, Alabama</td>\n",
              "      <td>991.0</td>\n",
              "      <td>78622</td>\n",
              "      <td>0.012605</td>\n",
              "      <td>1.586141e+09</td>\n",
              "      <td>60123.62</td>\n",
              "    </tr>\n",
              "    <tr>\n",
              "      <th>2</th>\n",
              "      <td>01005</td>\n",
              "      <td>Alabama</td>\n",
              "      <td>Barbour County</td>\n",
              "      <td>25782.0</td>\n",
              "      <td>11898.0</td>\n",
              "      <td>12199.0</td>\n",
              "      <td>85.0</td>\n",
              "      <td>1106.0</td>\n",
              "      <td>63.0</td>\n",
              "      <td>86.0</td>\n",
              "      <td>344.0</td>\n",
              "      <td>1106.0</td>\n",
              "      <td>24676.0</td>\n",
              "      <td>-15.750000</td>\n",
              "      <td>-3.200000</td>\n",
              "      <td>-25.102564</td>\n",
              "      <td>01005</td>\n",
              "      <td>Barbour County, Alabama</td>\n",
              "      <td>313.0</td>\n",
              "      <td>9186</td>\n",
              "      <td>0.034074</td>\n",
              "      <td>8.829585e+08</td>\n",
              "      <td>6564.50</td>\n",
              "    </tr>\n",
              "    <tr>\n",
              "      <th>3</th>\n",
              "      <td>01007</td>\n",
              "      <td>Alabama</td>\n",
              "      <td>Bibb County</td>\n",
              "      <td>22527.0</td>\n",
              "      <td>16801.0</td>\n",
              "      <td>4974.0</td>\n",
              "      <td>37.0</td>\n",
              "      <td>547.0</td>\n",
              "      <td>8.0</td>\n",
              "      <td>0.0</td>\n",
              "      <td>160.0</td>\n",
              "      <td>547.0</td>\n",
              "      <td>21980.0</td>\n",
              "      <td>-16.000000</td>\n",
              "      <td>5.200000</td>\n",
              "      <td>-29.717949</td>\n",
              "      <td>01007</td>\n",
              "      <td>Bibb County, Alabama</td>\n",
              "      <td>52.0</td>\n",
              "      <td>6840</td>\n",
              "      <td>0.007602</td>\n",
              "      <td>6.210198e+08</td>\n",
              "      <td>6041.06</td>\n",
              "    </tr>\n",
              "    <tr>\n",
              "      <th>4</th>\n",
              "      <td>01009</td>\n",
              "      <td>Alabama</td>\n",
              "      <td>Blount County</td>\n",
              "      <td>57645.0</td>\n",
              "      <td>50232.0</td>\n",
              "      <td>820.0</td>\n",
              "      <td>198.0</td>\n",
              "      <td>5261.0</td>\n",
              "      <td>124.0</td>\n",
              "      <td>174.0</td>\n",
              "      <td>818.0</td>\n",
              "      <td>5261.0</td>\n",
              "      <td>52384.0</td>\n",
              "      <td>-17.809524</td>\n",
              "      <td>5.083333</td>\n",
              "      <td>-32.794872</td>\n",
              "      <td>01009</td>\n",
              "      <td>Blount County, Alabama</td>\n",
              "      <td>339.0</td>\n",
              "      <td>20600</td>\n",
              "      <td>0.016456</td>\n",
              "      <td>6.433374e+08</td>\n",
              "      <td>15216.38</td>\n",
              "    </tr>\n",
              "  </tbody>\n",
              "</table>\n",
              "</div>"
            ],
            "text/plain": [
              "  fips_code    state  ...  square_miles  Essential_Workers\n",
              "0     01001  Alabama  ...  5.930671e+08           15300.40\n",
              "1     01003  Alabama  ...  1.586141e+09           60123.62\n",
              "2     01005  Alabama  ...  8.829585e+08            6564.50\n",
              "3     01007  Alabama  ...  6.210198e+08            6041.06\n",
              "4     01009  Alabama  ...  6.433374e+08           15216.38\n",
              "\n",
              "[5 rows x 23 columns]"
            ]
          },
          "metadata": {
            "tags": []
          },
          "execution_count": 30
        }
      ]
    },
    {
      "cell_type": "markdown",
      "metadata": {
        "id": "g46lwMkw0kCa"
      },
      "source": [
        "# Calculations: Second Round\n",
        "\n",
        "- Population density: total_pop / square_miles\n",
        "- % Essential workers: Essential_workers / total_pop\n",
        "- Black, White, Asian, etc.: {black/white/asian/etc}_pop/ total_pop"
      ]
    },
    {
      "cell_type": "markdown",
      "metadata": {
        "id": "s54nkCm9KDA1"
      },
      "source": [
        "## Calculating Population Density"
      ]
    },
    {
      "cell_type": "code",
      "metadata": {
        "id": "1c0OXBAcFCTi",
        "outputId": "cd7d47e4-2374-4ebb-eede-9004499a0b34",
        "colab": {
          "base_uri": "https://localhost:8080/",
          "height": 252
        }
      },
      "source": [
        "# Calculating population density\n",
        "\n",
        "master_df['pop_density'] = master_df['total_pop']/ master_df['square_miles']\n",
        "\n",
        "print(master_df)"
      ],
      "execution_count": null,
      "outputs": [
        {
          "output_type": "stream",
          "text": [
            "     fips_code    state  ... Essential_Workers  pop_density\n",
            "0        01001  Alabama  ...          15300.40     0.000093\n",
            "1        01003  Alabama  ...          60123.62     0.000131\n",
            "2        01005  Alabama  ...           6564.50     0.000029\n",
            "3        01007  Alabama  ...           6041.06     0.000036\n",
            "4        01009  Alabama  ...          15216.38     0.000090\n",
            "...        ...      ...  ...               ...          ...\n",
            "2326     56035  Wyoming  ...           4055.62     0.000002\n",
            "2327     56037  Wyoming  ...          16966.26     0.000004\n",
            "2328     56039  Wyoming  ...           8952.00     0.000006\n",
            "2329     56041  Wyoming  ...           7342.78     0.000010\n",
            "2330     56043  Wyoming  ...           2834.02     0.000004\n",
            "\n",
            "[2331 rows x 24 columns]\n"
          ],
          "name": "stdout"
        }
      ]
    },
    {
      "cell_type": "markdown",
      "metadata": {
        "id": "6150GSj2KP51"
      },
      "source": [
        "## Calculating % Essential workers by County"
      ]
    },
    {
      "cell_type": "code",
      "metadata": {
        "id": "j4hgbmO9Gi4W"
      },
      "source": [
        "# Calculating % of essential workers\n",
        "\n",
        "master_df['percent_essential_workers'] = master_df['Essential_Workers']/master_df['total_pop']"
      ],
      "execution_count": null,
      "outputs": []
    },
    {
      "cell_type": "markdown",
      "metadata": {
        "id": "A0pdZgdqKmVV"
      },
      "source": [
        "## Calculating % Race by County"
      ]
    },
    {
      "cell_type": "code",
      "metadata": {
        "id": "2VljJk7mHm88",
        "outputId": "1bb605c6-e3ce-4fa6-81d4-c6888546cbab",
        "colab": {
          "base_uri": "https://localhost:8080/",
          "height": 252
        }
      },
      "source": [
        "# Calculating %'s of races within counties\n",
        "\n",
        "\n",
        "race_list = ['white_pop','black_pop','asian_pop','hispanic_pop',\t'amerindian_pop',\t'other_race_pop',\t'two_or_more_races_pop',\t'hispanic_any_race',\t'not_hispanic_pop']\n",
        "\n",
        "for i in race_list:\n",
        "  column_name = i + '_percent'\n",
        "  master_df[column_name] = master_df[i]/master_df['total_pop']\n",
        "\n",
        "print(master_df)  "
      ],
      "execution_count": null,
      "outputs": [
        {
          "output_type": "stream",
          "text": [
            "     fips_code    state  ... hispanic_any_race_percent  not_hispanic_pop_percent\n",
            "0        01001  Alabama  ...                  0.027681                  0.972319\n",
            "1        01003  Alabama  ...                  0.044943                  0.955057\n",
            "2        01005  Alabama  ...                  0.042898                  0.957102\n",
            "3        01007  Alabama  ...                  0.024282                  0.975718\n",
            "4        01009  Alabama  ...                  0.091266                  0.908734\n",
            "...        ...      ...  ...                       ...                       ...\n",
            "2326     56035  Wyoming  ...                  0.073460                  0.926540\n",
            "2327     56037  Wyoming  ...                  0.159621                  0.840379\n",
            "2328     56039  Wyoming  ...                  0.148879                  0.851121\n",
            "2329     56041  Wyoming  ...                  0.091416                  0.908584\n",
            "2330     56043  Wyoming  ...                  0.141838                  0.858162\n",
            "\n",
            "[2331 rows x 34 columns]\n"
          ],
          "name": "stdout"
        }
      ]
    },
    {
      "cell_type": "markdown",
      "metadata": {
        "id": "tyPyISk_ikko"
      },
      "source": [
        "# Calcuating final SDI\n",
        "[TODO] Calculate final score\n",
        "\n",
        "The Final Social Distance Index values represent:\n",
        "* Maximum capacity for Social Distancing (Index Value = 0)\n",
        "* Maximum capacity for Social Distancing (Index value = Max)\n",
        "\n",
        "i.e. as the overall Social Distance Index value increase, so to does a county's capacity for observing Social Distancing\n",
        "\n",
        "**Change in Travel(s):** \n",
        "Ranked on a 5 point scale normalized to that specific type of travel's distribution, where 5=max, 1=min\n",
        "\n",
        "**Overcrowded Rooms: ** \n",
        "Ranked on a 10 point scale, where 10= min, 0=max (see Colorado Social Index) - i.e. the more crowded rooms there are, the less capacity for Social Distancing (thus the inverse ranking)\n",
        "\n",
        "\n",
        "**Pop Density: ** \n",
        "Ranked on a 10 point scale, where 10= min, 0=max (see Colorado Social Index)- i.e. the higher the density, the less capacity for Social Distancing (thus the inverse ranking) \n",
        "\n",
        "\n",
        "**Percent Essential Workers: ** \n",
        "Ranked on a 10 point scale, where 10= min, 0=max (see Colorado Social Index) - i.e. the higher proportion of essential workers, the less capacity for Social Distancing (thus the inverse ranking) as they will potentially be in greater direct & indirect contact with others\n"
      ]
    },
    {
      "cell_type": "markdown",
      "metadata": {
        "id": "oULQkCtQ0K5c"
      },
      "source": [
        "### Starter functions"
      ]
    },
    {
      "cell_type": "code",
      "metadata": {
        "id": "e6Mqe53bzbWP"
      },
      "source": [
        "# Function that will allos us to get the values corresponding \n",
        "# to the 10 bins of a distribution of values\n",
        "\n",
        "def get_thresholds_10(x):\n",
        "  # This gives us the thresholds for a series\n",
        "  th10 = np.nanpercentile(x,10)\n",
        "  th20 = np.nanpercentile(x,20)\n",
        "  th30 = np.nanpercentile(x,30)\n",
        "  th30 = np.nanpercentile(x,30)\n",
        "  th40 = np.nanpercentile(x,40)\n",
        "  th50 = np.nanpercentile(x,50)\n",
        "  th60 = np.nanpercentile(x,60)\n",
        "  th70 = np.nanpercentile(x,70)\n",
        "  th80 = np.nanpercentile(x,80)\n",
        "  th90 = np.nanpercentile(x,90)\n",
        "\n",
        "  return [th10, th20, th30, th40, th50, th60, th70, th80, th90]\n"
      ],
      "execution_count": null,
      "outputs": []
    },
    {
      "cell_type": "code",
      "metadata": {
        "id": "8hozN67AzY4V"
      },
      "source": [
        "# Function that will be used to assign points\n",
        "# based on the percentile a county's value falls\n",
        "# More points, indicates a positive contribution to Social Distancing\n",
        "# Less points, correspond to a negative contribution to SOcial Distancing \n",
        "\n",
        "def assign_points_10(x, thresholds_list):\n",
        "  # Assign points to thresholds\n",
        "  if x <= thresholds_list[0]: \n",
        "    return 10\n",
        "  elif thresholds_list[0] < x and x <= thresholds_list[1]:\n",
        "    return 9\n",
        "  elif thresholds_list[1] < x and x <= thresholds_list[2]:\n",
        "    return 8\n",
        "  elif thresholds_list[2] < x and x <= thresholds_list[3]:\n",
        "    return 7\n",
        "  elif thresholds_list[3] < x and x <= thresholds_list[4]:\n",
        "    return 6\n",
        "  elif thresholds_list[4] < x and x <= thresholds_list[5]:\n",
        "    return 5\n",
        "  elif thresholds_list[5] < x and x <= thresholds_list[6]:\n",
        "    return 4\n",
        "  elif thresholds_list[6] < x and x <= thresholds_list[7]:\n",
        "    return 3\n",
        "  elif thresholds_list[7] < x and x <= thresholds_list[8]:\n",
        "    return 2\n",
        "  elif thresholds_list[8] < x:\n",
        "    return 1\n",
        "  else:\n",
        "    return np.nan"
      ],
      "execution_count": null,
      "outputs": []
    },
    {
      "cell_type": "code",
      "metadata": {
        "id": "cB9pd3c82r3E"
      },
      "source": [
        "def assign_points_5_up(x, thresholds_list):\n",
        "  # Assign points to thresholds\n",
        "  if x <= thresholds_list[1]: \n",
        "    return 5\n",
        "  elif thresholds_list[1] < x and x <= thresholds_list[3]:\n",
        "    return 4\n",
        "  elif thresholds_list[3] < x and x <= thresholds_list[5]:\n",
        "    return 3\n",
        "  elif thresholds_list[5] < x and x <= thresholds_list[7]:\n",
        "    return 2\n",
        "  elif thresholds_list[7] < x:\n",
        "    return 1\n",
        "  else:\n",
        "    return np.nan"
      ],
      "execution_count": null,
      "outputs": []
    },
    {
      "cell_type": "code",
      "metadata": {
        "id": "pod21XXv2txL"
      },
      "source": [
        "def assign_points_5_down(x, thresholds_list):\n",
        "  # Assign points to thresholds\n",
        "  if x <= thresholds_list[1]: \n",
        "    return 1\n",
        "  elif thresholds_list[1] < x and x <= thresholds_list[3]:\n",
        "    return 2\n",
        "  elif thresholds_list[3] < x and x <= thresholds_list[5]:\n",
        "    return 3\n",
        "  elif thresholds_list[5] < x and x <= thresholds_list[7]:\n",
        "    return 4\n",
        "  elif thresholds_list[7] < x:\n",
        "    return 5\n",
        "  else:\n",
        "    return np.nan"
      ],
      "execution_count": null,
      "outputs": []
    },
    {
      "cell_type": "markdown",
      "metadata": {
        "id": "lMRRo4amzEVB"
      },
      "source": [
        "## Step 1: Calculating the variables corresponding to the Coloado Social Index \n",
        "\n",
        "- Overcrowded Rooms\n",
        "- Pop Density\n",
        "- Percent Essential Workers\n",
        "\n"
      ]
    },
    {
      "cell_type": "code",
      "metadata": {
        "id": "nmFKAdxW0VB9"
      },
      "source": [
        "master_df_10pts = master_df[['GEO_ID','percent_essential_workers','pop_density','percentage_overcrowded_rooms']].copy()"
      ],
      "execution_count": null,
      "outputs": []
    },
    {
      "cell_type": "markdown",
      "metadata": {
        "id": "HsvmP8830OM9"
      },
      "source": [
        "### Assigning points to 'percent_essential_workers' by % percentile rank"
      ]
    },
    {
      "cell_type": "code",
      "metadata": {
        "id": "sgGkPd870Ioc"
      },
      "source": [
        "# Assigning points to 'percent_essential_workers' by % percentile rank\n",
        "\n",
        "essential_workers_thesholds = master_df_10pts[['percent_essential_workers']].apply(get_thresholds_10)\n",
        "master_df_10pts['percent_essential_workers_withPoints'] = master_df_10pts['percent_essential_workers'].apply(assign_points_10, thresholds_list=essential_workers_thesholds[0])"
      ],
      "execution_count": null,
      "outputs": []
    },
    {
      "cell_type": "markdown",
      "metadata": {
        "id": "h5Q7IcSv0e5Y"
      },
      "source": [
        "### Assigning points to 'pop_density' by % percentile rank"
      ]
    },
    {
      "cell_type": "code",
      "metadata": {
        "id": "fsnITyRI0j_c"
      },
      "source": [
        "pop_density_thesholds = master_df_10pts[['pop_density']].apply(get_thresholds_10)\n",
        "master_df_10pts['pop_densitys_withPoints'] = master_df_10pts['pop_density'].apply(assign_points_10, thresholds_list=pop_density_thesholds[0])"
      ],
      "execution_count": null,
      "outputs": []
    },
    {
      "cell_type": "markdown",
      "metadata": {
        "id": "oziltjCj0mfH"
      },
      "source": [
        "### Assigning points to 'percentage_overcrowded_rooms' by % percentile rank"
      ]
    },
    {
      "cell_type": "code",
      "metadata": {
        "id": "vgsZMCn-0p9K"
      },
      "source": [
        "percentage_overcrowded_rooms_thesholds = master_df_10pts[['percentage_overcrowded_rooms']].apply(get_thresholds_10)\n",
        "master_df_10pts['percentage_overcrowded_rooms_withPoints'] = master_df_10pts['percentage_overcrowded_rooms'].apply(assign_points_10, thresholds_list=percentage_overcrowded_rooms_thesholds[0])\n"
      ],
      "execution_count": null,
      "outputs": []
    },
    {
      "cell_type": "markdown",
      "metadata": {
        "id": "vH-KlD4Y0xI7"
      },
      "source": [
        "### Check\n",
        "\n",
        "We need to confirm that the points were correctly assigned by the %tile by matching against the dataframe %tiles"
      ]
    },
    {
      "cell_type": "code",
      "metadata": {
        "id": "O2qoyRqs01vP",
        "outputId": "96772514-23b9-4dea-f951-e352f0c88d87",
        "colab": {
          "base_uri": "https://localhost:8080/",
          "height": 304
        }
      },
      "source": [
        "master_df_10pts.describe()"
      ],
      "execution_count": null,
      "outputs": [
        {
          "output_type": "execute_result",
          "data": {
            "text/html": [
              "<div>\n",
              "<style scoped>\n",
              "    .dataframe tbody tr th:only-of-type {\n",
              "        vertical-align: middle;\n",
              "    }\n",
              "\n",
              "    .dataframe tbody tr th {\n",
              "        vertical-align: top;\n",
              "    }\n",
              "\n",
              "    .dataframe thead th {\n",
              "        text-align: right;\n",
              "    }\n",
              "</style>\n",
              "<table border=\"1\" class=\"dataframe\">\n",
              "  <thead>\n",
              "    <tr style=\"text-align: right;\">\n",
              "      <th></th>\n",
              "      <th>percent_essential_workers</th>\n",
              "      <th>pop_density</th>\n",
              "      <th>percentage_overcrowded_rooms</th>\n",
              "      <th>percent_essential_workers_withPoints</th>\n",
              "      <th>pop_densitys_withPoints</th>\n",
              "      <th>percentage_overcrowded_rooms_withPoints</th>\n",
              "    </tr>\n",
              "  </thead>\n",
              "  <tbody>\n",
              "    <tr>\n",
              "      <th>count</th>\n",
              "      <td>2330.000000</td>\n",
              "      <td>2.331000e+03</td>\n",
              "      <td>2331.000000</td>\n",
              "      <td>2330.000000</td>\n",
              "      <td>2331.000000</td>\n",
              "      <td>2331.000000</td>\n",
              "    </tr>\n",
              "    <tr>\n",
              "      <th>mean</th>\n",
              "      <td>0.312661</td>\n",
              "      <td>3.103692e-04</td>\n",
              "      <td>0.024176</td>\n",
              "      <td>5.500000</td>\n",
              "      <td>5.501931</td>\n",
              "      <td>5.501931</td>\n",
              "    </tr>\n",
              "    <tr>\n",
              "      <th>std</th>\n",
              "      <td>0.045465</td>\n",
              "      <td>2.036831e-03</td>\n",
              "      <td>0.017435</td>\n",
              "      <td>2.872898</td>\n",
              "      <td>2.873793</td>\n",
              "      <td>2.873793</td>\n",
              "    </tr>\n",
              "    <tr>\n",
              "      <th>min</th>\n",
              "      <td>0.107733</td>\n",
              "      <td>7.148673e-07</td>\n",
              "      <td>0.000000</td>\n",
              "      <td>1.000000</td>\n",
              "      <td>1.000000</td>\n",
              "      <td>1.000000</td>\n",
              "    </tr>\n",
              "    <tr>\n",
              "      <th>25%</th>\n",
              "      <td>0.283870</td>\n",
              "      <td>3.211496e-05</td>\n",
              "      <td>0.013348</td>\n",
              "      <td>3.000000</td>\n",
              "      <td>3.000000</td>\n",
              "      <td>3.000000</td>\n",
              "    </tr>\n",
              "    <tr>\n",
              "      <th>50%</th>\n",
              "      <td>0.313111</td>\n",
              "      <td>6.679775e-05</td>\n",
              "      <td>0.019651</td>\n",
              "      <td>5.500000</td>\n",
              "      <td>6.000000</td>\n",
              "      <td>6.000000</td>\n",
              "    </tr>\n",
              "    <tr>\n",
              "      <th>75%</th>\n",
              "      <td>0.340877</td>\n",
              "      <td>1.631648e-04</td>\n",
              "      <td>0.029070</td>\n",
              "      <td>8.000000</td>\n",
              "      <td>8.000000</td>\n",
              "      <td>8.000000</td>\n",
              "    </tr>\n",
              "    <tr>\n",
              "      <th>max</th>\n",
              "      <td>0.459795</td>\n",
              "      <td>7.220791e-02</td>\n",
              "      <td>0.181158</td>\n",
              "      <td>10.000000</td>\n",
              "      <td>10.000000</td>\n",
              "      <td>10.000000</td>\n",
              "    </tr>\n",
              "  </tbody>\n",
              "</table>\n",
              "</div>"
            ],
            "text/plain": [
              "       percent_essential_workers  ...  percentage_overcrowded_rooms_withPoints\n",
              "count                2330.000000  ...                              2331.000000\n",
              "mean                    0.312661  ...                                 5.501931\n",
              "std                     0.045465  ...                                 2.873793\n",
              "min                     0.107733  ...                                 1.000000\n",
              "25%                     0.283870  ...                                 3.000000\n",
              "50%                     0.313111  ...                                 6.000000\n",
              "75%                     0.340877  ...                                 8.000000\n",
              "max                     0.459795  ...                                10.000000\n",
              "\n",
              "[8 rows x 6 columns]"
            ]
          },
          "metadata": {
            "tags": []
          },
          "execution_count": 42
        }
      ]
    },
    {
      "cell_type": "code",
      "metadata": {
        "id": "oOAXpuoW00Hd",
        "outputId": "4b3b8bb7-a184-47a8-ec9c-440830c2f0d4",
        "colab": {
          "base_uri": "https://localhost:8080/",
          "height": 363
        }
      },
      "source": [
        "master_df_10pts.head(10)"
      ],
      "execution_count": null,
      "outputs": [
        {
          "output_type": "execute_result",
          "data": {
            "text/html": [
              "<div>\n",
              "<style scoped>\n",
              "    .dataframe tbody tr th:only-of-type {\n",
              "        vertical-align: middle;\n",
              "    }\n",
              "\n",
              "    .dataframe tbody tr th {\n",
              "        vertical-align: top;\n",
              "    }\n",
              "\n",
              "    .dataframe thead th {\n",
              "        text-align: right;\n",
              "    }\n",
              "</style>\n",
              "<table border=\"1\" class=\"dataframe\">\n",
              "  <thead>\n",
              "    <tr style=\"text-align: right;\">\n",
              "      <th></th>\n",
              "      <th>GEO_ID</th>\n",
              "      <th>percent_essential_workers</th>\n",
              "      <th>pop_density</th>\n",
              "      <th>percentage_overcrowded_rooms</th>\n",
              "      <th>percent_essential_workers_withPoints</th>\n",
              "      <th>pop_densitys_withPoints</th>\n",
              "      <th>percentage_overcrowded_rooms_withPoints</th>\n",
              "    </tr>\n",
              "  </thead>\n",
              "  <tbody>\n",
              "    <tr>\n",
              "      <th>0</th>\n",
              "      <td>01001</td>\n",
              "      <td>0.277181</td>\n",
              "      <td>0.000093</td>\n",
              "      <td>0.014161</td>\n",
              "      <td>8.0</td>\n",
              "      <td>4</td>\n",
              "      <td>8</td>\n",
              "    </tr>\n",
              "    <tr>\n",
              "      <th>1</th>\n",
              "      <td>01003</td>\n",
              "      <td>0.288907</td>\n",
              "      <td>0.000131</td>\n",
              "      <td>0.012605</td>\n",
              "      <td>8.0</td>\n",
              "      <td>3</td>\n",
              "      <td>8</td>\n",
              "    </tr>\n",
              "    <tr>\n",
              "      <th>2</th>\n",
              "      <td>01005</td>\n",
              "      <td>0.254616</td>\n",
              "      <td>0.000029</td>\n",
              "      <td>0.034074</td>\n",
              "      <td>10.0</td>\n",
              "      <td>8</td>\n",
              "      <td>2</td>\n",
              "    </tr>\n",
              "    <tr>\n",
              "      <th>3</th>\n",
              "      <td>01007</td>\n",
              "      <td>0.268170</td>\n",
              "      <td>0.000036</td>\n",
              "      <td>0.007602</td>\n",
              "      <td>9.0</td>\n",
              "      <td>8</td>\n",
              "      <td>10</td>\n",
              "    </tr>\n",
              "    <tr>\n",
              "      <th>4</th>\n",
              "      <td>01009</td>\n",
              "      <td>0.263967</td>\n",
              "      <td>0.000090</td>\n",
              "      <td>0.016456</td>\n",
              "      <td>9.0</td>\n",
              "      <td>4</td>\n",
              "      <td>7</td>\n",
              "    </tr>\n",
              "    <tr>\n",
              "      <th>5</th>\n",
              "      <td>01011</td>\n",
              "      <td>0.298196</td>\n",
              "      <td>0.000017</td>\n",
              "      <td>0.000000</td>\n",
              "      <td>7.0</td>\n",
              "      <td>9</td>\n",
              "      <td>10</td>\n",
              "    </tr>\n",
              "    <tr>\n",
              "      <th>6</th>\n",
              "      <td>01013</td>\n",
              "      <td>0.294486</td>\n",
              "      <td>0.000026</td>\n",
              "      <td>0.017740</td>\n",
              "      <td>7.0</td>\n",
              "      <td>9</td>\n",
              "      <td>6</td>\n",
              "    </tr>\n",
              "    <tr>\n",
              "      <th>7</th>\n",
              "      <td>01015</td>\n",
              "      <td>0.289382</td>\n",
              "      <td>0.000190</td>\n",
              "      <td>0.017143</td>\n",
              "      <td>8.0</td>\n",
              "      <td>3</td>\n",
              "      <td>6</td>\n",
              "    </tr>\n",
              "    <tr>\n",
              "      <th>8</th>\n",
              "      <td>01017</td>\n",
              "      <td>0.315131</td>\n",
              "      <td>0.000057</td>\n",
              "      <td>0.029891</td>\n",
              "      <td>5.0</td>\n",
              "      <td>6</td>\n",
              "      <td>3</td>\n",
              "    </tr>\n",
              "    <tr>\n",
              "      <th>9</th>\n",
              "      <td>01019</td>\n",
              "      <td>0.300466</td>\n",
              "      <td>0.000047</td>\n",
              "      <td>0.014614</td>\n",
              "      <td>7.0</td>\n",
              "      <td>7</td>\n",
              "      <td>7</td>\n",
              "    </tr>\n",
              "  </tbody>\n",
              "</table>\n",
              "</div>"
            ],
            "text/plain": [
              "  GEO_ID  ...  percentage_overcrowded_rooms_withPoints\n",
              "0  01001  ...                                        8\n",
              "1  01003  ...                                        8\n",
              "2  01005  ...                                        2\n",
              "3  01007  ...                                       10\n",
              "4  01009  ...                                        7\n",
              "5  01011  ...                                       10\n",
              "6  01013  ...                                        6\n",
              "7  01015  ...                                        6\n",
              "8  01017  ...                                        3\n",
              "9  01019  ...                                        7\n",
              "\n",
              "[10 rows x 7 columns]"
            ]
          },
          "metadata": {
            "tags": []
          },
          "execution_count": 43
        }
      ]
    },
    {
      "cell_type": "markdown",
      "metadata": {
        "id": "QlPMliRj2-PY"
      },
      "source": [
        "## Step 2: Calculating variables corresponding to Travel types"
      ]
    },
    {
      "cell_type": "code",
      "metadata": {
        "id": "IHlPD-qQ51e8"
      },
      "source": [
        "master_df_5pts = master_df[['GEO_ID','retail_and_rec', 'grocery_and_pharmacy', 'work',]].copy()"
      ],
      "execution_count": null,
      "outputs": []
    },
    {
      "cell_type": "markdown",
      "metadata": {
        "id": "KVDCxPwI59N1"
      },
      "source": [
        "### Assigning points to 'retail_and_rec' by % percentile rank"
      ]
    },
    {
      "cell_type": "code",
      "metadata": {
        "id": "KOkoIeho4O9U"
      },
      "source": [
        "# Assigning points to 'retail_and_rec' by % percentile rank\n",
        "\n",
        "retail_and_rec_thesholds = master_df_5pts[['retail_and_rec']].apply(get_thresholds_10)\n",
        "master_df_5pts['retail_and_rec_withPoints'] = master_df_5pts['retail_and_rec'].apply(assign_points_10, thresholds_list=retail_and_rec_thesholds[0])"
      ],
      "execution_count": null,
      "outputs": []
    },
    {
      "cell_type": "markdown",
      "metadata": {
        "id": "4tHZkq6W6GuE"
      },
      "source": [
        "### Assigning points to 'grocery_and_pharmacy' by % percentile rank"
      ]
    },
    {
      "cell_type": "code",
      "metadata": {
        "id": "HQ-oHtWR6OPh"
      },
      "source": [
        "# Assigning points to 'grocery_and_pharmacy' by % percentile rank\n",
        "\n",
        "grocery_and_pharmacy_thesholds = master_df_5pts[['grocery_and_pharmacy']].apply(get_thresholds_10)\n",
        "master_df_5pts['grocery_and_pharmacy_withPoints'] = master_df_5pts['grocery_and_pharmacy'].apply(assign_points_10, thresholds_list=grocery_and_pharmacy_thesholds[0])"
      ],
      "execution_count": null,
      "outputs": []
    },
    {
      "cell_type": "markdown",
      "metadata": {
        "id": "8zaT5-Et6hI6"
      },
      "source": [
        "### Assigning points to 'work' by % percentile rank"
      ]
    },
    {
      "cell_type": "code",
      "metadata": {
        "id": "jIuZ3oDZ625e"
      },
      "source": [
        "work_thesholds = master_df_5pts[['work']].apply(get_thresholds_10)\n",
        "master_df_5pts['work_withPoints'] = master_df_5pts['work'].apply(assign_points_10, thresholds_list=work_thesholds[0])"
      ],
      "execution_count": null,
      "outputs": []
    },
    {
      "cell_type": "markdown",
      "metadata": {
        "id": "Px9P1tTu68fo"
      },
      "source": [
        "### Check Results\n",
        "\n",
        "We need to confirm that the points were correctly assigned by the %tile by matching against the dataframe %tiles"
      ]
    },
    {
      "cell_type": "code",
      "metadata": {
        "id": "9TC04rYb7PaF",
        "outputId": "1910bbed-3373-4fda-e46d-41424f11efc5",
        "colab": {
          "base_uri": "https://localhost:8080/",
          "height": 284
        }
      },
      "source": [
        "master_df_5pts.describe()"
      ],
      "execution_count": null,
      "outputs": [
        {
          "output_type": "execute_result",
          "data": {
            "text/html": [
              "<div>\n",
              "<style scoped>\n",
              "    .dataframe tbody tr th:only-of-type {\n",
              "        vertical-align: middle;\n",
              "    }\n",
              "\n",
              "    .dataframe tbody tr th {\n",
              "        vertical-align: top;\n",
              "    }\n",
              "\n",
              "    .dataframe thead th {\n",
              "        text-align: right;\n",
              "    }\n",
              "</style>\n",
              "<table border=\"1\" class=\"dataframe\">\n",
              "  <thead>\n",
              "    <tr style=\"text-align: right;\">\n",
              "      <th></th>\n",
              "      <th>retail_and_rec</th>\n",
              "      <th>grocery_and_pharmacy</th>\n",
              "      <th>work</th>\n",
              "      <th>retail_and_rec_withPoints</th>\n",
              "      <th>grocery_and_pharmacy_withPoints</th>\n",
              "      <th>work_withPoints</th>\n",
              "    </tr>\n",
              "  </thead>\n",
              "  <tbody>\n",
              "    <tr>\n",
              "      <th>count</th>\n",
              "      <td>2331.000000</td>\n",
              "      <td>2331.000000</td>\n",
              "      <td>2331.000000</td>\n",
              "      <td>2331.000000</td>\n",
              "      <td>2331.000000</td>\n",
              "      <td>2331.000000</td>\n",
              "    </tr>\n",
              "    <tr>\n",
              "      <th>mean</th>\n",
              "      <td>-31.842732</td>\n",
              "      <td>-4.460146</td>\n",
              "      <td>-35.916110</td>\n",
              "      <td>5.507937</td>\n",
              "      <td>5.506650</td>\n",
              "      <td>5.501931</td>\n",
              "    </tr>\n",
              "    <tr>\n",
              "      <th>std</th>\n",
              "      <td>13.151460</td>\n",
              "      <td>13.316269</td>\n",
              "      <td>8.145993</td>\n",
              "      <td>2.871691</td>\n",
              "      <td>2.870648</td>\n",
              "      <td>2.873793</td>\n",
              "    </tr>\n",
              "    <tr>\n",
              "      <th>min</th>\n",
              "      <td>-91.933333</td>\n",
              "      <td>-64.000000</td>\n",
              "      <td>-69.589744</td>\n",
              "      <td>1.000000</td>\n",
              "      <td>1.000000</td>\n",
              "      <td>1.000000</td>\n",
              "    </tr>\n",
              "    <tr>\n",
              "      <th>25%</th>\n",
              "      <td>-39.294872</td>\n",
              "      <td>-12.025641</td>\n",
              "      <td>-40.717949</td>\n",
              "      <td>3.000000</td>\n",
              "      <td>3.000000</td>\n",
              "      <td>3.000000</td>\n",
              "    </tr>\n",
              "    <tr>\n",
              "      <th>50%</th>\n",
              "      <td>-30.400000</td>\n",
              "      <td>-4.800000</td>\n",
              "      <td>-34.871795</td>\n",
              "      <td>6.000000</td>\n",
              "      <td>6.000000</td>\n",
              "      <td>6.000000</td>\n",
              "    </tr>\n",
              "    <tr>\n",
              "      <th>75%</th>\n",
              "      <td>-22.724736</td>\n",
              "      <td>2.440171</td>\n",
              "      <td>-29.846154</td>\n",
              "      <td>8.000000</td>\n",
              "      <td>8.000000</td>\n",
              "      <td>8.000000</td>\n",
              "    </tr>\n",
              "    <tr>\n",
              "      <th>max</th>\n",
              "      <td>16.600000</td>\n",
              "      <td>98.000000</td>\n",
              "      <td>-17.358974</td>\n",
              "      <td>10.000000</td>\n",
              "      <td>10.000000</td>\n",
              "      <td>10.000000</td>\n",
              "    </tr>\n",
              "  </tbody>\n",
              "</table>\n",
              "</div>"
            ],
            "text/plain": [
              "       retail_and_rec  ...  work_withPoints\n",
              "count     2331.000000  ...      2331.000000\n",
              "mean       -31.842732  ...         5.501931\n",
              "std         13.151460  ...         2.873793\n",
              "min        -91.933333  ...         1.000000\n",
              "25%        -39.294872  ...         3.000000\n",
              "50%        -30.400000  ...         6.000000\n",
              "75%        -22.724736  ...         8.000000\n",
              "max         16.600000  ...        10.000000\n",
              "\n",
              "[8 rows x 6 columns]"
            ]
          },
          "metadata": {
            "tags": []
          },
          "execution_count": 49
        }
      ]
    },
    {
      "cell_type": "code",
      "metadata": {
        "id": "IlZqsFrd7RFH",
        "outputId": "5c7830b3-561c-4814-ec19-c666f604cb7d",
        "colab": {
          "base_uri": "https://localhost:8080/",
          "height": 343
        }
      },
      "source": [
        "master_df_5pts.head(10)"
      ],
      "execution_count": null,
      "outputs": [
        {
          "output_type": "execute_result",
          "data": {
            "text/html": [
              "<div>\n",
              "<style scoped>\n",
              "    .dataframe tbody tr th:only-of-type {\n",
              "        vertical-align: middle;\n",
              "    }\n",
              "\n",
              "    .dataframe tbody tr th {\n",
              "        vertical-align: top;\n",
              "    }\n",
              "\n",
              "    .dataframe thead th {\n",
              "        text-align: right;\n",
              "    }\n",
              "</style>\n",
              "<table border=\"1\" class=\"dataframe\">\n",
              "  <thead>\n",
              "    <tr style=\"text-align: right;\">\n",
              "      <th></th>\n",
              "      <th>GEO_ID</th>\n",
              "      <th>retail_and_rec</th>\n",
              "      <th>grocery_and_pharmacy</th>\n",
              "      <th>work</th>\n",
              "      <th>retail_and_rec_withPoints</th>\n",
              "      <th>grocery_and_pharmacy_withPoints</th>\n",
              "      <th>work_withPoints</th>\n",
              "    </tr>\n",
              "  </thead>\n",
              "  <tbody>\n",
              "    <tr>\n",
              "      <th>0</th>\n",
              "      <td>01001</td>\n",
              "      <td>-21.307692</td>\n",
              "      <td>7.282051</td>\n",
              "      <td>-35.923077</td>\n",
              "      <td>3</td>\n",
              "      <td>2</td>\n",
              "      <td>6</td>\n",
              "    </tr>\n",
              "    <tr>\n",
              "      <th>1</th>\n",
              "      <td>01003</td>\n",
              "      <td>-35.410256</td>\n",
              "      <td>-8.589744</td>\n",
              "      <td>-33.589744</td>\n",
              "      <td>7</td>\n",
              "      <td>7</td>\n",
              "      <td>5</td>\n",
              "    </tr>\n",
              "    <tr>\n",
              "      <th>2</th>\n",
              "      <td>01005</td>\n",
              "      <td>-15.750000</td>\n",
              "      <td>-3.200000</td>\n",
              "      <td>-25.102564</td>\n",
              "      <td>1</td>\n",
              "      <td>5</td>\n",
              "      <td>1</td>\n",
              "    </tr>\n",
              "    <tr>\n",
              "      <th>3</th>\n",
              "      <td>01007</td>\n",
              "      <td>-16.000000</td>\n",
              "      <td>5.200000</td>\n",
              "      <td>-29.717949</td>\n",
              "      <td>1</td>\n",
              "      <td>2</td>\n",
              "      <td>3</td>\n",
              "    </tr>\n",
              "    <tr>\n",
              "      <th>4</th>\n",
              "      <td>01009</td>\n",
              "      <td>-17.809524</td>\n",
              "      <td>5.083333</td>\n",
              "      <td>-32.794872</td>\n",
              "      <td>2</td>\n",
              "      <td>2</td>\n",
              "      <td>4</td>\n",
              "    </tr>\n",
              "    <tr>\n",
              "      <th>5</th>\n",
              "      <td>01011</td>\n",
              "      <td>-22.000000</td>\n",
              "      <td>-4.750000</td>\n",
              "      <td>-29.500000</td>\n",
              "      <td>3</td>\n",
              "      <td>5</td>\n",
              "      <td>3</td>\n",
              "    </tr>\n",
              "    <tr>\n",
              "      <th>6</th>\n",
              "      <td>01013</td>\n",
              "      <td>-28.600000</td>\n",
              "      <td>7.000000</td>\n",
              "      <td>-34.102564</td>\n",
              "      <td>5</td>\n",
              "      <td>2</td>\n",
              "      <td>5</td>\n",
              "    </tr>\n",
              "    <tr>\n",
              "      <th>7</th>\n",
              "      <td>01015</td>\n",
              "      <td>-23.743590</td>\n",
              "      <td>-4.820513</td>\n",
              "      <td>-36.256410</td>\n",
              "      <td>3</td>\n",
              "      <td>6</td>\n",
              "      <td>6</td>\n",
              "    </tr>\n",
              "    <tr>\n",
              "      <th>8</th>\n",
              "      <td>01017</td>\n",
              "      <td>-16.692308</td>\n",
              "      <td>2.777778</td>\n",
              "      <td>-40.666667</td>\n",
              "      <td>2</td>\n",
              "      <td>3</td>\n",
              "      <td>8</td>\n",
              "    </tr>\n",
              "    <tr>\n",
              "      <th>9</th>\n",
              "      <td>01019</td>\n",
              "      <td>-21.600000</td>\n",
              "      <td>8.400000</td>\n",
              "      <td>-26.333333</td>\n",
              "      <td>3</td>\n",
              "      <td>2</td>\n",
              "      <td>1</td>\n",
              "    </tr>\n",
              "  </tbody>\n",
              "</table>\n",
              "</div>"
            ],
            "text/plain": [
              "  GEO_ID  retail_and_rec  ...  grocery_and_pharmacy_withPoints  work_withPoints\n",
              "0  01001      -21.307692  ...                                2                6\n",
              "1  01003      -35.410256  ...                                7                5\n",
              "2  01005      -15.750000  ...                                5                1\n",
              "3  01007      -16.000000  ...                                2                3\n",
              "4  01009      -17.809524  ...                                2                4\n",
              "5  01011      -22.000000  ...                                5                3\n",
              "6  01013      -28.600000  ...                                2                5\n",
              "7  01015      -23.743590  ...                                6                6\n",
              "8  01017      -16.692308  ...                                3                8\n",
              "9  01019      -21.600000  ...                                2                1\n",
              "\n",
              "[10 rows x 7 columns]"
            ]
          },
          "metadata": {
            "tags": []
          },
          "execution_count": 50
        }
      ]
    },
    {
      "cell_type": "markdown",
      "metadata": {
        "id": "3XFUB3Jt3Ncm"
      },
      "source": [
        "## Step 3: Combining the variables & points to calculate a total Social Distance Index"
      ]
    },
    {
      "cell_type": "markdown",
      "metadata": {
        "id": "MddFZL178HuR"
      },
      "source": [
        "### Join the calculated variables with points"
      ]
    },
    {
      "cell_type": "code",
      "metadata": {
        "id": "tczO0M6l8GPb"
      },
      "source": [
        "sdi_df = master_df_5pts.merge(master_df_10pts, left_on='GEO_ID', right_on=\"GEO_ID\")"
      ],
      "execution_count": null,
      "outputs": []
    },
    {
      "cell_type": "code",
      "metadata": {
        "id": "GahAyA-n_grh",
        "outputId": "1c2afbdf-5598-4271-a74c-8c3594730181",
        "colab": {
          "base_uri": "https://localhost:8080/",
          "height": 118
        }
      },
      "source": [
        "print(sdi_df.columns)"
      ],
      "execution_count": null,
      "outputs": [
        {
          "output_type": "stream",
          "text": [
            "Index(['GEO_ID', 'retail_and_rec', 'grocery_and_pharmacy', 'work',\n",
            "       'retail_and_rec_withPoints', 'grocery_and_pharmacy_withPoints',\n",
            "       'work_withPoints', 'percent_essential_workers', 'pop_density',\n",
            "       'percentage_overcrowded_rooms', 'percent_essential_workers_withPoints',\n",
            "       'pop_densitys_withPoints', 'percentage_overcrowded_rooms_withPoints'],\n",
            "      dtype='object')\n"
          ],
          "name": "stdout"
        }
      ]
    },
    {
      "cell_type": "markdown",
      "metadata": {
        "id": "2jKHGAGwGWxt"
      },
      "source": [
        "### Calculate the Total Score for the Social Distance Index\n",
        "\n",
        "The Total Score is a weighted average of inidividual the individual contributions of mobility types, % essential workers, pop density, and % overcrowded rooms by county."
      ]
    },
    {
      "cell_type": "code",
      "metadata": {
        "id": "0mpqErF9-2f_"
      },
      "source": [
        "sdi_df['retail_and_rec_withPoints_final']= sdi_df['retail_and_rec_withPoints']/10.0\n",
        "sdi_df['grocery_and_pharmacy_withPoints_final']= sdi_df['grocery_and_pharmacy_withPoints']/10.0\n",
        "sdi_df['work_withPoints_final']= sdi_df['work_withPoints']/10.0\n",
        "sdi_df['percent_essential_workers_withPoints_final']= sdi_df['percent_essential_workers_withPoints']/10.0\n",
        "sdi_df['pop_densitys_withPoints_final']= sdi_df['pop_densitys_withPoints']/10.0\n",
        "sdi_df['percentage_overcrowded_rooms_withPoints_final']= sdi_df['percentage_overcrowded_rooms_withPoints']/10.0\n"
      ],
      "execution_count": null,
      "outputs": []
    },
    {
      "cell_type": "code",
      "metadata": {
        "id": "_reN0aicDDyE"
      },
      "source": [
        "sdi_df['Total_SDI_Score'] = sdi_df[['retail_and_rec_withPoints_final','grocery_and_pharmacy_withPoints_final','work_withPoints_final','percent_essential_workers_withPoints_final','pop_densitys_withPoints_final','percentage_overcrowded_rooms_withPoints_final']].mean(axis=1)"
      ],
      "execution_count": null,
      "outputs": []
    },
    {
      "cell_type": "code",
      "metadata": {
        "id": "Tm0qUJErTbKH"
      },
      "source": [
        "master_df_select = master_df[['GEO_ID', 'NAME_x', 'white_pop_percent',\n",
        "       'black_pop_percent', 'asian_pop_percent', 'hispanic_pop_percent',\n",
        "       'amerindian_pop_percent', 'other_race_pop_percent',\n",
        "       'two_or_more_races_pop_percent', 'hispanic_any_race_percent',\n",
        "       'not_hispanic_pop_percent']]"
      ],
      "execution_count": null,
      "outputs": []
    },
    {
      "cell_type": "code",
      "metadata": {
        "id": "x5wpPEVaSVHO"
      },
      "source": [
        "sdi_df_select = sdi_df[[\"GEO_ID\", \"Total_SDI_Score\"]]"
      ],
      "execution_count": null,
      "outputs": []
    },
    {
      "cell_type": "code",
      "metadata": {
        "id": "LNnKFXUIT_Hq"
      },
      "source": [
        "regression_df = pd.merge(master_df_select, sdi_df_select, how=\"outer\", on=\"GEO_ID\")"
      ],
      "execution_count": null,
      "outputs": []
    },
    {
      "cell_type": "code",
      "metadata": {
        "id": "x8eATxlzUSdT",
        "outputId": "89468768-f582-451a-e431-96894f680969",
        "colab": {
          "base_uri": "https://localhost:8080/",
          "height": 304
        }
      },
      "source": [
        "regression_df.describe()"
      ],
      "execution_count": null,
      "outputs": [
        {
          "output_type": "execute_result",
          "data": {
            "text/html": [
              "<div>\n",
              "<style scoped>\n",
              "    .dataframe tbody tr th:only-of-type {\n",
              "        vertical-align: middle;\n",
              "    }\n",
              "\n",
              "    .dataframe tbody tr th {\n",
              "        vertical-align: top;\n",
              "    }\n",
              "\n",
              "    .dataframe thead th {\n",
              "        text-align: right;\n",
              "    }\n",
              "</style>\n",
              "<table border=\"1\" class=\"dataframe\">\n",
              "  <thead>\n",
              "    <tr style=\"text-align: right;\">\n",
              "      <th></th>\n",
              "      <th>white_pop_percent</th>\n",
              "      <th>black_pop_percent</th>\n",
              "      <th>asian_pop_percent</th>\n",
              "      <th>hispanic_pop_percent</th>\n",
              "      <th>amerindian_pop_percent</th>\n",
              "      <th>other_race_pop_percent</th>\n",
              "      <th>two_or_more_races_pop_percent</th>\n",
              "      <th>hispanic_any_race_percent</th>\n",
              "      <th>not_hispanic_pop_percent</th>\n",
              "      <th>Total_SDI_Score</th>\n",
              "    </tr>\n",
              "  </thead>\n",
              "  <tbody>\n",
              "    <tr>\n",
              "      <th>count</th>\n",
              "      <td>2331.000000</td>\n",
              "      <td>2331.000000</td>\n",
              "      <td>2331.000000</td>\n",
              "      <td>2331.000000</td>\n",
              "      <td>2331.000000</td>\n",
              "      <td>2331.000000</td>\n",
              "      <td>2331.000000</td>\n",
              "      <td>2331.000000</td>\n",
              "      <td>2331.000000</td>\n",
              "      <td>2331.000000</td>\n",
              "    </tr>\n",
              "    <tr>\n",
              "      <th>mean</th>\n",
              "      <td>0.757116</td>\n",
              "      <td>0.095848</td>\n",
              "      <td>0.015432</td>\n",
              "      <td>0.097738</td>\n",
              "      <td>0.011851</td>\n",
              "      <td>0.001218</td>\n",
              "      <td>0.019953</td>\n",
              "      <td>0.097738</td>\n",
              "      <td>0.902262</td>\n",
              "      <td>0.550346</td>\n",
              "    </tr>\n",
              "    <tr>\n",
              "      <th>std</th>\n",
              "      <td>0.193011</td>\n",
              "      <td>0.139561</td>\n",
              "      <td>0.028639</td>\n",
              "      <td>0.139395</td>\n",
              "      <td>0.042658</td>\n",
              "      <td>0.002021</td>\n",
              "      <td>0.016202</td>\n",
              "      <td>0.139395</td>\n",
              "      <td>0.139395</td>\n",
              "      <td>0.118669</td>\n",
              "    </tr>\n",
              "    <tr>\n",
              "      <th>min</th>\n",
              "      <td>0.007278</td>\n",
              "      <td>0.000000</td>\n",
              "      <td>0.000000</td>\n",
              "      <td>0.000000</td>\n",
              "      <td>0.000000</td>\n",
              "      <td>0.000000</td>\n",
              "      <td>0.000000</td>\n",
              "      <td>0.000000</td>\n",
              "      <td>0.009312</td>\n",
              "      <td>0.200000</td>\n",
              "    </tr>\n",
              "    <tr>\n",
              "      <th>25%</th>\n",
              "      <td>0.639607</td>\n",
              "      <td>0.009277</td>\n",
              "      <td>0.003874</td>\n",
              "      <td>0.023510</td>\n",
              "      <td>0.001356</td>\n",
              "      <td>0.000049</td>\n",
              "      <td>0.011813</td>\n",
              "      <td>0.023510</td>\n",
              "      <td>0.897037</td>\n",
              "      <td>0.466667</td>\n",
              "    </tr>\n",
              "    <tr>\n",
              "      <th>50%</th>\n",
              "      <td>0.818640</td>\n",
              "      <td>0.031461</td>\n",
              "      <td>0.007123</td>\n",
              "      <td>0.045256</td>\n",
              "      <td>0.002729</td>\n",
              "      <td>0.000660</td>\n",
              "      <td>0.016878</td>\n",
              "      <td>0.045256</td>\n",
              "      <td>0.954744</td>\n",
              "      <td>0.550000</td>\n",
              "    </tr>\n",
              "    <tr>\n",
              "      <th>75%</th>\n",
              "      <td>0.914632</td>\n",
              "      <td>0.116694</td>\n",
              "      <td>0.014767</td>\n",
              "      <td>0.102963</td>\n",
              "      <td>0.005844</td>\n",
              "      <td>0.001609</td>\n",
              "      <td>0.023287</td>\n",
              "      <td>0.102963</td>\n",
              "      <td>0.976490</td>\n",
              "      <td>0.633333</td>\n",
              "    </tr>\n",
              "    <tr>\n",
              "      <th>max</th>\n",
              "      <td>0.993958</td>\n",
              "      <td>0.837123</td>\n",
              "      <td>0.414846</td>\n",
              "      <td>0.990688</td>\n",
              "      <td>0.736578</td>\n",
              "      <td>0.030995</td>\n",
              "      <td>0.233014</td>\n",
              "      <td>0.990688</td>\n",
              "      <td>1.000000</td>\n",
              "      <td>1.000000</td>\n",
              "    </tr>\n",
              "  </tbody>\n",
              "</table>\n",
              "</div>"
            ],
            "text/plain": [
              "       white_pop_percent  ...  Total_SDI_Score\n",
              "count        2331.000000  ...      2331.000000\n",
              "mean            0.757116  ...         0.550346\n",
              "std             0.193011  ...         0.118669\n",
              "min             0.007278  ...         0.200000\n",
              "25%             0.639607  ...         0.466667\n",
              "50%             0.818640  ...         0.550000\n",
              "75%             0.914632  ...         0.633333\n",
              "max             0.993958  ...         1.000000\n",
              "\n",
              "[8 rows x 10 columns]"
            ]
          },
          "metadata": {
            "tags": []
          },
          "execution_count": 58
        }
      ]
    },
    {
      "cell_type": "markdown",
      "metadata": {
        "id": "3d1fRAPFiehx"
      },
      "source": [
        "# Regression Analysis of SDI vs. Racial Distribution by County"
      ]
    },
    {
      "cell_type": "code",
      "metadata": {
        "id": "bpv7iTMVbOrM"
      },
      "source": [
        "features = ['white_pop_percent',\n",
        "                   'black_pop_percent',\n",
        "                   'asian_pop_percent', \n",
        "                   'hispanic_pop_percent',\n",
        "            \"amerindian_pop_percent\",\n",
        "            \"other_race_pop_percent\",\n",
        "            ]\n"
      ],
      "execution_count": null,
      "outputs": []
    },
    {
      "cell_type": "code",
      "metadata": {
        "id": "HUsttlKCVk9C"
      },
      "source": [
        "lr = LinearRegression()"
      ],
      "execution_count": null,
      "outputs": []
    },
    {
      "cell_type": "code",
      "metadata": {
        "id": "gVyusVXNVqls",
        "outputId": "7c0733e0-7927-4796-bf88-32432a04c34b",
        "colab": {
          "base_uri": "https://localhost:8080/",
          "height": 34
        }
      },
      "source": [
        "X = regression_df[features]\n",
        "y = regression_df[\"Total_SDI_Score\"]\n",
        "lr.fit(X, y)"
      ],
      "execution_count": null,
      "outputs": [
        {
          "output_type": "execute_result",
          "data": {
            "text/plain": [
              "LinearRegression(copy_X=True, fit_intercept=True, n_jobs=None, normalize=False)"
            ]
          },
          "metadata": {
            "tags": []
          },
          "execution_count": 61
        }
      ]
    },
    {
      "cell_type": "code",
      "metadata": {
        "id": "TS0rMZjgX5WT",
        "outputId": "cc7f5c97-5f3b-4a87-ec36-1aa08de46af7",
        "colab": {
          "base_uri": "https://localhost:8080/",
          "height": 134
        }
      },
      "source": [
        "print('intercept:', lr.intercept_)\n",
        "coefs = lr.coef_\n",
        "for x, a in zip(features, coefs):\n",
        "  print(f\"{x}: {a}\")"
      ],
      "execution_count": null,
      "outputs": [
        {
          "output_type": "stream",
          "text": [
            "intercept: -0.08785805637080535\n",
            "white_pop_percent: 0.6439725678551933\n",
            "black_pop_percent: 0.5291851581998621\n",
            "asian_pop_percent: 1.5798083521836057\n",
            "hispanic_pop_percent: 0.6212874607244375\n",
            "amerindian_pop_percent: 0.8222141469454463\n",
            "other_race_pop_percent: 4.166148837028793\n"
          ],
          "name": "stdout"
        }
      ]
    },
    {
      "cell_type": "code",
      "metadata": {
        "id": "bUwkeIR3hU7l",
        "outputId": "e982cb61-5f99-4bc8-c7be-b1663aad1884",
        "colab": {
          "base_uri": "https://localhost:8080/",
          "height": 280
        }
      },
      "source": [
        "plt.bar(features[:-1], coefs[:-1])\n",
        "plt.xlabel('Coefficient')  \n",
        "plt.ylabel('race')\n",
        "plt.show() "
      ],
      "execution_count": null,
      "outputs": [
        {
          "output_type": "display_data",
          "data": {
            "image/png": "[encoded data removed]",
            "text/plain": [
              "<Figure size 432x288 with 1 Axes>"
            ]
          },
          "metadata": {
            "tags": [],
            "needs_background": "light"
          }
        }
      ]
    },
    {
      "cell_type": "markdown",
      "metadata": {
        "id": "v0zQ82EZKlxD"
      },
      "source": [
        "# Visual Analysis"
      ]
    },
    {
      "cell_type": "code",
      "metadata": {
        "id": "zTMWrqSecdej",
        "outputId": "5549e3df-596e-440f-940b-93600d6c287f",
        "colab": {
          "base_uri": "https://localhost:8080/",
          "height": 454
        }
      },
      "source": [
        "plt.figure(figsize=(10,5))\n",
        "sns.heatmap(regression_df[features + [\"Total_SDI_Score\"] ].corr(), annot = True)"
      ],
      "execution_count": null,
      "outputs": [
        {
          "output_type": "execute_result",
          "data": {
            "text/plain": [
              "<matplotlib.axes._subplots.AxesSubplot at 0x7f65a30a2d30>"
            ]
          },
          "metadata": {
            "tags": []
          },
          "execution_count": 70
        },
        {
          "output_type": "display_data",
          "data": {
            "image/png": "[encoded data removed]",
            "text/plain": [
              "<Figure size 720x360 with 2 Axes>"
            ]
          },
          "metadata": {
            "tags": [],
            "needs_background": "light"
          }
        }
      ]
    },
    {
      "cell_type": "code",
      "metadata": {
        "id": "AZPl5kygceKQ",
        "outputId": "49590484-ba67-4998-ed77-1fbee6019ff3",
        "colab": {
          "base_uri": "https://localhost:8080/",
          "height": 1000
        }
      },
      "source": [
        "race_list = [master_df[\"white_pop\"], master_df[\"black_pop\"], master_df[\"asian_pop\"], master_df[\"hispanic_pop\"]]\n",
        "race_label = [\"white_pop\", \"black_pop\", \"asian_pop\", \"hispanic_pop\"]\n",
        "for i in range(len(race_list)):\n",
        "  X =race_list[i]/master_df[\"total_pop\"]\n",
        "  y= sdi_df[\"Total_SDI_Score\"]\n",
        "  plt.figure(figsize=(10,5))\n",
        "  plt.plot(X,y, 'o')\n",
        "  plt.ylabel(\"SDI Score\")\n",
        "  m, b = np.polyfit(X,y, 1)\n",
        "  plt.plot(X, m*X + b)\n",
        "  plt.xlabel(race_label[i])\n",
        "  print(f\"The intercept for proportion of \", race_label[i], \"is\", b)\n",
        "  print(f\"The slope for proportion of \", race_label[i], \"is\", m, \"\\n\")"
      ],
      "execution_count": null,
      "outputs": [
        {
          "output_type": "stream",
          "text": [
            "The intercept for proportion of  white_pop is 0.5400959440382791\n",
            "The slope for proportion of  white_pop is 0.013538374646164298 \n",
            "\n",
            "The intercept for proportion of  black_pop is 0.560227922974997\n",
            "The slope for proportion of  black_pop is -0.10309929781207458 \n",
            "\n",
            "The intercept for proportion of  asian_pop is 0.5380909826134733\n",
            "The slope for proportion of  asian_pop is 0.7941572616743567 \n",
            "\n",
            "The intercept for proportion of  hispanic_pop is 0.547278719396223\n",
            "The slope for proportion of  hispanic_pop is 0.03138326325797388 \n",
            "\n"
          ],
          "name": "stdout"
        },
        {
          "output_type": "display_data",
          "data": {
            "image/png": "[encoded data removed]",
            "text/plain": [
              "<Figure size 720x360 with 1 Axes>"
            ]
          },
          "metadata": {
            "tags": [],
            "needs_background": "light"
          }
        },
        {
          "output_type": "display_data",
          "data": {
            "image/png": "[encoded data removed]",
            "text/plain": [
              "<Figure size 720x360 with 1 Axes>"
            ]
          },
          "metadata": {
            "tags": [],
            "needs_background": "light"
          }
        },
        {
          "output_type": "display_data",
          "data": {
            "image/png": "[encoded data removed]",
            "text/plain": [
              "<Figure size 720x360 with 1 Axes>"
            ]
          },
          "metadata": {
            "tags": [],
            "needs_background": "light"
          }
        },
        {
          "output_type": "display_data",
          "data": {
            "image/png": "[encoded data removed]",
            "text/plain": [
              "<Figure size 720x360 with 1 Axes>"
            ]
          },
          "metadata": {
            "tags": [],
            "needs_background": "light"
          }
        }
      ]
    },
    {
      "cell_type": "code",
      "metadata": {
        "id": "z78EvnpweIp6"
      },
      "source": [
        ""
      ],
      "execution_count": null,
      "outputs": []
    }
  ]
}