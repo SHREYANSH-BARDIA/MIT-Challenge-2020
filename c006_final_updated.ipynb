{
  "nbformat": 4,
  "nbformat_minor": 0,
  "metadata": {
    "colab": {
      "name": "c006_final.ipynb",
      "provenance": [],
      "collapsed_sections": [],
      "include_colab_link": true
    },
    "kernelspec": {
      "name": "python3",
      "display_name": "Python 3"
    }
  },
  "cells": [
    {
      "cell_type": "markdown",
      "metadata": {
        "id": "view-in-github",
        "colab_type": "text"
      },
      "source": [
        "<a href=\"https://colab.research.google.com/github/TashiNyangmi/MIT-Challenge-2020/blob/Edits-(Tashi)/c006_final_updated.ipynb\" target=\"_parent\"><img src=\"https://colab.research.google.com/assets/colab-badge.svg\" alt=\"Open In Colab\"/></a>"
      ]
    },
    {
      "cell_type": "markdown",
      "metadata": {
        "id": "XBtl_lg5HjX5",
        "colab_type": "text"
      },
      "source": [
        "# **MIT COVID-19 Datathon**\n",
        "\n",
        "#### **Team C-006**\n"
      ]
    },
    {
      "cell_type": "markdown",
      "metadata": {
        "id": "ylpjHQtbA1iW",
        "colab_type": "text"
      },
      "source": [
        "# Environment Set-Up"
      ]
    },
    {
      "cell_type": "markdown",
      "metadata": {
        "id": "uvXeBjb0BC9X",
        "colab_type": "text"
      },
      "source": [
        "## Packages"
      ]
    },
    {
      "cell_type": "code",
      "metadata": {
        "id": "GW5LcskRHn2g",
        "colab_type": "code",
        "outputId": "678c205c-55a7-43ad-e04d-3c07b0c11a2f",
        "colab": {
          "base_uri": "https://localhost:8080/",
          "height": 66
        }
      },
      "source": [
        "# Import libraries\n",
        "import numpy as np\n",
        "import os\n",
        "import pandas as pd\n",
        "import seaborn as sns\n",
        "import matplotlib.pyplot as plt\n",
        "import matplotlib.patches as patches\n",
        "import matplotlib.path as path\n",
        "from sklearn.linear_model import LinearRegression\n",
        "\n",
        "!pip install -U -q pandasql\n",
        "import pandasql as psql\n",
        "from pandasql import sqldf\n",
        "\n",
        "# Below imports are used to print out pretty pandas dataframes\n",
        "from IPython.display import display, HTML\n",
        "\n",
        "# Imports for accessing Datathon data using Google BigQuery.\n",
        "from google.colab import auth\n",
        "from google.cloud import bigquery\n",
        "\n",
        "# Import libraries for google drive\n",
        "!pip install -U -q PyDrive\n",
        "from pydrive.auth import GoogleAuth\n",
        "from pydrive.drive import GoogleDrive\n",
        "from oauth2client.client import GoogleCredentials\n",
        "\n",
        "# BigQuery Setup\n",
        "project_id='mit-covid-19-datathon'\n",
        "os.environ[\"GOOGLE_CLOUD_PROJECT\"]=project_id"
      ],
      "execution_count": 1,
      "outputs": [
        {
          "output_type": "stream",
          "text": [
            "/usr/local/lib/python3.6/dist-packages/statsmodels/tools/_testing.py:19: FutureWarning: pandas.util.testing is deprecated. Use the functions in the public API at pandas.testing instead.\n",
            "  import pandas.util.testing as tm\n"
          ],
          "name": "stderr"
        },
        {
          "output_type": "stream",
          "text": [
            "  Building wheel for pandasql (setup.py) ... \u001b[?25l\u001b[?25hdone\n"
          ],
          "name": "stdout"
        }
      ]
    },
    {
      "cell_type": "markdown",
      "metadata": {
        "id": "3FBdgk_yBiNm",
        "colab_type": "text"
      },
      "source": [
        "## Authentication"
      ]
    },
    {
      "cell_type": "code",
      "metadata": {
        "id": "DJqN73-XIVOZ",
        "colab_type": "code",
        "colab": {}
      },
      "source": [
        "auth.authenticate_user()\n",
        "gauth = GoogleAuth()\n",
        "gauth.credentials = GoogleCredentials.get_application_default()\n",
        "drive = GoogleDrive(gauth)"
      ],
      "execution_count": 0,
      "outputs": []
    },
    {
      "cell_type": "markdown",
      "metadata": {
        "id": "Ao2lN3O2A-Ki",
        "colab_type": "text"
      },
      "source": [
        "## Functions"
      ]
    },
    {
      "cell_type": "code",
      "metadata": {
        "id": "qcvWZDXkIejS",
        "colab_type": "code",
        "colab": {}
      },
      "source": [
        "# Read data from BigQuery into pandas dataframes.\n",
        "def run_query(query):\n",
        "  return pd.io.gbq.read_gbq(query, project_id=project_id, verbose=False, configuration={'query':{'useLegacySql': False}})"
      ],
      "execution_count": 0,
      "outputs": []
    },
    {
      "cell_type": "code",
      "metadata": {
        "id": "skw8y_En5Wzu",
        "colab_type": "code",
        "colab": {}
      },
      "source": [
        "def get_data_from_gdrive(link):\n",
        "  #extracting string following \"=\" in the link string\n",
        "  fluff, id = link.split('=')\n",
        "\n",
        "  # Store dataset in a new pd.DataFrame\n",
        "  downloaded = drive.CreateFile({'id':id}) \n",
        "  downloaded.GetContentFile('Filename.csv')  \n",
        "  df_original = pd.read_csv('Filename.csv')\n",
        "  return df_original"
      ],
      "execution_count": 0,
      "outputs": []
    },
    {
      "cell_type": "code",
      "metadata": {
        "id": "1uPtSpndI60P",
        "colab_type": "code",
        "outputId": "0e1c15ed-c3f2-478a-c58b-8d1d0f7b97f0",
        "colab": {
          "base_uri": "https://localhost:8080/",
          "height": 76
        }
      },
      "source": [
        "# BigQuery Sample\n",
        "df = run_query('''\n",
        "SELECT count(*)\n",
        "FROM `bigquery-public-data.census_utility.fips_codes_states`\n",
        "''')\n",
        "\n",
        "df"
      ],
      "execution_count": 5,
      "outputs": [
        {
          "output_type": "execute_result",
          "data": {
            "text/html": [
              "<div>\n",
              "<style scoped>\n",
              "    .dataframe tbody tr th:only-of-type {\n",
              "        vertical-align: middle;\n",
              "    }\n",
              "\n",
              "    .dataframe tbody tr th {\n",
              "        vertical-align: top;\n",
              "    }\n",
              "\n",
              "    .dataframe thead th {\n",
              "        text-align: right;\n",
              "    }\n",
              "</style>\n",
              "<table border=\"1\" class=\"dataframe\">\n",
              "  <thead>\n",
              "    <tr style=\"text-align: right;\">\n",
              "      <th></th>\n",
              "      <th>f0_</th>\n",
              "    </tr>\n",
              "  </thead>\n",
              "  <tbody>\n",
              "    <tr>\n",
              "      <th>0</th>\n",
              "      <td>57</td>\n",
              "    </tr>\n",
              "  </tbody>\n",
              "</table>\n",
              "</div>"
            ],
            "text/plain": [
              "   f0_\n",
              "0   57"
            ]
          },
          "metadata": {
            "tags": []
          },
          "execution_count": 5
        }
      ]
    },
    {
      "cell_type": "markdown",
      "metadata": {
        "id": "UQfzwU_y_sGr",
        "colab_type": "text"
      },
      "source": [
        "# Data Import\n",
        "\n",
        "\n"
      ]
    },
    {
      "cell_type": "markdown",
      "metadata": {
        "id": "VylnkAHFNAcF",
        "colab_type": "text"
      },
      "source": [
        "## Google Mobility Dataset, Key Facts:\n",
        "\n",
        "- Changes for each day are **compared to a baseline value** for that day of the week\n",
        "- The **baseline** is the median value, for the **corresponding day of the week, during the 5-week period Jan 3–Feb 6**, 2020.\n",
        "- **Start date:** 15 February\n",
        "- **End date:** 7 May"
      ]
    },
    {
      "cell_type": "markdown",
      "metadata": {
        "id": "66aozgsLJBbK",
        "colab_type": "text"
      },
      "source": [
        "### Mobility and County Populations by Race"
      ]
    },
    {
      "cell_type": "code",
      "metadata": {
        "id": "Tsfo3cmbJMZC",
        "colab_type": "code",
        "colab": {}
      },
      "source": [
        "# Old query\n",
        "\n",
        "# mobility_and_pop_by_county = run_query(\"\"\"\n",
        "# WITH mob AS (\n",
        "# SELECT \n",
        "# --   retail_and_recreation_percent_change_from_baseline retail_and_rec,\n",
        "# --   grocery_and_pharmacy_percent_change_from_baseline grocery_and_pharmacy,\n",
        "# --   parks_percent_change_from_baseline parks,\n",
        "# --   transit_stations_percent_change_from_baseline transit,\n",
        "# --   workplaces_percent_change_from_baseline work,\n",
        "# --   residential_percent_change_from_baseline residential,\n",
        "#   *\n",
        "# FROM `bigquery-public-data.covid19_google_mobility.mobility_report`\n",
        "# WHERE country_region_code = \"US\"\n",
        "#   AND sub_region_1 IS NOT NULL\n",
        "#   AND sub_region_2 IS NOT NULL\n",
        "# )\n",
        "# SELECT \n",
        "#   states.state_name state,\n",
        "#   fips.area_name county,\n",
        "#   acs.geo_id fips_code,\n",
        "#   mob.date,\n",
        "#   acs.total_pop,\n",
        "#   acs.white_pop,\n",
        "#   acs.black_pop,\n",
        "#   acs.asian_pop,\n",
        "#   acs.hispanic_pop,\n",
        "#   acs.amerindian_pop,\n",
        "#   acs.other_race_pop,\n",
        "#   acs.two_or_more_races_pop,\n",
        "#   acs.hispanic_any_race,\n",
        "#   acs.not_hispanic_pop,\n",
        "#   mob.retail_and_recreation_percent_change_from_baseline retail_and_rec,\n",
        "#   mob.grocery_and_pharmacy_percent_change_from_baseline grocery_and_pharmacy,\n",
        "#   mob.parks_percent_change_from_baseline parks,\n",
        "#   mob.transit_stations_percent_change_from_baseline transit,\n",
        "#   mob.workplaces_percent_change_from_baseline work,\n",
        "#   mob.residential_percent_change_from_baseline residential,\n",
        "# FROM `bigquery-public-data.census_bureau_acs.county_2018_5yr` acs\n",
        "# LEFT JOIN `bigquery-public-data.census_utility.fips_codes_states` states\n",
        "#   ON SUBSTR(acs.geo_id, 1, 2) = states.state_fips_code\n",
        "# LEFT JOIN `bigquery-public-data.census_utility.fips_codes_all` fips\n",
        "#   ON SUBSTR(acs.geo_id, 1, 2) = fips.state AND SUBSTR(acs.geo_id, 3, 3) = fips.county\n",
        "# INNER JOIN mob\n",
        "#   ON mob.sub_region_1 = states.state_name AND mob.sub_region_2 = fips.area_name\n",
        "# ORDER BY state, county, date\n",
        "# \"\"\")"
      ],
      "execution_count": 0,
      "outputs": []
    },
    {
      "cell_type": "code",
      "metadata": {
        "id": "mzqu_OUtUf9F",
        "colab_type": "code",
        "colab": {}
      },
      "source": [
        "# Aggregated Query\n",
        "\n",
        "mobility_and_pop_by_county = run_query(\"\"\"\n",
        "WITH mob AS (\n",
        "SELECT\n",
        "   sub_region_1,\n",
        "   sub_region_2,\n",
        "   AVG(retail_and_recreation_percent_change_from_baseline) retail_and_rec,\n",
        "   AVG(grocery_and_pharmacy_percent_change_from_baseline) grocery_and_pharmacy,\n",
        "   AVG(workplaces_percent_change_from_baseline) work,\n",
        "FROM `bigquery-public-data.covid19_google_mobility.mobility_report`\n",
        "WHERE country_region_code = \"US\"\n",
        "  AND sub_region_1 IS NOT NULL\n",
        "  AND sub_region_2 IS NOT NULL\n",
        "  AND date >= \"2020-04-01\"\n",
        "GROUP BY sub_region_1, sub_region_2\n",
        "HAVING\n",
        "  retail_and_rec IS NOT NULL\n",
        "  AND grocery_and_pharmacy IS NOT NULL\n",
        "  AND work IS NOT NULL\n",
        ")\n",
        "SELECT \n",
        "  acs.geo_id fips_code,\n",
        "  states.state_name state,\n",
        "  fips.area_name county,\n",
        "  acs.total_pop,\n",
        "  acs.white_pop,\n",
        "  acs.black_pop,\n",
        "  acs.asian_pop,\n",
        "  acs.hispanic_pop,\n",
        "  acs.amerindian_pop,\n",
        "  acs.other_race_pop,\n",
        "  acs.two_or_more_races_pop,\n",
        "  acs.hispanic_any_race,\n",
        "  acs.not_hispanic_pop,\n",
        "  mob.retail_and_rec,\n",
        "  mob.grocery_and_pharmacy,\n",
        "  mob.work,\n",
        "FROM `bigquery-public-data.census_bureau_acs.county_2018_5yr` acs\n",
        "LEFT JOIN `bigquery-public-data.census_utility.fips_codes_states` states\n",
        "  ON SUBSTR(acs.geo_id, 1, 2) = states.state_fips_code\n",
        "LEFT JOIN `bigquery-public-data.census_utility.fips_codes_all` fips\n",
        "  ON SUBSTR(acs.geo_id, 1, 2) = fips.state AND SUBSTR(acs.geo_id, 3, 3) = fips.county\n",
        "INNER JOIN mob\n",
        "  ON mob.sub_region_1 = states.state_name AND mob.sub_region_2 = fips.area_name\n",
        "ORDER BY state, county\n",
        "\"\"\")"
      ],
      "execution_count": 0,
      "outputs": []
    },
    {
      "cell_type": "markdown",
      "metadata": {
        "id": "alVXRfhdoGMj",
        "colab_type": "text"
      },
      "source": [
        "## ACS Data Imports"
      ]
    },
    {
      "cell_type": "code",
      "metadata": {
        "id": "5-n50QxJRpxQ",
        "colab_type": "code",
        "outputId": "d8547fa2-9487-48cb-b9b1-df1a13197498",
        "colab": {
          "base_uri": "https://localhost:8080/",
          "height": 391
        }
      },
      "source": [
        "# Sample Query using BigQuery in Colab\n",
        "# You can replicate this to run your own queries\n",
        "counties_squaremiles_df = run_query('''\n",
        "SELECT geo_id, state_fips_code, county_fips_code, area_land_meters\n",
        "FROM `bigquery-public-data.geo_us_boundaries.counties` \n",
        "''')\n",
        "\n",
        "counties_squaremiles_df"
      ],
      "execution_count": 7,
      "outputs": [
        {
          "output_type": "execute_result",
          "data": {
            "text/html": [
              "<div>\n",
              "<style scoped>\n",
              "    .dataframe tbody tr th:only-of-type {\n",
              "        vertical-align: middle;\n",
              "    }\n",
              "\n",
              "    .dataframe tbody tr th {\n",
              "        vertical-align: top;\n",
              "    }\n",
              "\n",
              "    .dataframe thead th {\n",
              "        text-align: right;\n",
              "    }\n",
              "</style>\n",
              "<table border=\"1\" class=\"dataframe\">\n",
              "  <thead>\n",
              "    <tr style=\"text-align: right;\">\n",
              "      <th></th>\n",
              "      <th>geo_id</th>\n",
              "      <th>state_fips_code</th>\n",
              "      <th>county_fips_code</th>\n",
              "      <th>area_land_meters</th>\n",
              "    </tr>\n",
              "  </thead>\n",
              "  <tbody>\n",
              "    <tr>\n",
              "      <th>0</th>\n",
              "      <td>01013</td>\n",
              "      <td>01</td>\n",
              "      <td>013</td>\n",
              "      <td>2012002531</td>\n",
              "    </tr>\n",
              "    <tr>\n",
              "      <th>1</th>\n",
              "      <td>01059</td>\n",
              "      <td>01</td>\n",
              "      <td>059</td>\n",
              "      <td>1641841404</td>\n",
              "    </tr>\n",
              "    <tr>\n",
              "      <th>2</th>\n",
              "      <td>01041</td>\n",
              "      <td>01</td>\n",
              "      <td>041</td>\n",
              "      <td>1576952799</td>\n",
              "    </tr>\n",
              "    <tr>\n",
              "      <th>3</th>\n",
              "      <td>01105</td>\n",
              "      <td>01</td>\n",
              "      <td>105</td>\n",
              "      <td>1863900621</td>\n",
              "    </tr>\n",
              "    <tr>\n",
              "      <th>4</th>\n",
              "      <td>01039</td>\n",
              "      <td>01</td>\n",
              "      <td>039</td>\n",
              "      <td>2669134207</td>\n",
              "    </tr>\n",
              "    <tr>\n",
              "      <th>...</th>\n",
              "      <td>...</td>\n",
              "      <td>...</td>\n",
              "      <td>...</td>\n",
              "      <td>...</td>\n",
              "    </tr>\n",
              "    <tr>\n",
              "      <th>3228</th>\n",
              "      <td>72059</td>\n",
              "      <td>72</td>\n",
              "      <td>059</td>\n",
              "      <td>109480385</td>\n",
              "    </tr>\n",
              "    <tr>\n",
              "      <th>3229</th>\n",
              "      <td>72111</td>\n",
              "      <td>72</td>\n",
              "      <td>111</td>\n",
              "      <td>115558557</td>\n",
              "    </tr>\n",
              "    <tr>\n",
              "      <th>3230</th>\n",
              "      <td>78020</td>\n",
              "      <td>78</td>\n",
              "      <td>020</td>\n",
              "      <td>50998479</td>\n",
              "    </tr>\n",
              "    <tr>\n",
              "      <th>3231</th>\n",
              "      <td>78010</td>\n",
              "      <td>78</td>\n",
              "      <td>010</td>\n",
              "      <td>215914992</td>\n",
              "    </tr>\n",
              "    <tr>\n",
              "      <th>3232</th>\n",
              "      <td>78030</td>\n",
              "      <td>78</td>\n",
              "      <td>030</td>\n",
              "      <td>81108425</td>\n",
              "    </tr>\n",
              "  </tbody>\n",
              "</table>\n",
              "<p>3233 rows × 4 columns</p>\n",
              "</div>"
            ],
            "text/plain": [
              "     geo_id state_fips_code county_fips_code  area_land_meters\n",
              "0     01013              01              013        2012002531\n",
              "1     01059              01              059        1641841404\n",
              "2     01041              01              041        1576952799\n",
              "3     01105              01              105        1863900621\n",
              "4     01039              01              039        2669134207\n",
              "...     ...             ...              ...               ...\n",
              "3228  72059              72              059         109480385\n",
              "3229  72111              72              111         115558557\n",
              "3230  78020              78              020          50998479\n",
              "3231  78010              78              010         215914992\n",
              "3232  78030              78              030          81108425\n",
              "\n",
              "[3233 rows x 4 columns]"
            ]
          },
          "metadata": {
            "tags": []
          },
          "execution_count": 7
        }
      ]
    },
    {
      "cell_type": "code",
      "metadata": {
        "id": "EmojxNFbabB2",
        "colab_type": "code",
        "colab": {}
      },
      "source": [
        "# List of the files to be imported\n",
        "\n",
        "link_dict = {'Total_population ':'https://drive.google.com/open?id=1uAbDuOZ3_K4QcCCJFtdqnIE_S5yT4yw8', \\\n",
        "             'Overcrowding':'https://drive.google.com/open?id=1l4fBj1ZMqD6VoK7WJLum0fhdfhUD-gLV', \\\n",
        "             'Older_adults':'https://drive.google.com/open?id=1_TwxgrXK4FOFiuUoF2nFGHvWc-WX02AB', \\\n",
        "             'Occupation':'https://drive.google.com/open?id=1ppfuS7kQGWevOP5TFIMIkzYUuD5eqoR-', \\\n",
        "             'Low_income':'https://drive.google.com/open?id=11PG8moKvvgfTppouplzVwE8Ga-mryDme', \\\n",
        "             'Hispanic':'https://drive.google.com/open?id=1dCpouYjKM3qn-VAYz6GIMwmGtnHYQfZ7'}"
      ],
      "execution_count": 0,
      "outputs": []
    },
    {
      "cell_type": "code",
      "metadata": {
        "id": "0xTQchwkacM0",
        "colab_type": "code",
        "colab": {}
      },
      "source": [
        "df_list = []\n",
        "\n",
        "# This will apply the get_data_from_gdrive function to each file \n",
        "for i in link_dict.keys():\n",
        "  df = get_data_from_gdrive(link_dict[i])\n",
        "  df['table_name'] = i\n",
        "  df_list.append(df)"
      ],
      "execution_count": 0,
      "outputs": []
    },
    {
      "cell_type": "code",
      "metadata": {
        "id": "njCFI46mfzoZ",
        "colab_type": "code",
        "colab": {}
      },
      "source": [
        "Total_population_df = df_list[0]\n",
        "Overcrowding_df = df_list[1]\n",
        "Older_adults_df = df_list[2]\n",
        "Occupation_df = df_list[3]\n",
        "Low_income_df = df_list[4]\n",
        "Hispanic_df = df_list[5]"
      ],
      "execution_count": 0,
      "outputs": []
    },
    {
      "cell_type": "markdown",
      "metadata": {
        "id": "DIlHd-6NAH4P",
        "colab_type": "text"
      },
      "source": [
        "# Data Processing\n"
      ]
    },
    {
      "cell_type": "markdown",
      "metadata": {
        "id": "-rLgyWaDorPR",
        "colab_type": "text"
      },
      "source": [
        "## ACS"
      ]
    },
    {
      "cell_type": "code",
      "metadata": {
        "id": "C9lACOgi6X0k",
        "colab_type": "code",
        "colab": {}
      },
      "source": [
        "# For each dataframe, capturing the last 5 digits which correpsond to the fips code\n",
        "\n",
        "new_df_list = [Total_population_df, Overcrowding_df, Older_adults_df, Occupation_df, Low_income_df, Hispanic_df]\n",
        "\n",
        "for i in new_df_list:\n",
        "  # check before: print(i.head())\n",
        "  i['GEO_ID'] = i['GEO_ID'].astype(str).str[9:]\n",
        "  # check after: print(i.head())"
      ],
      "execution_count": 0,
      "outputs": []
    },
    {
      "cell_type": "markdown",
      "metadata": {
        "id": "CPW6oN19DMZf",
        "colab_type": "text"
      },
      "source": [
        "###  Pulling Square Area per County for Calculating Neighborhoods: Population Density\n"
      ]
    },
    {
      "cell_type": "code",
      "metadata": {
        "id": "Nq7f6tqMOLMq",
        "colab_type": "code",
        "colab": {}
      },
      "source": [
        "square_area_per_county = psql.sqldf('''\n",
        "SELECT counties_squaremiles_df.geo_id,\n",
        "  counties_squaremiles_df.area_land_meters/2.596 AS square_miles\n",
        "FROM counties_squaremiles_df''')"
      ],
      "execution_count": 0,
      "outputs": []
    },
    {
      "cell_type": "code",
      "metadata": {
        "id": "FaoFEZgAs-pV",
        "colab_type": "code",
        "outputId": "1072276b-268b-4507-b4cc-e14439d69717",
        "colab": {
          "base_uri": "https://localhost:8080/",
          "height": 191
        }
      },
      "source": [
        "square_area_per_county.head()"
      ],
      "execution_count": 13,
      "outputs": [
        {
          "output_type": "execute_result",
          "data": {
            "text/html": [
              "<div>\n",
              "<style scoped>\n",
              "    .dataframe tbody tr th:only-of-type {\n",
              "        vertical-align: middle;\n",
              "    }\n",
              "\n",
              "    .dataframe tbody tr th {\n",
              "        vertical-align: top;\n",
              "    }\n",
              "\n",
              "    .dataframe thead th {\n",
              "        text-align: right;\n",
              "    }\n",
              "</style>\n",
              "<table border=\"1\" class=\"dataframe\">\n",
              "  <thead>\n",
              "    <tr style=\"text-align: right;\">\n",
              "      <th></th>\n",
              "      <th>geo_id</th>\n",
              "      <th>square_miles</th>\n",
              "    </tr>\n",
              "  </thead>\n",
              "  <tbody>\n",
              "    <tr>\n",
              "      <th>0</th>\n",
              "      <td>01013</td>\n",
              "      <td>7.750395e+08</td>\n",
              "    </tr>\n",
              "    <tr>\n",
              "      <th>1</th>\n",
              "      <td>01059</td>\n",
              "      <td>6.324505e+08</td>\n",
              "    </tr>\n",
              "    <tr>\n",
              "      <th>2</th>\n",
              "      <td>01041</td>\n",
              "      <td>6.074549e+08</td>\n",
              "    </tr>\n",
              "    <tr>\n",
              "      <th>3</th>\n",
              "      <td>01105</td>\n",
              "      <td>7.179895e+08</td>\n",
              "    </tr>\n",
              "    <tr>\n",
              "      <th>4</th>\n",
              "      <td>01039</td>\n",
              "      <td>1.028172e+09</td>\n",
              "    </tr>\n",
              "  </tbody>\n",
              "</table>\n",
              "</div>"
            ],
            "text/plain": [
              "  geo_id  square_miles\n",
              "0  01013  7.750395e+08\n",
              "1  01059  6.324505e+08\n",
              "2  01041  6.074549e+08\n",
              "3  01105  7.179895e+08\n",
              "4  01039  1.028172e+09"
            ]
          },
          "metadata": {
            "tags": []
          },
          "execution_count": 13
        }
      ]
    },
    {
      "cell_type": "markdown",
      "metadata": {
        "id": "Jx_538RBoYVD",
        "colab_type": "text"
      },
      "source": [
        "# Calculations: First Round"
      ]
    },
    {
      "cell_type": "markdown",
      "metadata": {
        "id": "zpmH9webKGpN",
        "colab_type": "text"
      },
      "source": [
        "## Mobility: Aggregating the Time Series Data over the Last 14 Days [24 April - 7 May]"
      ]
    },
    {
      "cell_type": "code",
      "metadata": {
        "id": "S_9PMozvJ67S",
        "colab_type": "code",
        "outputId": "b6e8340d-d505-40d9-b585-612c0d11e7fd",
        "colab": {
          "base_uri": "https://localhost:8080/",
          "height": 191
        }
      },
      "source": [
        "mobility_and_pop_by_county.head()"
      ],
      "execution_count": 14,
      "outputs": [
        {
          "output_type": "execute_result",
          "data": {
            "text/html": [
              "<div>\n",
              "<style scoped>\n",
              "    .dataframe tbody tr th:only-of-type {\n",
              "        vertical-align: middle;\n",
              "    }\n",
              "\n",
              "    .dataframe tbody tr th {\n",
              "        vertical-align: top;\n",
              "    }\n",
              "\n",
              "    .dataframe thead th {\n",
              "        text-align: right;\n",
              "    }\n",
              "</style>\n",
              "<table border=\"1\" class=\"dataframe\">\n",
              "  <thead>\n",
              "    <tr style=\"text-align: right;\">\n",
              "      <th></th>\n",
              "      <th>fips_code</th>\n",
              "      <th>state</th>\n",
              "      <th>county</th>\n",
              "      <th>total_pop</th>\n",
              "      <th>white_pop</th>\n",
              "      <th>black_pop</th>\n",
              "      <th>asian_pop</th>\n",
              "      <th>hispanic_pop</th>\n",
              "      <th>amerindian_pop</th>\n",
              "      <th>other_race_pop</th>\n",
              "      <th>two_or_more_races_pop</th>\n",
              "      <th>hispanic_any_race</th>\n",
              "      <th>not_hispanic_pop</th>\n",
              "      <th>retail_and_rec</th>\n",
              "      <th>grocery_and_pharmacy</th>\n",
              "      <th>work</th>\n",
              "    </tr>\n",
              "  </thead>\n",
              "  <tbody>\n",
              "    <tr>\n",
              "      <th>0</th>\n",
              "      <td>01001</td>\n",
              "      <td>Alabama</td>\n",
              "      <td>Autauga County</td>\n",
              "      <td>55200.0</td>\n",
              "      <td>41412.0</td>\n",
              "      <td>10475.0</td>\n",
              "      <td>568.0</td>\n",
              "      <td>1528.0</td>\n",
              "      <td>159.0</td>\n",
              "      <td>41.0</td>\n",
              "      <td>1012.0</td>\n",
              "      <td>1528.0</td>\n",
              "      <td>53672.0</td>\n",
              "      <td>-18.195652</td>\n",
              "      <td>8.260870</td>\n",
              "      <td>-34.413043</td>\n",
              "    </tr>\n",
              "    <tr>\n",
              "      <th>1</th>\n",
              "      <td>01003</td>\n",
              "      <td>Alabama</td>\n",
              "      <td>Baldwin County</td>\n",
              "      <td>208107.0</td>\n",
              "      <td>172768.0</td>\n",
              "      <td>19529.0</td>\n",
              "      <td>1668.0</td>\n",
              "      <td>9353.0</td>\n",
              "      <td>1398.0</td>\n",
              "      <td>410.0</td>\n",
              "      <td>2972.0</td>\n",
              "      <td>9353.0</td>\n",
              "      <td>198754.0</td>\n",
              "      <td>-30.913043</td>\n",
              "      <td>-4.913043</td>\n",
              "      <td>-32.108696</td>\n",
              "    </tr>\n",
              "    <tr>\n",
              "      <th>2</th>\n",
              "      <td>01005</td>\n",
              "      <td>Alabama</td>\n",
              "      <td>Barbour County</td>\n",
              "      <td>25782.0</td>\n",
              "      <td>11898.0</td>\n",
              "      <td>12199.0</td>\n",
              "      <td>85.0</td>\n",
              "      <td>1106.0</td>\n",
              "      <td>63.0</td>\n",
              "      <td>86.0</td>\n",
              "      <td>344.0</td>\n",
              "      <td>1106.0</td>\n",
              "      <td>24676.0</td>\n",
              "      <td>-10.181818</td>\n",
              "      <td>-3.000000</td>\n",
              "      <td>-23.891304</td>\n",
              "    </tr>\n",
              "    <tr>\n",
              "      <th>3</th>\n",
              "      <td>01007</td>\n",
              "      <td>Alabama</td>\n",
              "      <td>Bibb County</td>\n",
              "      <td>22527.0</td>\n",
              "      <td>16801.0</td>\n",
              "      <td>4974.0</td>\n",
              "      <td>37.0</td>\n",
              "      <td>547.0</td>\n",
              "      <td>8.0</td>\n",
              "      <td>0.0</td>\n",
              "      <td>160.0</td>\n",
              "      <td>547.0</td>\n",
              "      <td>21980.0</td>\n",
              "      <td>-16.000000</td>\n",
              "      <td>5.500000</td>\n",
              "      <td>-28.478261</td>\n",
              "    </tr>\n",
              "    <tr>\n",
              "      <th>4</th>\n",
              "      <td>01009</td>\n",
              "      <td>Alabama</td>\n",
              "      <td>Blount County</td>\n",
              "      <td>57645.0</td>\n",
              "      <td>50232.0</td>\n",
              "      <td>820.0</td>\n",
              "      <td>198.0</td>\n",
              "      <td>5261.0</td>\n",
              "      <td>124.0</td>\n",
              "      <td>174.0</td>\n",
              "      <td>818.0</td>\n",
              "      <td>5261.0</td>\n",
              "      <td>52384.0</td>\n",
              "      <td>-15.750000</td>\n",
              "      <td>5.619048</td>\n",
              "      <td>-31.652174</td>\n",
              "    </tr>\n",
              "  </tbody>\n",
              "</table>\n",
              "</div>"
            ],
            "text/plain": [
              "  fips_code    state  ... grocery_and_pharmacy       work\n",
              "0     01001  Alabama  ...             8.260870 -34.413043\n",
              "1     01003  Alabama  ...            -4.913043 -32.108696\n",
              "2     01005  Alabama  ...            -3.000000 -23.891304\n",
              "3     01007  Alabama  ...             5.500000 -28.478261\n",
              "4     01009  Alabama  ...             5.619048 -31.652174\n",
              "\n",
              "[5 rows x 16 columns]"
            ]
          },
          "metadata": {
            "tags": []
          },
          "execution_count": 14
        }
      ]
    },
    {
      "cell_type": "code",
      "metadata": {
        "id": "DlBfbA_LKLRE",
        "colab_type": "code",
        "colab": {}
      },
      "source": [
        "# mobility_and_pop_by_county = mobility_and_pop_by_county.set_index(\"date\")\n",
        "\n",
        "# # for number of days to go back from the end_date\n",
        "# date_dict = {'07': '2020-05-01',\n",
        "#              '14': '2020-04-24',\n",
        "#              '21': '2020-04-17',\n",
        "#              '28': '2020-04-10'}\n",
        "# end_date = \"2020-05-07\"\n",
        "\n",
        "# # creates DataFrames sliced by date, \n",
        "# # and calculates mean for each variable on the county level.\n",
        "\n",
        "# df_result_list = []\n",
        "# for i in date_dict.keys():\n",
        "#   df = mobility_and_pop_by_county.loc[date_dict[i]:end_date].groupby(\"fips_code\").mean()\n",
        "#   df_result_list.append(df)\n",
        "\n",
        "# # Datasets filtered for different periods\n",
        "# mobility_and_pop_by_county_index_07 = df_result_list[0]\n",
        "# mobility_and_pop_by_county_index_14 = df_result_list[1]\n",
        "# mobility_and_pop_by_county_index_21 = df_result_list[2]\n",
        "# mobility_and_pop_by_county_index_28 = df_result_list[3]\n",
        "\n",
        "# # The final data set to use, filtered to include only the last 14 days\n",
        "# final_df = mobility_and_pop_by_county_index_14"
      ],
      "execution_count": 0,
      "outputs": []
    },
    {
      "cell_type": "code",
      "metadata": {
        "id": "tVxkWfmZKxPv",
        "colab_type": "code",
        "outputId": "a26c1c55-5d3e-4b43-9a4f-21f475d4e2f2",
        "colab": {
          "base_uri": "https://localhost:8080/",
          "height": 191
        }
      },
      "source": [
        "final_df = mobility_and_pop_by_county\n",
        "final_df.head()"
      ],
      "execution_count": 15,
      "outputs": [
        {
          "output_type": "execute_result",
          "data": {
            "text/html": [
              "<div>\n",
              "<style scoped>\n",
              "    .dataframe tbody tr th:only-of-type {\n",
              "        vertical-align: middle;\n",
              "    }\n",
              "\n",
              "    .dataframe tbody tr th {\n",
              "        vertical-align: top;\n",
              "    }\n",
              "\n",
              "    .dataframe thead th {\n",
              "        text-align: right;\n",
              "    }\n",
              "</style>\n",
              "<table border=\"1\" class=\"dataframe\">\n",
              "  <thead>\n",
              "    <tr style=\"text-align: right;\">\n",
              "      <th></th>\n",
              "      <th>fips_code</th>\n",
              "      <th>state</th>\n",
              "      <th>county</th>\n",
              "      <th>total_pop</th>\n",
              "      <th>white_pop</th>\n",
              "      <th>black_pop</th>\n",
              "      <th>asian_pop</th>\n",
              "      <th>hispanic_pop</th>\n",
              "      <th>amerindian_pop</th>\n",
              "      <th>other_race_pop</th>\n",
              "      <th>two_or_more_races_pop</th>\n",
              "      <th>hispanic_any_race</th>\n",
              "      <th>not_hispanic_pop</th>\n",
              "      <th>retail_and_rec</th>\n",
              "      <th>grocery_and_pharmacy</th>\n",
              "      <th>work</th>\n",
              "    </tr>\n",
              "  </thead>\n",
              "  <tbody>\n",
              "    <tr>\n",
              "      <th>0</th>\n",
              "      <td>01001</td>\n",
              "      <td>Alabama</td>\n",
              "      <td>Autauga County</td>\n",
              "      <td>55200.0</td>\n",
              "      <td>41412.0</td>\n",
              "      <td>10475.0</td>\n",
              "      <td>568.0</td>\n",
              "      <td>1528.0</td>\n",
              "      <td>159.0</td>\n",
              "      <td>41.0</td>\n",
              "      <td>1012.0</td>\n",
              "      <td>1528.0</td>\n",
              "      <td>53672.0</td>\n",
              "      <td>-18.195652</td>\n",
              "      <td>8.260870</td>\n",
              "      <td>-34.413043</td>\n",
              "    </tr>\n",
              "    <tr>\n",
              "      <th>1</th>\n",
              "      <td>01003</td>\n",
              "      <td>Alabama</td>\n",
              "      <td>Baldwin County</td>\n",
              "      <td>208107.0</td>\n",
              "      <td>172768.0</td>\n",
              "      <td>19529.0</td>\n",
              "      <td>1668.0</td>\n",
              "      <td>9353.0</td>\n",
              "      <td>1398.0</td>\n",
              "      <td>410.0</td>\n",
              "      <td>2972.0</td>\n",
              "      <td>9353.0</td>\n",
              "      <td>198754.0</td>\n",
              "      <td>-30.913043</td>\n",
              "      <td>-4.913043</td>\n",
              "      <td>-32.108696</td>\n",
              "    </tr>\n",
              "    <tr>\n",
              "      <th>2</th>\n",
              "      <td>01005</td>\n",
              "      <td>Alabama</td>\n",
              "      <td>Barbour County</td>\n",
              "      <td>25782.0</td>\n",
              "      <td>11898.0</td>\n",
              "      <td>12199.0</td>\n",
              "      <td>85.0</td>\n",
              "      <td>1106.0</td>\n",
              "      <td>63.0</td>\n",
              "      <td>86.0</td>\n",
              "      <td>344.0</td>\n",
              "      <td>1106.0</td>\n",
              "      <td>24676.0</td>\n",
              "      <td>-10.181818</td>\n",
              "      <td>-3.000000</td>\n",
              "      <td>-23.891304</td>\n",
              "    </tr>\n",
              "    <tr>\n",
              "      <th>3</th>\n",
              "      <td>01007</td>\n",
              "      <td>Alabama</td>\n",
              "      <td>Bibb County</td>\n",
              "      <td>22527.0</td>\n",
              "      <td>16801.0</td>\n",
              "      <td>4974.0</td>\n",
              "      <td>37.0</td>\n",
              "      <td>547.0</td>\n",
              "      <td>8.0</td>\n",
              "      <td>0.0</td>\n",
              "      <td>160.0</td>\n",
              "      <td>547.0</td>\n",
              "      <td>21980.0</td>\n",
              "      <td>-16.000000</td>\n",
              "      <td>5.500000</td>\n",
              "      <td>-28.478261</td>\n",
              "    </tr>\n",
              "    <tr>\n",
              "      <th>4</th>\n",
              "      <td>01009</td>\n",
              "      <td>Alabama</td>\n",
              "      <td>Blount County</td>\n",
              "      <td>57645.0</td>\n",
              "      <td>50232.0</td>\n",
              "      <td>820.0</td>\n",
              "      <td>198.0</td>\n",
              "      <td>5261.0</td>\n",
              "      <td>124.0</td>\n",
              "      <td>174.0</td>\n",
              "      <td>818.0</td>\n",
              "      <td>5261.0</td>\n",
              "      <td>52384.0</td>\n",
              "      <td>-15.750000</td>\n",
              "      <td>5.619048</td>\n",
              "      <td>-31.652174</td>\n",
              "    </tr>\n",
              "  </tbody>\n",
              "</table>\n",
              "</div>"
            ],
            "text/plain": [
              "  fips_code    state  ... grocery_and_pharmacy       work\n",
              "0     01001  Alabama  ...             8.260870 -34.413043\n",
              "1     01003  Alabama  ...            -4.913043 -32.108696\n",
              "2     01005  Alabama  ...            -3.000000 -23.891304\n",
              "3     01007  Alabama  ...             5.500000 -28.478261\n",
              "4     01009  Alabama  ...             5.619048 -31.652174\n",
              "\n",
              "[5 rows x 16 columns]"
            ]
          },
          "metadata": {
            "tags": []
          },
          "execution_count": 15
        }
      ]
    },
    {
      "cell_type": "code",
      "metadata": {
        "id": "OCY3ya2kJ9qu",
        "colab_type": "code",
        "outputId": "3c1c9e8e-c2c5-4793-8702-f987034195ed",
        "colab": {
          "base_uri": "https://localhost:8080/",
          "height": 33
        }
      },
      "source": [
        "len(final_df)"
      ],
      "execution_count": 16,
      "outputs": [
        {
          "output_type": "execute_result",
          "data": {
            "text/plain": [
              "2331"
            ]
          },
          "metadata": {
            "tags": []
          },
          "execution_count": 16
        }
      ]
    },
    {
      "cell_type": "markdown",
      "metadata": {
        "id": "mmXw2dQ2C_SI",
        "colab_type": "text"
      },
      "source": [
        "## Calculating Homes: Overcrowded Rooms\n",
        "\n",
        "[DONE] Need to include a total_rooms per county\n",
        "Then divide rooms_with_multiple_occupants with total number of rooms\n"
      ]
    },
    {
      "cell_type": "code",
      "metadata": {
        "id": "dBsvx3DHrItt",
        "colab_type": "code",
        "colab": {}
      },
      "source": [
        "#Taking only those columns into consideration where no. of occupants per room is more than one\n",
        "more_than_one_occupant_df = Overcrowding_df[['GEO_ID','NAME','B25014_001E','B25014_005E','B25014_006E','B25014_007E','B25014_011E','B25014_012E','B25014_013E']]"
      ],
      "execution_count": 0,
      "outputs": []
    },
    {
      "cell_type": "code",
      "metadata": {
        "id": "Ri32MrdPY4CR",
        "colab_type": "code",
        "colab": {}
      },
      "source": [
        "# Total number of rooms having more than one occupant per room in each county\n",
        "overcrowded_calc_df = psql.sqldf('''select geo_id,name, sum(B25014_005E)+sum(B25014_006E)+sum(B25014_007E)+sum(B25014_011E)+sum(B25014_012E)+sum(B25014_013E) as rooms_with_multiple_occupants, B25014_001E as total_rooms, (sum(B25014_005E)+sum(B25014_006E)+sum(B25014_007E)+sum(B25014_011E)+sum(B25014_012E)+sum(B25014_013E))*1.0000/B25014_001E as percentage_overcrowded_rooms\n",
        "          from more_than_one_occupant_df\n",
        "          group by geo_id''',globals()).iloc[1:]"
      ],
      "execution_count": 0,
      "outputs": []
    },
    {
      "cell_type": "code",
      "metadata": {
        "id": "XpHzBCKjmrCQ",
        "colab_type": "code",
        "outputId": "5762b632-f624-4bdb-c1be-c6e67200ec92",
        "colab": {
          "base_uri": "https://localhost:8080/",
          "height": 191
        }
      },
      "source": [
        "overcrowded_calc_df.head()"
      ],
      "execution_count": 19,
      "outputs": [
        {
          "output_type": "execute_result",
          "data": {
            "text/html": [
              "<div>\n",
              "<style scoped>\n",
              "    .dataframe tbody tr th:only-of-type {\n",
              "        vertical-align: middle;\n",
              "    }\n",
              "\n",
              "    .dataframe tbody tr th {\n",
              "        vertical-align: top;\n",
              "    }\n",
              "\n",
              "    .dataframe thead th {\n",
              "        text-align: right;\n",
              "    }\n",
              "</style>\n",
              "<table border=\"1\" class=\"dataframe\">\n",
              "  <thead>\n",
              "    <tr style=\"text-align: right;\">\n",
              "      <th></th>\n",
              "      <th>GEO_ID</th>\n",
              "      <th>NAME</th>\n",
              "      <th>rooms_with_multiple_occupants</th>\n",
              "      <th>total_rooms</th>\n",
              "      <th>percentage_overcrowded_rooms</th>\n",
              "    </tr>\n",
              "  </thead>\n",
              "  <tbody>\n",
              "    <tr>\n",
              "      <th>1</th>\n",
              "      <td>01001</td>\n",
              "      <td>Autauga County, Alabama</td>\n",
              "      <td>299.0</td>\n",
              "      <td>21115</td>\n",
              "      <td>0.014161</td>\n",
              "    </tr>\n",
              "    <tr>\n",
              "      <th>2</th>\n",
              "      <td>01003</td>\n",
              "      <td>Baldwin County, Alabama</td>\n",
              "      <td>991.0</td>\n",
              "      <td>78622</td>\n",
              "      <td>0.012605</td>\n",
              "    </tr>\n",
              "    <tr>\n",
              "      <th>3</th>\n",
              "      <td>01005</td>\n",
              "      <td>Barbour County, Alabama</td>\n",
              "      <td>313.0</td>\n",
              "      <td>9186</td>\n",
              "      <td>0.034074</td>\n",
              "    </tr>\n",
              "    <tr>\n",
              "      <th>4</th>\n",
              "      <td>01007</td>\n",
              "      <td>Bibb County, Alabama</td>\n",
              "      <td>52.0</td>\n",
              "      <td>6840</td>\n",
              "      <td>0.007602</td>\n",
              "    </tr>\n",
              "    <tr>\n",
              "      <th>5</th>\n",
              "      <td>01009</td>\n",
              "      <td>Blount County, Alabama</td>\n",
              "      <td>339.0</td>\n",
              "      <td>20600</td>\n",
              "      <td>0.016456</td>\n",
              "    </tr>\n",
              "  </tbody>\n",
              "</table>\n",
              "</div>"
            ],
            "text/plain": [
              "  GEO_ID                     NAME  ...  total_rooms percentage_overcrowded_rooms\n",
              "1  01001  Autauga County, Alabama  ...        21115                     0.014161\n",
              "2  01003  Baldwin County, Alabama  ...        78622                     0.012605\n",
              "3  01005  Barbour County, Alabama  ...         9186                     0.034074\n",
              "4  01007     Bibb County, Alabama  ...         6840                     0.007602\n",
              "5  01009   Blount County, Alabama  ...        20600                     0.016456\n",
              "\n",
              "[5 rows x 5 columns]"
            ]
          },
          "metadata": {
            "tags": []
          },
          "execution_count": 19
        }
      ]
    },
    {
      "cell_type": "markdown",
      "metadata": {
        "id": "ioTvxfadDUG9",
        "colab_type": "text"
      },
      "source": [
        "## Calculating Workplaces: Essential Jobs \n",
        "\n",
        "Calculation for % Essential wokers by county (Essential_workers divided by total population of county) performed in Master DF"
      ]
    },
    {
      "cell_type": "code",
      "metadata": {
        "id": "lRIB9jwicrbN",
        "colab_type": "code",
        "colab": {}
      },
      "source": [
        "# Keeping only those occupations from occupation_df which are considered essential by the colorado SDI\n",
        "essential_occupation_df = Occupation_df[['GEO_ID','NAME','C24050_002E','C24050_003E','C24050_004E','C24050_005E','C24050_006E','C24050_007E','C24050_011E','C24050_012E','C24050_013E','C24050_024E']]"
      ],
      "execution_count": 0,
      "outputs": []
    },
    {
      "cell_type": "code",
      "metadata": {
        "id": "0qu8ZDYmmaYT",
        "colab_type": "code",
        "colab": {}
      },
      "source": [
        "# Sum of Essential Workers in each county\n",
        "\n",
        "total_essential_workers_df = psql.sqldf('''\n",
        "SELECT geo_id,\n",
        "  name,\n",
        "  sum(C24050_002E)+sum(C24050_003E)+sum(C24050_004E)+sum(C24050_005E)+(sum(C24050_006E)*0.6)+sum(C24050_007E)+sum(C24050_011E)+(sum(C24050_012E)*0.64)\n",
        "+(sum(C24050_013E)*0.4)+(sum(C24050_024E)*0.18) AS Essential_Workers\n",
        "FROM essential_occupation_df\n",
        "GROUP BY geo_id\n",
        "''').iloc[1:]"
      ],
      "execution_count": 0,
      "outputs": []
    },
    {
      "cell_type": "code",
      "metadata": {
        "id": "PRz9HviOLTKU",
        "colab_type": "code",
        "outputId": "b582f6c3-b643-4be0-9406-a8628e1d54d0",
        "colab": {
          "base_uri": "https://localhost:8080/",
          "height": 191
        }
      },
      "source": [
        "total_essential_workers_df.head()"
      ],
      "execution_count": 22,
      "outputs": [
        {
          "output_type": "execute_result",
          "data": {
            "text/html": [
              "<div>\n",
              "<style scoped>\n",
              "    .dataframe tbody tr th:only-of-type {\n",
              "        vertical-align: middle;\n",
              "    }\n",
              "\n",
              "    .dataframe tbody tr th {\n",
              "        vertical-align: top;\n",
              "    }\n",
              "\n",
              "    .dataframe thead th {\n",
              "        text-align: right;\n",
              "    }\n",
              "</style>\n",
              "<table border=\"1\" class=\"dataframe\">\n",
              "  <thead>\n",
              "    <tr style=\"text-align: right;\">\n",
              "      <th></th>\n",
              "      <th>GEO_ID</th>\n",
              "      <th>NAME</th>\n",
              "      <th>Essential_Workers</th>\n",
              "    </tr>\n",
              "  </thead>\n",
              "  <tbody>\n",
              "    <tr>\n",
              "      <th>1</th>\n",
              "      <td>01001</td>\n",
              "      <td>Autauga County, Alabama</td>\n",
              "      <td>15300.40</td>\n",
              "    </tr>\n",
              "    <tr>\n",
              "      <th>2</th>\n",
              "      <td>01003</td>\n",
              "      <td>Baldwin County, Alabama</td>\n",
              "      <td>60123.62</td>\n",
              "    </tr>\n",
              "    <tr>\n",
              "      <th>3</th>\n",
              "      <td>01005</td>\n",
              "      <td>Barbour County, Alabama</td>\n",
              "      <td>6564.50</td>\n",
              "    </tr>\n",
              "    <tr>\n",
              "      <th>4</th>\n",
              "      <td>01007</td>\n",
              "      <td>Bibb County, Alabama</td>\n",
              "      <td>6041.06</td>\n",
              "    </tr>\n",
              "    <tr>\n",
              "      <th>5</th>\n",
              "      <td>01009</td>\n",
              "      <td>Blount County, Alabama</td>\n",
              "      <td>15216.38</td>\n",
              "    </tr>\n",
              "  </tbody>\n",
              "</table>\n",
              "</div>"
            ],
            "text/plain": [
              "  GEO_ID                     NAME  Essential_Workers\n",
              "1  01001  Autauga County, Alabama           15300.40\n",
              "2  01003  Baldwin County, Alabama           60123.62\n",
              "3  01005  Barbour County, Alabama            6564.50\n",
              "4  01007     Bibb County, Alabama            6041.06\n",
              "5  01009   Blount County, Alabama           15216.38"
            ]
          },
          "metadata": {
            "tags": []
          },
          "execution_count": 22
        }
      ]
    },
    {
      "cell_type": "markdown",
      "metadata": {
        "id": "fznRmE6TiTOD",
        "colab_type": "text"
      },
      "source": [
        "# Creating Master table\n",
        "[DONE] Join mobility_race dataset to acs datatsets via fips code"
      ]
    },
    {
      "cell_type": "markdown",
      "metadata": {
        "id": "Uc7e-_FXuEGV",
        "colab_type": "text"
      },
      "source": [
        "Number of null rows in overcrowded = 0\n",
        "\n",
        "Number of null rows in square_miles = 0\n",
        "\n",
        "Number of null rows in essential workers = 1 (Rio Arriba)"
      ]
    },
    {
      "cell_type": "code",
      "metadata": {
        "id": "FsHtRTmNuB4S",
        "colab_type": "code",
        "outputId": "7a3d6450-5eb7-46d7-b054-fbbf9e14a650",
        "colab": {
          "base_uri": "https://localhost:8080/",
          "height": 82
        }
      },
      "source": [
        "print(f'Overcrowded rows: {len(overcrowded_calc_df)}')\n",
        "print(f'Square Miles rows: {len(square_area_per_county)}')\n",
        "print(f'Essential Workers rows: {len(total_essential_workers_df)}')\n",
        "print(f'Final_df Workers rows: {len(final_df)}')"
      ],
      "execution_count": 23,
      "outputs": [
        {
          "output_type": "stream",
          "text": [
            "Overcrowded rows: 3220\n",
            "Square Miles rows: 3233\n",
            "Essential Workers rows: 3220\n",
            "Final_df Workers rows: 2331\n"
          ],
          "name": "stdout"
        }
      ]
    },
    {
      "cell_type": "code",
      "metadata": {
        "id": "h8Ay5CzzwtIA",
        "colab_type": "code",
        "outputId": "a5f986a4-621b-4223-db58-25dc2f19f757",
        "colab": {
          "base_uri": "https://localhost:8080/",
          "height": 191
        }
      },
      "source": [
        "final_df.head()"
      ],
      "execution_count": 25,
      "outputs": [
        {
          "output_type": "execute_result",
          "data": {
            "text/html": [
              "<div>\n",
              "<style scoped>\n",
              "    .dataframe tbody tr th:only-of-type {\n",
              "        vertical-align: middle;\n",
              "    }\n",
              "\n",
              "    .dataframe tbody tr th {\n",
              "        vertical-align: top;\n",
              "    }\n",
              "\n",
              "    .dataframe thead th {\n",
              "        text-align: right;\n",
              "    }\n",
              "</style>\n",
              "<table border=\"1\" class=\"dataframe\">\n",
              "  <thead>\n",
              "    <tr style=\"text-align: right;\">\n",
              "      <th></th>\n",
              "      <th>fips_code</th>\n",
              "      <th>state</th>\n",
              "      <th>county</th>\n",
              "      <th>total_pop</th>\n",
              "      <th>white_pop</th>\n",
              "      <th>black_pop</th>\n",
              "      <th>asian_pop</th>\n",
              "      <th>hispanic_pop</th>\n",
              "      <th>amerindian_pop</th>\n",
              "      <th>other_race_pop</th>\n",
              "      <th>two_or_more_races_pop</th>\n",
              "      <th>hispanic_any_race</th>\n",
              "      <th>not_hispanic_pop</th>\n",
              "      <th>retail_and_rec</th>\n",
              "      <th>grocery_and_pharmacy</th>\n",
              "      <th>work</th>\n",
              "    </tr>\n",
              "  </thead>\n",
              "  <tbody>\n",
              "    <tr>\n",
              "      <th>0</th>\n",
              "      <td>01001</td>\n",
              "      <td>Alabama</td>\n",
              "      <td>Autauga County</td>\n",
              "      <td>55200.0</td>\n",
              "      <td>41412.0</td>\n",
              "      <td>10475.0</td>\n",
              "      <td>568.0</td>\n",
              "      <td>1528.0</td>\n",
              "      <td>159.0</td>\n",
              "      <td>41.0</td>\n",
              "      <td>1012.0</td>\n",
              "      <td>1528.0</td>\n",
              "      <td>53672.0</td>\n",
              "      <td>-18.195652</td>\n",
              "      <td>8.260870</td>\n",
              "      <td>-34.413043</td>\n",
              "    </tr>\n",
              "    <tr>\n",
              "      <th>1</th>\n",
              "      <td>01003</td>\n",
              "      <td>Alabama</td>\n",
              "      <td>Baldwin County</td>\n",
              "      <td>208107.0</td>\n",
              "      <td>172768.0</td>\n",
              "      <td>19529.0</td>\n",
              "      <td>1668.0</td>\n",
              "      <td>9353.0</td>\n",
              "      <td>1398.0</td>\n",
              "      <td>410.0</td>\n",
              "      <td>2972.0</td>\n",
              "      <td>9353.0</td>\n",
              "      <td>198754.0</td>\n",
              "      <td>-30.913043</td>\n",
              "      <td>-4.913043</td>\n",
              "      <td>-32.108696</td>\n",
              "    </tr>\n",
              "    <tr>\n",
              "      <th>2</th>\n",
              "      <td>01005</td>\n",
              "      <td>Alabama</td>\n",
              "      <td>Barbour County</td>\n",
              "      <td>25782.0</td>\n",
              "      <td>11898.0</td>\n",
              "      <td>12199.0</td>\n",
              "      <td>85.0</td>\n",
              "      <td>1106.0</td>\n",
              "      <td>63.0</td>\n",
              "      <td>86.0</td>\n",
              "      <td>344.0</td>\n",
              "      <td>1106.0</td>\n",
              "      <td>24676.0</td>\n",
              "      <td>-10.181818</td>\n",
              "      <td>-3.000000</td>\n",
              "      <td>-23.891304</td>\n",
              "    </tr>\n",
              "    <tr>\n",
              "      <th>3</th>\n",
              "      <td>01007</td>\n",
              "      <td>Alabama</td>\n",
              "      <td>Bibb County</td>\n",
              "      <td>22527.0</td>\n",
              "      <td>16801.0</td>\n",
              "      <td>4974.0</td>\n",
              "      <td>37.0</td>\n",
              "      <td>547.0</td>\n",
              "      <td>8.0</td>\n",
              "      <td>0.0</td>\n",
              "      <td>160.0</td>\n",
              "      <td>547.0</td>\n",
              "      <td>21980.0</td>\n",
              "      <td>-16.000000</td>\n",
              "      <td>5.500000</td>\n",
              "      <td>-28.478261</td>\n",
              "    </tr>\n",
              "    <tr>\n",
              "      <th>4</th>\n",
              "      <td>01009</td>\n",
              "      <td>Alabama</td>\n",
              "      <td>Blount County</td>\n",
              "      <td>57645.0</td>\n",
              "      <td>50232.0</td>\n",
              "      <td>820.0</td>\n",
              "      <td>198.0</td>\n",
              "      <td>5261.0</td>\n",
              "      <td>124.0</td>\n",
              "      <td>174.0</td>\n",
              "      <td>818.0</td>\n",
              "      <td>5261.0</td>\n",
              "      <td>52384.0</td>\n",
              "      <td>-15.750000</td>\n",
              "      <td>5.619048</td>\n",
              "      <td>-31.652174</td>\n",
              "    </tr>\n",
              "  </tbody>\n",
              "</table>\n",
              "</div>"
            ],
            "text/plain": [
              "  fips_code    state  ... grocery_and_pharmacy       work\n",
              "0     01001  Alabama  ...             8.260870 -34.413043\n",
              "1     01003  Alabama  ...            -4.913043 -32.108696\n",
              "2     01005  Alabama  ...            -3.000000 -23.891304\n",
              "3     01007  Alabama  ...             5.500000 -28.478261\n",
              "4     01009  Alabama  ...             5.619048 -31.652174\n",
              "\n",
              "[5 rows x 16 columns]"
            ]
          },
          "metadata": {
            "tags": []
          },
          "execution_count": 25
        }
      ]
    },
    {
      "cell_type": "code",
      "metadata": {
        "id": "ZVablr18Wd9s",
        "colab_type": "code",
        "colab": {}
      },
      "source": [
        "# Merging 4 DataFrames together\n",
        "master_df = pd.concat([final_df.set_index(\"fips_code\"), overcrowded_calc_df.drop(\"NAME\", axis = 1).set_index(\"GEO_ID\"), square_area_per_county.set_index(\"geo_id\"), total_essential_workers_df.set_index(\"GEO_ID\")[\"Essential_Workers\"]], axis = 1).reset_index(drop = False)"
      ],
      "execution_count": 0,
      "outputs": []
    },
    {
      "cell_type": "code",
      "metadata": {
        "id": "It0EjKT8yvAy",
        "colab_type": "code",
        "outputId": "7df7bd7a-633c-48f3-82f5-31107718da80",
        "colab": {
          "base_uri": "https://localhost:8080/",
          "height": 292
        }
      },
      "source": [
        "master_df.columns = ['GEO_ID' if x=='index' else x for x in master_df.columns] # renaming the column\n",
        "master_df.head()"
      ],
      "execution_count": 62,
      "outputs": [
        {
          "output_type": "execute_result",
          "data": {
            "text/html": [
              "<div>\n",
              "<style scoped>\n",
              "    .dataframe tbody tr th:only-of-type {\n",
              "        vertical-align: middle;\n",
              "    }\n",
              "\n",
              "    .dataframe tbody tr th {\n",
              "        vertical-align: top;\n",
              "    }\n",
              "\n",
              "    .dataframe thead th {\n",
              "        text-align: right;\n",
              "    }\n",
              "</style>\n",
              "<table border=\"1\" class=\"dataframe\">\n",
              "  <thead>\n",
              "    <tr style=\"text-align: right;\">\n",
              "      <th></th>\n",
              "      <th>GEO_ID</th>\n",
              "      <th>state</th>\n",
              "      <th>county</th>\n",
              "      <th>total_pop</th>\n",
              "      <th>white_pop</th>\n",
              "      <th>black_pop</th>\n",
              "      <th>asian_pop</th>\n",
              "      <th>hispanic_pop</th>\n",
              "      <th>amerindian_pop</th>\n",
              "      <th>other_race_pop</th>\n",
              "      <th>two_or_more_races_pop</th>\n",
              "      <th>hispanic_any_race</th>\n",
              "      <th>not_hispanic_pop</th>\n",
              "      <th>retail_and_rec</th>\n",
              "      <th>grocery_and_pharmacy</th>\n",
              "      <th>work</th>\n",
              "      <th>rooms_with_multiple_occupants</th>\n",
              "      <th>total_rooms</th>\n",
              "      <th>percentage_overcrowded_rooms</th>\n",
              "      <th>square_miles</th>\n",
              "      <th>Essential_Workers</th>\n",
              "    </tr>\n",
              "  </thead>\n",
              "  <tbody>\n",
              "    <tr>\n",
              "      <th>0</th>\n",
              "      <td>01001</td>\n",
              "      <td>Alabama</td>\n",
              "      <td>Autauga County</td>\n",
              "      <td>55200.0</td>\n",
              "      <td>41412.0</td>\n",
              "      <td>10475.0</td>\n",
              "      <td>568.0</td>\n",
              "      <td>1528.0</td>\n",
              "      <td>159.0</td>\n",
              "      <td>41.0</td>\n",
              "      <td>1012.0</td>\n",
              "      <td>1528.0</td>\n",
              "      <td>53672.0</td>\n",
              "      <td>-18.195652</td>\n",
              "      <td>8.260870</td>\n",
              "      <td>-34.413043</td>\n",
              "      <td>299.0</td>\n",
              "      <td>21115</td>\n",
              "      <td>0.014161</td>\n",
              "      <td>5.930671e+08</td>\n",
              "      <td>15300.40</td>\n",
              "    </tr>\n",
              "    <tr>\n",
              "      <th>1</th>\n",
              "      <td>01003</td>\n",
              "      <td>Alabama</td>\n",
              "      <td>Baldwin County</td>\n",
              "      <td>208107.0</td>\n",
              "      <td>172768.0</td>\n",
              "      <td>19529.0</td>\n",
              "      <td>1668.0</td>\n",
              "      <td>9353.0</td>\n",
              "      <td>1398.0</td>\n",
              "      <td>410.0</td>\n",
              "      <td>2972.0</td>\n",
              "      <td>9353.0</td>\n",
              "      <td>198754.0</td>\n",
              "      <td>-30.913043</td>\n",
              "      <td>-4.913043</td>\n",
              "      <td>-32.108696</td>\n",
              "      <td>991.0</td>\n",
              "      <td>78622</td>\n",
              "      <td>0.012605</td>\n",
              "      <td>1.586141e+09</td>\n",
              "      <td>60123.62</td>\n",
              "    </tr>\n",
              "    <tr>\n",
              "      <th>2</th>\n",
              "      <td>01005</td>\n",
              "      <td>Alabama</td>\n",
              "      <td>Barbour County</td>\n",
              "      <td>25782.0</td>\n",
              "      <td>11898.0</td>\n",
              "      <td>12199.0</td>\n",
              "      <td>85.0</td>\n",
              "      <td>1106.0</td>\n",
              "      <td>63.0</td>\n",
              "      <td>86.0</td>\n",
              "      <td>344.0</td>\n",
              "      <td>1106.0</td>\n",
              "      <td>24676.0</td>\n",
              "      <td>-10.181818</td>\n",
              "      <td>-3.000000</td>\n",
              "      <td>-23.891304</td>\n",
              "      <td>313.0</td>\n",
              "      <td>9186</td>\n",
              "      <td>0.034074</td>\n",
              "      <td>8.829585e+08</td>\n",
              "      <td>6564.50</td>\n",
              "    </tr>\n",
              "    <tr>\n",
              "      <th>3</th>\n",
              "      <td>01007</td>\n",
              "      <td>Alabama</td>\n",
              "      <td>Bibb County</td>\n",
              "      <td>22527.0</td>\n",
              "      <td>16801.0</td>\n",
              "      <td>4974.0</td>\n",
              "      <td>37.0</td>\n",
              "      <td>547.0</td>\n",
              "      <td>8.0</td>\n",
              "      <td>0.0</td>\n",
              "      <td>160.0</td>\n",
              "      <td>547.0</td>\n",
              "      <td>21980.0</td>\n",
              "      <td>-16.000000</td>\n",
              "      <td>5.500000</td>\n",
              "      <td>-28.478261</td>\n",
              "      <td>52.0</td>\n",
              "      <td>6840</td>\n",
              "      <td>0.007602</td>\n",
              "      <td>6.210198e+08</td>\n",
              "      <td>6041.06</td>\n",
              "    </tr>\n",
              "    <tr>\n",
              "      <th>4</th>\n",
              "      <td>01009</td>\n",
              "      <td>Alabama</td>\n",
              "      <td>Blount County</td>\n",
              "      <td>57645.0</td>\n",
              "      <td>50232.0</td>\n",
              "      <td>820.0</td>\n",
              "      <td>198.0</td>\n",
              "      <td>5261.0</td>\n",
              "      <td>124.0</td>\n",
              "      <td>174.0</td>\n",
              "      <td>818.0</td>\n",
              "      <td>5261.0</td>\n",
              "      <td>52384.0</td>\n",
              "      <td>-15.750000</td>\n",
              "      <td>5.619048</td>\n",
              "      <td>-31.652174</td>\n",
              "      <td>339.0</td>\n",
              "      <td>20600</td>\n",
              "      <td>0.016456</td>\n",
              "      <td>6.433374e+08</td>\n",
              "      <td>15216.38</td>\n",
              "    </tr>\n",
              "  </tbody>\n",
              "</table>\n",
              "</div>"
            ],
            "text/plain": [
              "  GEO_ID    state  ...  square_miles  Essential_Workers\n",
              "0  01001  Alabama  ...  5.930671e+08           15300.40\n",
              "1  01003  Alabama  ...  1.586141e+09           60123.62\n",
              "2  01005  Alabama  ...  8.829585e+08            6564.50\n",
              "3  01007  Alabama  ...  6.210198e+08            6041.06\n",
              "4  01009  Alabama  ...  6.433374e+08           15216.38\n",
              "\n",
              "[5 rows x 21 columns]"
            ]
          },
          "metadata": {
            "tags": []
          },
          "execution_count": 62
        }
      ]
    },
    {
      "cell_type": "markdown",
      "metadata": {
        "id": "g46lwMkw0kCa",
        "colab_type": "text"
      },
      "source": [
        "# Calculations: Second Round\n",
        "\n",
        "- Population density: total_pop / square_miles\n",
        "- % Essential workers: Essential_workers / total_pop\n",
        "- Black, White, Asian, etc.: {black/white/asian/etc}_pop/ total_pop"
      ]
    },
    {
      "cell_type": "markdown",
      "metadata": {
        "id": "s54nkCm9KDA1",
        "colab_type": "text"
      },
      "source": [
        "## Calculating Population Density"
      ]
    },
    {
      "cell_type": "code",
      "metadata": {
        "id": "1c0OXBAcFCTi",
        "colab_type": "code",
        "outputId": "7d255275-9a07-4f63-d4db-643d2650d3b8",
        "colab": {
          "base_uri": "https://localhost:8080/",
          "height": 245
        }
      },
      "source": [
        "# Calculating population density\n",
        "\n",
        "master_df['pop_density'] = master_df['total_pop']/ master_df['square_miles']\n",
        "\n",
        "print(master_df)"
      ],
      "execution_count": 71,
      "outputs": [
        {
          "output_type": "stream",
          "text": [
            "     GEO_ID    state  ... percent_essential_workers  pop_density\n",
            "0     01001  Alabama  ...                  0.277181     0.000093\n",
            "1     01003  Alabama  ...                  0.288907     0.000131\n",
            "2     01005  Alabama  ...                  0.254616     0.000029\n",
            "3     01007  Alabama  ...                  0.268170     0.000036\n",
            "4     01009  Alabama  ...                  0.263967     0.000090\n",
            "...     ...      ...  ...                       ...          ...\n",
            "3228  69120      NaN  ...                       NaN          NaN\n",
            "3229  69110      NaN  ...                       NaN          NaN\n",
            "3230  78020      NaN  ...                       NaN          NaN\n",
            "3231  78010      NaN  ...                       NaN          NaN\n",
            "3232  78030      NaN  ...                       NaN          NaN\n",
            "\n",
            "[3233 rows x 32 columns]\n"
          ],
          "name": "stdout"
        }
      ]
    },
    {
      "cell_type": "markdown",
      "metadata": {
        "id": "6150GSj2KP51",
        "colab_type": "text"
      },
      "source": [
        "## Calculating % Essential workers by County"
      ]
    },
    {
      "cell_type": "code",
      "metadata": {
        "id": "j4hgbmO9Gi4W",
        "colab_type": "code",
        "colab": {}
      },
      "source": [
        "# Calculating % of essential workers\n",
        "\n",
        "master_df['percent_essential_workers'] = master_df['Essential_Workers']/master_df['total_pop']"
      ],
      "execution_count": 0,
      "outputs": []
    },
    {
      "cell_type": "markdown",
      "metadata": {
        "id": "A0pdZgdqKmVV",
        "colab_type": "text"
      },
      "source": [
        "## Calculating % Race by County"
      ]
    },
    {
      "cell_type": "code",
      "metadata": {
        "id": "2VljJk7mHm88",
        "colab_type": "code",
        "outputId": "98bc6ac0-15e3-4aae-a3e0-310d4435838c",
        "colab": {
          "base_uri": "https://localhost:8080/",
          "height": 245
        }
      },
      "source": [
        "# Calculating %'s of races within counties\n",
        "\n",
        "\n",
        "race_list = ['white_pop','black_pop','asian_pop','hispanic_pop',\t'amerindian_pop',\t'other_race_pop',\t'two_or_more_races_pop',\t'hispanic_any_race',\t'not_hispanic_pop']\n",
        "\n",
        "for i in race_list:\n",
        "  column_name = i + '_percent'\n",
        "  master_df[column_name] = master_df[i]/master_df['total_pop']\n",
        "\n",
        "print(master_df)  "
      ],
      "execution_count": 67,
      "outputs": [
        {
          "output_type": "stream",
          "text": [
            "     GEO_ID    state  ... not_hispanic_pop_percent  percent_essential_workers\n",
            "0     01001  Alabama  ...                 0.972319                   0.277181\n",
            "1     01003  Alabama  ...                 0.955057                   0.288907\n",
            "2     01005  Alabama  ...                 0.957102                   0.254616\n",
            "3     01007  Alabama  ...                 0.975718                   0.268170\n",
            "4     01009  Alabama  ...                 0.908734                   0.263967\n",
            "...     ...      ...  ...                      ...                        ...\n",
            "3228  69120      NaN  ...                      NaN                        NaN\n",
            "3229  69110      NaN  ...                      NaN                        NaN\n",
            "3230  78020      NaN  ...                      NaN                        NaN\n",
            "3231  78010      NaN  ...                      NaN                        NaN\n",
            "3232  78030      NaN  ...                      NaN                        NaN\n",
            "\n",
            "[3233 rows x 31 columns]\n"
          ],
          "name": "stdout"
        }
      ]
    },
    {
      "cell_type": "markdown",
      "metadata": {
        "id": "tyPyISk_ikko",
        "colab_type": "text"
      },
      "source": [
        "# Calcuating final SDI\n",
        "[TODO] Calculate final score\n",
        "\n",
        "The Final Social Distance Index values represent:\n",
        "* Maximum capacity for Social Distancing (Index Value = 0)\n",
        "* Maximum capacity for Social Distancing (Index value = Max)\n",
        "\n",
        "i.e. as the overall Social Distance Index value increase, so to does a county's capacity for observing Social Distancing\n",
        "\n",
        "**Change in Travel(s):** \n",
        "Ranked on a 5 point scale normalized to that specific type of travel's distribution, where 5=max, 1=min\n",
        "\n",
        "**Overcrowded Rooms: ** \n",
        "Ranked on a 10 point scale, where 10= min, 0=max (see Colorado Social Index) - i.e. the more crowded rooms there are, the less capacity for Social Distancing (thus the inverse ranking)\n",
        "\n",
        "\n",
        "**Pop Density: ** \n",
        "Ranked on a 10 point scale, where 10= min, 0=max (see Colorado Social Index)- i.e. the higher the density, the less capacity for Social Distancing (thus the inverse ranking) \n",
        "\n",
        "\n",
        "**Percent Essential Workers: ** \n",
        "Ranked on a 10 point scale, where 10= min, 0=max (see Colorado Social Index) - i.e. the higher proportion of essential workers, the less capacity for Social Distancing (thus the inverse ranking) as they will potentially be in greater direct & indirect contact with others\n"
      ]
    },
    {
      "cell_type": "markdown",
      "metadata": {
        "id": "oULQkCtQ0K5c",
        "colab_type": "text"
      },
      "source": [
        "### Starter functions"
      ]
    },
    {
      "cell_type": "code",
      "metadata": {
        "id": "e6Mqe53bzbWP",
        "colab_type": "code",
        "colab": {}
      },
      "source": [
        "# Function that will allos us to get the values corresponding \n",
        "# to the 10 bins of a distribution of values\n",
        "\n",
        "def get_thresholds_10(x):\n",
        "  # This gives us the thresholds for a series\n",
        "  th10 = np.nanpercentile(x,10)\n",
        "  th20 = np.nanpercentile(x,20)\n",
        "  th30 = np.nanpercentile(x,30)\n",
        "  th30 = np.nanpercentile(x,30)\n",
        "  th40 = np.nanpercentile(x,40)\n",
        "  th50 = np.nanpercentile(x,50)\n",
        "  th60 = np.nanpercentile(x,60)\n",
        "  th70 = np.nanpercentile(x,70)\n",
        "  th80 = np.nanpercentile(x,80)\n",
        "  th90 = np.nanpercentile(x,90)\n",
        "\n",
        "  return [th10, th20, th30, th40, th50, th60, th70, th80, th90]\n"
      ],
      "execution_count": 0,
      "outputs": []
    },
    {
      "cell_type": "code",
      "metadata": {
        "id": "8hozN67AzY4V",
        "colab_type": "code",
        "colab": {}
      },
      "source": [
        "# Function that will be used to assign points\n",
        "# based on the percentile a county's value falls\n",
        "# More points, indicates a positive contribution to Social Distancing\n",
        "# Less points, correspond to a negative contribution to SOcial Distancing \n",
        "\n",
        "def assign_points_10(x, thresholds_list):\n",
        "  # Assign points to thresholds\n",
        "  if x <= thresholds_list[0]: \n",
        "    return 10\n",
        "  elif thresholds_list[0] < x and x <= thresholds_list[1]:\n",
        "    return 9\n",
        "  elif thresholds_list[1] < x and x <= thresholds_list[2]:\n",
        "    return 8\n",
        "  elif thresholds_list[2] < x and x <= thresholds_list[3]:\n",
        "    return 7\n",
        "  elif thresholds_list[3] < x and x <= thresholds_list[4]:\n",
        "    return 6\n",
        "  elif thresholds_list[4] < x and x <= thresholds_list[5]:\n",
        "    return 5\n",
        "  elif thresholds_list[5] < x and x <= thresholds_list[6]:\n",
        "    return 4\n",
        "  elif thresholds_list[6] < x and x <= thresholds_list[7]:\n",
        "    return 3\n",
        "  elif thresholds_list[7] < x and x <= thresholds_list[8]:\n",
        "    return 2\n",
        "  elif thresholds_list[8] < x:\n",
        "    return 1\n",
        "  else:\n",
        "    return np.nan"
      ],
      "execution_count": 0,
      "outputs": []
    },
    {
      "cell_type": "code",
      "metadata": {
        "id": "cB9pd3c82r3E",
        "colab_type": "code",
        "colab": {}
      },
      "source": [
        "def assign_points_5_up(x, thresholds_list):\n",
        "  # Assign points to thresholds\n",
        "  if x <= thresholds_list[1]: \n",
        "    return 5\n",
        "  elif thresholds_list[1] < x and x <= thresholds_list[3]:\n",
        "    return 4\n",
        "  elif thresholds_list[3] < x and x <= thresholds_list[5]:\n",
        "    return 3\n",
        "  elif thresholds_list[5] < x and x <= thresholds_list[7]:\n",
        "    return 2\n",
        "  elif thresholds_list[7] < x:\n",
        "    return 1\n",
        "  else:\n",
        "    return np.nan"
      ],
      "execution_count": 0,
      "outputs": []
    },
    {
      "cell_type": "code",
      "metadata": {
        "id": "pod21XXv2txL",
        "colab_type": "code",
        "colab": {}
      },
      "source": [
        "def assign_points_5_down(x, thresholds_list):\n",
        "  # Assign points to thresholds\n",
        "  if x <= thresholds_list[1]: \n",
        "    return 1\n",
        "  elif thresholds_list[1] < x and x <= thresholds_list[3]:\n",
        "    return 2\n",
        "  elif thresholds_list[3] < x and x <= thresholds_list[5]:\n",
        "    return 3\n",
        "  elif thresholds_list[5] < x and x <= thresholds_list[7]:\n",
        "    return 4\n",
        "  elif thresholds_list[7] < x:\n",
        "    return 5\n",
        "  else:\n",
        "    return np.nan"
      ],
      "execution_count": 0,
      "outputs": []
    },
    {
      "cell_type": "markdown",
      "metadata": {
        "id": "lMRRo4amzEVB",
        "colab_type": "text"
      },
      "source": [
        "## Step 1: Calculating the variables corresponding to the Coloado Social Index \n",
        "\n",
        "- Overcrowded Rooms\n",
        "- Pop Density\n",
        "- Percent Essential Workers\n",
        "\n"
      ]
    },
    {
      "cell_type": "code",
      "metadata": {
        "id": "2E_TjzZ6aaMU",
        "colab_type": "code",
        "colab": {
          "base_uri": "https://localhost:8080/",
          "height": 635
        },
        "outputId": "bc592da3-5d6b-45f4-e894-4e387f2c1ee7"
      },
      "source": [
        "master_df.info()"
      ],
      "execution_count": 69,
      "outputs": [
        {
          "output_type": "stream",
          "text": [
            "<class 'pandas.core.frame.DataFrame'>\n",
            "RangeIndex: 3233 entries, 0 to 3232\n",
            "Data columns (total 31 columns):\n",
            " #   Column                         Non-Null Count  Dtype  \n",
            "---  ------                         --------------  -----  \n",
            " 0   GEO_ID                         3233 non-null   object \n",
            " 1   state                          2331 non-null   object \n",
            " 2   county                         2331 non-null   object \n",
            " 3   total_pop                      2331 non-null   float64\n",
            " 4   white_pop                      2331 non-null   float64\n",
            " 5   black_pop                      2331 non-null   float64\n",
            " 6   asian_pop                      2331 non-null   float64\n",
            " 7   hispanic_pop                   2331 non-null   float64\n",
            " 8   amerindian_pop                 2331 non-null   float64\n",
            " 9   other_race_pop                 2331 non-null   float64\n",
            " 10  two_or_more_races_pop          2331 non-null   float64\n",
            " 11  hispanic_any_race              2331 non-null   float64\n",
            " 12  not_hispanic_pop               2331 non-null   float64\n",
            " 13  retail_and_rec                 2331 non-null   float64\n",
            " 14  grocery_and_pharmacy           2331 non-null   float64\n",
            " 15  work                           2331 non-null   float64\n",
            " 16  rooms_with_multiple_occupants  3220 non-null   float64\n",
            " 17  total_rooms                    3220 non-null   object \n",
            " 18  percentage_overcrowded_rooms   3220 non-null   float64\n",
            " 19  square_miles                   3233 non-null   float64\n",
            " 20  Essential_Workers              3219 non-null   float64\n",
            " 21  white_pop_percent              2331 non-null   float64\n",
            " 22  black_pop_percent              2331 non-null   float64\n",
            " 23  asian_pop_percent              2331 non-null   float64\n",
            " 24  hispanic_pop_percent           2331 non-null   float64\n",
            " 25  amerindian_pop_percent         2331 non-null   float64\n",
            " 26  other_race_pop_percent         2331 non-null   float64\n",
            " 27  two_or_more_races_pop_percent  2331 non-null   float64\n",
            " 28  hispanic_any_race_percent      2331 non-null   float64\n",
            " 29  not_hispanic_pop_percent       2331 non-null   float64\n",
            " 30  percent_essential_workers      2330 non-null   float64\n",
            "dtypes: float64(27), object(4)\n",
            "memory usage: 783.1+ KB\n"
          ],
          "name": "stdout"
        }
      ]
    },
    {
      "cell_type": "code",
      "metadata": {
        "id": "nmFKAdxW0VB9",
        "colab_type": "code",
        "colab": {}
      },
      "source": [
        "master_df_10pts = master_df[['GEO_ID','percent_essential_workers','pop_density','percentage_overcrowded_rooms']].copy()"
      ],
      "execution_count": 0,
      "outputs": []
    },
    {
      "cell_type": "markdown",
      "metadata": {
        "id": "HsvmP8830OM9",
        "colab_type": "text"
      },
      "source": [
        "### Assigning points to 'percent_essential_workers' by % percentile rank"
      ]
    },
    {
      "cell_type": "code",
      "metadata": {
        "id": "sgGkPd870Ioc",
        "colab_type": "code",
        "colab": {}
      },
      "source": [
        "# Assigning points to 'percent_essential_workers' by % percentile rank\n",
        "\n",
        "essential_workers_thesholds = master_df_10pts[['percent_essential_workers']].apply(get_thresholds_10)\n",
        "master_df_10pts['percent_essential_workers_withPoints'] = master_df_10pts['percent_essential_workers'].apply(assign_points_10, thresholds_list=essential_workers_thesholds[0])"
      ],
      "execution_count": 0,
      "outputs": []
    },
    {
      "cell_type": "markdown",
      "metadata": {
        "id": "h5Q7IcSv0e5Y",
        "colab_type": "text"
      },
      "source": [
        "### Assigning points to 'pop_density' by % percentile rank"
      ]
    },
    {
      "cell_type": "code",
      "metadata": {
        "id": "fsnITyRI0j_c",
        "colab_type": "code",
        "colab": {}
      },
      "source": [
        "pop_density_thesholds = master_df_10pts[['pop_density']].apply(get_thresholds_10)\n",
        "master_df_10pts['pop_densitys_withPoints'] = master_df_10pts['pop_density'].apply(assign_points_10, thresholds_list=pop_density_thesholds[0])"
      ],
      "execution_count": 0,
      "outputs": []
    },
    {
      "cell_type": "markdown",
      "metadata": {
        "id": "oziltjCj0mfH",
        "colab_type": "text"
      },
      "source": [
        "### Assigning points to 'percentage_overcrowded_rooms' by % percentile rank"
      ]
    },
    {
      "cell_type": "code",
      "metadata": {
        "id": "vgsZMCn-0p9K",
        "colab_type": "code",
        "colab": {}
      },
      "source": [
        "percentage_overcrowded_rooms_thesholds = master_df_10pts[['percentage_overcrowded_rooms']].apply(get_thresholds_10)\n",
        "master_df_10pts['percentage_overcrowded_rooms_withPoints'] = master_df_10pts['percentage_overcrowded_rooms'].apply(assign_points_10, thresholds_list=percentage_overcrowded_rooms_thesholds[0])\n"
      ],
      "execution_count": 0,
      "outputs": []
    },
    {
      "cell_type": "markdown",
      "metadata": {
        "id": "vH-KlD4Y0xI7",
        "colab_type": "text"
      },
      "source": [
        "### Check\n",
        "\n",
        "We need to confirm that the points were correctly assigned by the %tile by matching against the dataframe %tiles"
      ]
    },
    {
      "cell_type": "code",
      "metadata": {
        "id": "O2qoyRqs01vP",
        "colab_type": "code",
        "outputId": "f3a70986-6165-4019-9b58-87be80c0a502",
        "colab": {
          "base_uri": "https://localhost:8080/",
          "height": 277
        }
      },
      "source": [
        "master_df_10pts.describe()"
      ],
      "execution_count": 77,
      "outputs": [
        {
          "output_type": "execute_result",
          "data": {
            "text/html": [
              "<div>\n",
              "<style scoped>\n",
              "    .dataframe tbody tr th:only-of-type {\n",
              "        vertical-align: middle;\n",
              "    }\n",
              "\n",
              "    .dataframe tbody tr th {\n",
              "        vertical-align: top;\n",
              "    }\n",
              "\n",
              "    .dataframe thead th {\n",
              "        text-align: right;\n",
              "    }\n",
              "</style>\n",
              "<table border=\"1\" class=\"dataframe\">\n",
              "  <thead>\n",
              "    <tr style=\"text-align: right;\">\n",
              "      <th></th>\n",
              "      <th>percent_essential_workers</th>\n",
              "      <th>pop_density</th>\n",
              "      <th>percentage_overcrowded_rooms</th>\n",
              "      <th>percent_essential_workers_withPoints</th>\n",
              "      <th>pop_densitys_withPoints</th>\n",
              "      <th>percentage_overcrowded_rooms_withPoints</th>\n",
              "    </tr>\n",
              "  </thead>\n",
              "  <tbody>\n",
              "    <tr>\n",
              "      <th>count</th>\n",
              "      <td>2330.000000</td>\n",
              "      <td>2.331000e+03</td>\n",
              "      <td>3220.000000</td>\n",
              "      <td>2330.000000</td>\n",
              "      <td>2331.000000</td>\n",
              "      <td>3220.000000</td>\n",
              "    </tr>\n",
              "    <tr>\n",
              "      <th>mean</th>\n",
              "      <td>0.312661</td>\n",
              "      <td>3.103692e-04</td>\n",
              "      <td>0.024480</td>\n",
              "      <td>5.500000</td>\n",
              "      <td>5.501931</td>\n",
              "      <td>5.500000</td>\n",
              "    </tr>\n",
              "    <tr>\n",
              "      <th>std</th>\n",
              "      <td>0.045465</td>\n",
              "      <td>2.036831e-03</td>\n",
              "      <td>0.024233</td>\n",
              "      <td>2.872898</td>\n",
              "      <td>2.873793</td>\n",
              "      <td>2.872727</td>\n",
              "    </tr>\n",
              "    <tr>\n",
              "      <th>min</th>\n",
              "      <td>0.107733</td>\n",
              "      <td>7.148673e-07</td>\n",
              "      <td>0.000000</td>\n",
              "      <td>1.000000</td>\n",
              "      <td>1.000000</td>\n",
              "      <td>1.000000</td>\n",
              "    </tr>\n",
              "    <tr>\n",
              "      <th>25%</th>\n",
              "      <td>0.283870</td>\n",
              "      <td>3.211496e-05</td>\n",
              "      <td>0.012409</td>\n",
              "      <td>3.000000</td>\n",
              "      <td>3.000000</td>\n",
              "      <td>3.000000</td>\n",
              "    </tr>\n",
              "    <tr>\n",
              "      <th>50%</th>\n",
              "      <td>0.313111</td>\n",
              "      <td>6.679775e-05</td>\n",
              "      <td>0.019259</td>\n",
              "      <td>5.500000</td>\n",
              "      <td>6.000000</td>\n",
              "      <td>5.500000</td>\n",
              "    </tr>\n",
              "    <tr>\n",
              "      <th>75%</th>\n",
              "      <td>0.340877</td>\n",
              "      <td>1.631648e-04</td>\n",
              "      <td>0.029067</td>\n",
              "      <td>8.000000</td>\n",
              "      <td>8.000000</td>\n",
              "      <td>8.000000</td>\n",
              "    </tr>\n",
              "    <tr>\n",
              "      <th>max</th>\n",
              "      <td>0.459795</td>\n",
              "      <td>7.220791e-02</td>\n",
              "      <td>0.493499</td>\n",
              "      <td>10.000000</td>\n",
              "      <td>10.000000</td>\n",
              "      <td>10.000000</td>\n",
              "    </tr>\n",
              "  </tbody>\n",
              "</table>\n",
              "</div>"
            ],
            "text/plain": [
              "       percent_essential_workers  ...  percentage_overcrowded_rooms_withPoints\n",
              "count                2330.000000  ...                              3220.000000\n",
              "mean                    0.312661  ...                                 5.500000\n",
              "std                     0.045465  ...                                 2.872727\n",
              "min                     0.107733  ...                                 1.000000\n",
              "25%                     0.283870  ...                                 3.000000\n",
              "50%                     0.313111  ...                                 5.500000\n",
              "75%                     0.340877  ...                                 8.000000\n",
              "max                     0.459795  ...                                10.000000\n",
              "\n",
              "[8 rows x 6 columns]"
            ]
          },
          "metadata": {
            "tags": []
          },
          "execution_count": 77
        }
      ]
    },
    {
      "cell_type": "code",
      "metadata": {
        "id": "oOAXpuoW00Hd",
        "colab_type": "code",
        "outputId": "ad0d8449-bec5-4802-a48a-e9485e4445f3",
        "colab": {
          "base_uri": "https://localhost:8080/",
          "height": 335
        }
      },
      "source": [
        "master_df_10pts.head(10)"
      ],
      "execution_count": 78,
      "outputs": [
        {
          "output_type": "execute_result",
          "data": {
            "text/html": [
              "<div>\n",
              "<style scoped>\n",
              "    .dataframe tbody tr th:only-of-type {\n",
              "        vertical-align: middle;\n",
              "    }\n",
              "\n",
              "    .dataframe tbody tr th {\n",
              "        vertical-align: top;\n",
              "    }\n",
              "\n",
              "    .dataframe thead th {\n",
              "        text-align: right;\n",
              "    }\n",
              "</style>\n",
              "<table border=\"1\" class=\"dataframe\">\n",
              "  <thead>\n",
              "    <tr style=\"text-align: right;\">\n",
              "      <th></th>\n",
              "      <th>GEO_ID</th>\n",
              "      <th>percent_essential_workers</th>\n",
              "      <th>pop_density</th>\n",
              "      <th>percentage_overcrowded_rooms</th>\n",
              "      <th>percent_essential_workers_withPoints</th>\n",
              "      <th>pop_densitys_withPoints</th>\n",
              "      <th>percentage_overcrowded_rooms_withPoints</th>\n",
              "    </tr>\n",
              "  </thead>\n",
              "  <tbody>\n",
              "    <tr>\n",
              "      <th>0</th>\n",
              "      <td>01001</td>\n",
              "      <td>0.277181</td>\n",
              "      <td>0.000093</td>\n",
              "      <td>0.014161</td>\n",
              "      <td>8.0</td>\n",
              "      <td>4.0</td>\n",
              "      <td>7.0</td>\n",
              "    </tr>\n",
              "    <tr>\n",
              "      <th>1</th>\n",
              "      <td>01003</td>\n",
              "      <td>0.288907</td>\n",
              "      <td>0.000131</td>\n",
              "      <td>0.012605</td>\n",
              "      <td>8.0</td>\n",
              "      <td>3.0</td>\n",
              "      <td>8.0</td>\n",
              "    </tr>\n",
              "    <tr>\n",
              "      <th>2</th>\n",
              "      <td>01005</td>\n",
              "      <td>0.254616</td>\n",
              "      <td>0.000029</td>\n",
              "      <td>0.034074</td>\n",
              "      <td>10.0</td>\n",
              "      <td>8.0</td>\n",
              "      <td>2.0</td>\n",
              "    </tr>\n",
              "    <tr>\n",
              "      <th>3</th>\n",
              "      <td>01007</td>\n",
              "      <td>0.268170</td>\n",
              "      <td>0.000036</td>\n",
              "      <td>0.007602</td>\n",
              "      <td>9.0</td>\n",
              "      <td>8.0</td>\n",
              "      <td>10.0</td>\n",
              "    </tr>\n",
              "    <tr>\n",
              "      <th>4</th>\n",
              "      <td>01009</td>\n",
              "      <td>0.263967</td>\n",
              "      <td>0.000090</td>\n",
              "      <td>0.016456</td>\n",
              "      <td>9.0</td>\n",
              "      <td>4.0</td>\n",
              "      <td>7.0</td>\n",
              "    </tr>\n",
              "    <tr>\n",
              "      <th>5</th>\n",
              "      <td>01011</td>\n",
              "      <td>0.298196</td>\n",
              "      <td>0.000017</td>\n",
              "      <td>0.000000</td>\n",
              "      <td>7.0</td>\n",
              "      <td>9.0</td>\n",
              "      <td>10.0</td>\n",
              "    </tr>\n",
              "    <tr>\n",
              "      <th>6</th>\n",
              "      <td>01013</td>\n",
              "      <td>0.294486</td>\n",
              "      <td>0.000026</td>\n",
              "      <td>0.017740</td>\n",
              "      <td>7.0</td>\n",
              "      <td>9.0</td>\n",
              "      <td>6.0</td>\n",
              "    </tr>\n",
              "    <tr>\n",
              "      <th>7</th>\n",
              "      <td>01015</td>\n",
              "      <td>0.289382</td>\n",
              "      <td>0.000190</td>\n",
              "      <td>0.017143</td>\n",
              "      <td>8.0</td>\n",
              "      <td>3.0</td>\n",
              "      <td>6.0</td>\n",
              "    </tr>\n",
              "    <tr>\n",
              "      <th>8</th>\n",
              "      <td>01017</td>\n",
              "      <td>0.315131</td>\n",
              "      <td>0.000057</td>\n",
              "      <td>0.029891</td>\n",
              "      <td>5.0</td>\n",
              "      <td>6.0</td>\n",
              "      <td>3.0</td>\n",
              "    </tr>\n",
              "    <tr>\n",
              "      <th>9</th>\n",
              "      <td>01019</td>\n",
              "      <td>0.300466</td>\n",
              "      <td>0.000047</td>\n",
              "      <td>0.014614</td>\n",
              "      <td>7.0</td>\n",
              "      <td>7.0</td>\n",
              "      <td>7.0</td>\n",
              "    </tr>\n",
              "  </tbody>\n",
              "</table>\n",
              "</div>"
            ],
            "text/plain": [
              "  GEO_ID  ...  percentage_overcrowded_rooms_withPoints\n",
              "0  01001  ...                                      7.0\n",
              "1  01003  ...                                      8.0\n",
              "2  01005  ...                                      2.0\n",
              "3  01007  ...                                     10.0\n",
              "4  01009  ...                                      7.0\n",
              "5  01011  ...                                     10.0\n",
              "6  01013  ...                                      6.0\n",
              "7  01015  ...                                      6.0\n",
              "8  01017  ...                                      3.0\n",
              "9  01019  ...                                      7.0\n",
              "\n",
              "[10 rows x 7 columns]"
            ]
          },
          "metadata": {
            "tags": []
          },
          "execution_count": 78
        }
      ]
    },
    {
      "cell_type": "markdown",
      "metadata": {
        "id": "QlPMliRj2-PY",
        "colab_type": "text"
      },
      "source": [
        "## Step 2: Calculating variables corresponding to Travel types"
      ]
    },
    {
      "cell_type": "code",
      "metadata": {
        "id": "IHlPD-qQ51e8",
        "colab_type": "code",
        "colab": {}
      },
      "source": [
        "master_df_5pts = master_df[['GEO_ID','retail_and_rec', 'grocery_and_pharmacy', 'work',]].copy()"
      ],
      "execution_count": 0,
      "outputs": []
    },
    {
      "cell_type": "markdown",
      "metadata": {
        "id": "KVDCxPwI59N1",
        "colab_type": "text"
      },
      "source": [
        "### Assigning points to 'retail_and_rec' by % percentile rank"
      ]
    },
    {
      "cell_type": "code",
      "metadata": {
        "id": "KOkoIeho4O9U",
        "colab_type": "code",
        "colab": {}
      },
      "source": [
        "# Assigning points to 'retail_and_rec' by % percentile rank\n",
        "\n",
        "retail_and_rec_thesholds = master_df_5pts[['retail_and_rec']].apply(get_thresholds_10)\n",
        "master_df_5pts['retail_and_rec_withPoints'] = master_df_5pts['retail_and_rec'].apply(assign_points_10, thresholds_list=retail_and_rec_thesholds[0])"
      ],
      "execution_count": 0,
      "outputs": []
    },
    {
      "cell_type": "markdown",
      "metadata": {
        "id": "4tHZkq6W6GuE",
        "colab_type": "text"
      },
      "source": [
        "### Assigning points to 'grocery_and_pharmacy' by % percentile rank"
      ]
    },
    {
      "cell_type": "code",
      "metadata": {
        "id": "HQ-oHtWR6OPh",
        "colab_type": "code",
        "colab": {}
      },
      "source": [
        "# Assigning points to 'grocery_and_pharmacy' by % percentile rank\n",
        "\n",
        "grocery_and_pharmacy_thesholds = master_df_5pts[['grocery_and_pharmacy']].apply(get_thresholds_10)\n",
        "master_df_5pts['grocery_and_pharmacy_withPoints'] = master_df_5pts['grocery_and_pharmacy'].apply(assign_points_10, thresholds_list=grocery_and_pharmacy_thesholds[0])"
      ],
      "execution_count": 0,
      "outputs": []
    },
    {
      "cell_type": "markdown",
      "metadata": {
        "id": "8zaT5-Et6hI6",
        "colab_type": "text"
      },
      "source": [
        "### Assigning points to 'work' by % percentile rank"
      ]
    },
    {
      "cell_type": "code",
      "metadata": {
        "id": "jIuZ3oDZ625e",
        "colab_type": "code",
        "colab": {}
      },
      "source": [
        "work_thesholds = master_df_5pts[['work']].apply(get_thresholds_10)\n",
        "master_df_5pts['work_withPoints'] = master_df_5pts['work'].apply(assign_points_10, thresholds_list=work_thesholds[0])"
      ],
      "execution_count": 0,
      "outputs": []
    },
    {
      "cell_type": "markdown",
      "metadata": {
        "id": "Px9P1tTu68fo",
        "colab_type": "text"
      },
      "source": [
        "### Check Results\n",
        "\n",
        "We need to confirm that the points were correctly assigned by the %tile by matching against the dataframe %tiles"
      ]
    },
    {
      "cell_type": "code",
      "metadata": {
        "id": "9TC04rYb7PaF",
        "colab_type": "code",
        "outputId": "5df18d4f-3137-4bcb-8498-89c15881f8f6",
        "colab": {
          "base_uri": "https://localhost:8080/",
          "height": 277
        }
      },
      "source": [
        "master_df_5pts.describe()"
      ],
      "execution_count": 83,
      "outputs": [
        {
          "output_type": "execute_result",
          "data": {
            "text/html": [
              "<div>\n",
              "<style scoped>\n",
              "    .dataframe tbody tr th:only-of-type {\n",
              "        vertical-align: middle;\n",
              "    }\n",
              "\n",
              "    .dataframe tbody tr th {\n",
              "        vertical-align: top;\n",
              "    }\n",
              "\n",
              "    .dataframe thead th {\n",
              "        text-align: right;\n",
              "    }\n",
              "</style>\n",
              "<table border=\"1\" class=\"dataframe\">\n",
              "  <thead>\n",
              "    <tr style=\"text-align: right;\">\n",
              "      <th></th>\n",
              "      <th>retail_and_rec</th>\n",
              "      <th>grocery_and_pharmacy</th>\n",
              "      <th>work</th>\n",
              "      <th>retail_and_rec_withPoints</th>\n",
              "      <th>grocery_and_pharmacy_withPoints</th>\n",
              "      <th>work_withPoints</th>\n",
              "    </tr>\n",
              "  </thead>\n",
              "  <tbody>\n",
              "    <tr>\n",
              "      <th>count</th>\n",
              "      <td>2331.000000</td>\n",
              "      <td>2331.000000</td>\n",
              "      <td>2331.000000</td>\n",
              "      <td>2331.000000</td>\n",
              "      <td>2331.000000</td>\n",
              "      <td>2331.000000</td>\n",
              "    </tr>\n",
              "    <tr>\n",
              "      <th>mean</th>\n",
              "      <td>-29.818552</td>\n",
              "      <td>-3.491453</td>\n",
              "      <td>-34.819918</td>\n",
              "      <td>5.506221</td>\n",
              "      <td>5.504934</td>\n",
              "      <td>5.503218</td>\n",
              "    </tr>\n",
              "    <tr>\n",
              "      <th>std</th>\n",
              "      <td>13.364963</td>\n",
              "      <td>13.064975</td>\n",
              "      <td>8.074047</td>\n",
              "      <td>2.870649</td>\n",
              "      <td>2.873790</td>\n",
              "      <td>2.872597</td>\n",
              "    </tr>\n",
              "    <tr>\n",
              "      <th>min</th>\n",
              "      <td>-90.368421</td>\n",
              "      <td>-61.250000</td>\n",
              "      <td>-68.826087</td>\n",
              "      <td>1.000000</td>\n",
              "      <td>1.000000</td>\n",
              "      <td>1.000000</td>\n",
              "    </tr>\n",
              "    <tr>\n",
              "      <th>25%</th>\n",
              "      <td>-37.568323</td>\n",
              "      <td>-10.978261</td>\n",
              "      <td>-39.478261</td>\n",
              "      <td>3.000000</td>\n",
              "      <td>3.000000</td>\n",
              "      <td>3.000000</td>\n",
              "    </tr>\n",
              "    <tr>\n",
              "      <th>50%</th>\n",
              "      <td>-28.000000</td>\n",
              "      <td>-3.666667</td>\n",
              "      <td>-33.717391</td>\n",
              "      <td>6.000000</td>\n",
              "      <td>6.000000</td>\n",
              "      <td>6.000000</td>\n",
              "    </tr>\n",
              "    <tr>\n",
              "      <th>75%</th>\n",
              "      <td>-20.395652</td>\n",
              "      <td>3.351449</td>\n",
              "      <td>-28.836957</td>\n",
              "      <td>8.000000</td>\n",
              "      <td>8.000000</td>\n",
              "      <td>8.000000</td>\n",
              "    </tr>\n",
              "    <tr>\n",
              "      <th>max</th>\n",
              "      <td>16.600000</td>\n",
              "      <td>98.000000</td>\n",
              "      <td>-17.818182</td>\n",
              "      <td>10.000000</td>\n",
              "      <td>10.000000</td>\n",
              "      <td>10.000000</td>\n",
              "    </tr>\n",
              "  </tbody>\n",
              "</table>\n",
              "</div>"
            ],
            "text/plain": [
              "       retail_and_rec  ...  work_withPoints\n",
              "count     2331.000000  ...      2331.000000\n",
              "mean       -29.818552  ...         5.503218\n",
              "std         13.364963  ...         2.872597\n",
              "min        -90.368421  ...         1.000000\n",
              "25%        -37.568323  ...         3.000000\n",
              "50%        -28.000000  ...         6.000000\n",
              "75%        -20.395652  ...         8.000000\n",
              "max         16.600000  ...        10.000000\n",
              "\n",
              "[8 rows x 6 columns]"
            ]
          },
          "metadata": {
            "tags": []
          },
          "execution_count": 83
        }
      ]
    },
    {
      "cell_type": "code",
      "metadata": {
        "id": "IlZqsFrd7RFH",
        "colab_type": "code",
        "outputId": "5fb75ffc-f6ab-4565-de18-5f7e4f38b5ca",
        "colab": {
          "base_uri": "https://localhost:8080/",
          "height": 335
        }
      },
      "source": [
        "master_df_5pts.head(10)"
      ],
      "execution_count": 84,
      "outputs": [
        {
          "output_type": "execute_result",
          "data": {
            "text/html": [
              "<div>\n",
              "<style scoped>\n",
              "    .dataframe tbody tr th:only-of-type {\n",
              "        vertical-align: middle;\n",
              "    }\n",
              "\n",
              "    .dataframe tbody tr th {\n",
              "        vertical-align: top;\n",
              "    }\n",
              "\n",
              "    .dataframe thead th {\n",
              "        text-align: right;\n",
              "    }\n",
              "</style>\n",
              "<table border=\"1\" class=\"dataframe\">\n",
              "  <thead>\n",
              "    <tr style=\"text-align: right;\">\n",
              "      <th></th>\n",
              "      <th>GEO_ID</th>\n",
              "      <th>retail_and_rec</th>\n",
              "      <th>grocery_and_pharmacy</th>\n",
              "      <th>work</th>\n",
              "      <th>retail_and_rec_withPoints</th>\n",
              "      <th>grocery_and_pharmacy_withPoints</th>\n",
              "      <th>work_withPoints</th>\n",
              "    </tr>\n",
              "  </thead>\n",
              "  <tbody>\n",
              "    <tr>\n",
              "      <th>0</th>\n",
              "      <td>01001</td>\n",
              "      <td>-18.195652</td>\n",
              "      <td>8.260870</td>\n",
              "      <td>-34.413043</td>\n",
              "      <td>2.0</td>\n",
              "      <td>2.0</td>\n",
              "      <td>6.0</td>\n",
              "    </tr>\n",
              "    <tr>\n",
              "      <th>1</th>\n",
              "      <td>01003</td>\n",
              "      <td>-30.913043</td>\n",
              "      <td>-4.913043</td>\n",
              "      <td>-32.108696</td>\n",
              "      <td>6.0</td>\n",
              "      <td>6.0</td>\n",
              "      <td>5.0</td>\n",
              "    </tr>\n",
              "    <tr>\n",
              "      <th>2</th>\n",
              "      <td>01005</td>\n",
              "      <td>-10.181818</td>\n",
              "      <td>-3.000000</td>\n",
              "      <td>-23.891304</td>\n",
              "      <td>1.0</td>\n",
              "      <td>5.0</td>\n",
              "      <td>1.0</td>\n",
              "    </tr>\n",
              "    <tr>\n",
              "      <th>3</th>\n",
              "      <td>01007</td>\n",
              "      <td>-16.000000</td>\n",
              "      <td>5.500000</td>\n",
              "      <td>-28.478261</td>\n",
              "      <td>2.0</td>\n",
              "      <td>2.0</td>\n",
              "      <td>3.0</td>\n",
              "    </tr>\n",
              "    <tr>\n",
              "      <th>4</th>\n",
              "      <td>01009</td>\n",
              "      <td>-15.750000</td>\n",
              "      <td>5.619048</td>\n",
              "      <td>-31.652174</td>\n",
              "      <td>2.0</td>\n",
              "      <td>2.0</td>\n",
              "      <td>4.0</td>\n",
              "    </tr>\n",
              "    <tr>\n",
              "      <th>5</th>\n",
              "      <td>01011</td>\n",
              "      <td>-22.000000</td>\n",
              "      <td>-4.750000</td>\n",
              "      <td>-28.818182</td>\n",
              "      <td>4.0</td>\n",
              "      <td>6.0</td>\n",
              "      <td>3.0</td>\n",
              "    </tr>\n",
              "    <tr>\n",
              "      <th>6</th>\n",
              "      <td>01013</td>\n",
              "      <td>-24.428571</td>\n",
              "      <td>8.428571</td>\n",
              "      <td>-33.108696</td>\n",
              "      <td>4.0</td>\n",
              "      <td>2.0</td>\n",
              "      <td>5.0</td>\n",
              "    </tr>\n",
              "    <tr>\n",
              "      <th>7</th>\n",
              "      <td>01015</td>\n",
              "      <td>-20.891304</td>\n",
              "      <td>-3.934783</td>\n",
              "      <td>-34.565217</td>\n",
              "      <td>3.0</td>\n",
              "      <td>6.0</td>\n",
              "      <td>6.0</td>\n",
              "    </tr>\n",
              "    <tr>\n",
              "      <th>8</th>\n",
              "      <td>01017</td>\n",
              "      <td>-13.565217</td>\n",
              "      <td>3.857143</td>\n",
              "      <td>-38.739130</td>\n",
              "      <td>1.0</td>\n",
              "      <td>3.0</td>\n",
              "      <td>8.0</td>\n",
              "    </tr>\n",
              "    <tr>\n",
              "      <th>9</th>\n",
              "      <td>01019</td>\n",
              "      <td>-15.333333</td>\n",
              "      <td>11.857143</td>\n",
              "      <td>-25.086957</td>\n",
              "      <td>2.0</td>\n",
              "      <td>1.0</td>\n",
              "      <td>1.0</td>\n",
              "    </tr>\n",
              "  </tbody>\n",
              "</table>\n",
              "</div>"
            ],
            "text/plain": [
              "  GEO_ID  retail_and_rec  ...  grocery_and_pharmacy_withPoints  work_withPoints\n",
              "0  01001      -18.195652  ...                              2.0              6.0\n",
              "1  01003      -30.913043  ...                              6.0              5.0\n",
              "2  01005      -10.181818  ...                              5.0              1.0\n",
              "3  01007      -16.000000  ...                              2.0              3.0\n",
              "4  01009      -15.750000  ...                              2.0              4.0\n",
              "5  01011      -22.000000  ...                              6.0              3.0\n",
              "6  01013      -24.428571  ...                              2.0              5.0\n",
              "7  01015      -20.891304  ...                              6.0              6.0\n",
              "8  01017      -13.565217  ...                              3.0              8.0\n",
              "9  01019      -15.333333  ...                              1.0              1.0\n",
              "\n",
              "[10 rows x 7 columns]"
            ]
          },
          "metadata": {
            "tags": []
          },
          "execution_count": 84
        }
      ]
    },
    {
      "cell_type": "markdown",
      "metadata": {
        "id": "3XFUB3Jt3Ncm",
        "colab_type": "text"
      },
      "source": [
        "## Step 3: Combining the variables & points to calculate a total Social Distance Index"
      ]
    },
    {
      "cell_type": "markdown",
      "metadata": {
        "id": "MddFZL178HuR",
        "colab_type": "text"
      },
      "source": [
        "### Join the calculated variables with points"
      ]
    },
    {
      "cell_type": "code",
      "metadata": {
        "id": "tczO0M6l8GPb",
        "colab_type": "code",
        "colab": {}
      },
      "source": [
        "sdi_df = master_df_5pts.merge(master_df_10pts, left_on='GEO_ID', right_on=\"GEO_ID\")"
      ],
      "execution_count": 0,
      "outputs": []
    },
    {
      "cell_type": "code",
      "metadata": {
        "id": "GahAyA-n_grh",
        "colab_type": "code",
        "outputId": "5cab3fb0-f05c-4705-caa2-2ac637015123",
        "colab": {
          "base_uri": "https://localhost:8080/",
          "height": 115
        }
      },
      "source": [
        "print(sdi_df.columns)"
      ],
      "execution_count": 91,
      "outputs": [
        {
          "output_type": "stream",
          "text": [
            "Index(['GEO_ID', 'retail_and_rec', 'grocery_and_pharmacy', 'work',\n",
            "       'retail_and_rec_withPoints', 'grocery_and_pharmacy_withPoints',\n",
            "       'work_withPoints', 'percent_essential_workers', 'pop_density',\n",
            "       'percentage_overcrowded_rooms', 'percent_essential_workers_withPoints',\n",
            "       'pop_densitys_withPoints', 'percentage_overcrowded_rooms_withPoints'],\n",
            "      dtype='object')\n"
          ],
          "name": "stdout"
        }
      ]
    },
    {
      "cell_type": "markdown",
      "metadata": {
        "id": "2jKHGAGwGWxt",
        "colab_type": "text"
      },
      "source": [
        "### Calculate the Total Score for the Social Distance Index\n",
        "\n",
        "The Total Score is a weighted average of inidividual the individual contributions of mobility types, % essential workers, pop density, and % overcrowded rooms by county."
      ]
    },
    {
      "cell_type": "code",
      "metadata": {
        "id": "0mpqErF9-2f_",
        "colab_type": "code",
        "colab": {}
      },
      "source": [
        "sdi_df['retail_and_rec_withPoints_final']= sdi_df['retail_and_rec_withPoints']/10.0\n",
        "sdi_df['grocery_and_pharmacy_withPoints_final']= sdi_df['grocery_and_pharmacy_withPoints']/10.0\n",
        "sdi_df['work_withPoints_final']= sdi_df['work_withPoints']/10.0\n",
        "sdi_df['percent_essential_workers_withPoints_final']= sdi_df['percent_essential_workers_withPoints']/10.0\n",
        "sdi_df['pop_densitys_withPoints_final']= sdi_df['pop_densitys_withPoints']/10.0\n",
        "sdi_df['percentage_overcrowded_rooms_withPoints_final']= sdi_df['percentage_overcrowded_rooms_withPoints']/10.0\n"
      ],
      "execution_count": 0,
      "outputs": []
    },
    {
      "cell_type": "code",
      "metadata": {
        "id": "_reN0aicDDyE",
        "colab_type": "code",
        "colab": {}
      },
      "source": [
        "sdi_df['Total_SDI_Score'] = sdi_df[['retail_and_rec_withPoints_final','grocery_and_pharmacy_withPoints_final','work_withPoints_final','percent_essential_workers_withPoints_final','pop_densitys_withPoints_final','percentage_overcrowded_rooms_withPoints_final']].mean(axis=1)"
      ],
      "execution_count": 0,
      "outputs": []
    },
    {
      "cell_type": "code",
      "metadata": {
        "id": "Tm0qUJErTbKH",
        "colab_type": "code",
        "colab": {}
      },
      "source": [
        "master_df_select = master_df[['GEO_ID', 'state','county', 'white_pop_percent',\n",
        "       'black_pop_percent', 'asian_pop_percent', 'hispanic_pop_percent',\n",
        "       'amerindian_pop_percent', 'other_race_pop_percent',\n",
        "       'two_or_more_races_pop_percent', 'hispanic_any_race_percent',\n",
        "       'not_hispanic_pop_percent']]"
      ],
      "execution_count": 0,
      "outputs": []
    },
    {
      "cell_type": "code",
      "metadata": {
        "id": "x5wpPEVaSVHO",
        "colab_type": "code",
        "colab": {}
      },
      "source": [
        "sdi_df_select = sdi_df[[\"GEO_ID\", \"Total_SDI_Score\"]]"
      ],
      "execution_count": 0,
      "outputs": []
    },
    {
      "cell_type": "code",
      "metadata": {
        "id": "LNnKFXUIT_Hq",
        "colab_type": "code",
        "colab": {}
      },
      "source": [
        "regression_df = pd.merge(master_df_select, sdi_df_select, how=\"outer\", on=\"GEO_ID\")"
      ],
      "execution_count": 0,
      "outputs": []
    },
    {
      "cell_type": "code",
      "metadata": {
        "id": "x8eATxlzUSdT",
        "colab_type": "code",
        "outputId": "c1786bca-9bab-468c-a6a9-148cf5b1a3c6",
        "colab": {
          "base_uri": "https://localhost:8080/",
          "height": 277
        }
      },
      "source": [
        "regression_df.describe()"
      ],
      "execution_count": 102,
      "outputs": [
        {
          "output_type": "execute_result",
          "data": {
            "text/html": [
              "<div>\n",
              "<style scoped>\n",
              "    .dataframe tbody tr th:only-of-type {\n",
              "        vertical-align: middle;\n",
              "    }\n",
              "\n",
              "    .dataframe tbody tr th {\n",
              "        vertical-align: top;\n",
              "    }\n",
              "\n",
              "    .dataframe thead th {\n",
              "        text-align: right;\n",
              "    }\n",
              "</style>\n",
              "<table border=\"1\" class=\"dataframe\">\n",
              "  <thead>\n",
              "    <tr style=\"text-align: right;\">\n",
              "      <th></th>\n",
              "      <th>white_pop_percent</th>\n",
              "      <th>black_pop_percent</th>\n",
              "      <th>asian_pop_percent</th>\n",
              "      <th>hispanic_pop_percent</th>\n",
              "      <th>amerindian_pop_percent</th>\n",
              "      <th>other_race_pop_percent</th>\n",
              "      <th>two_or_more_races_pop_percent</th>\n",
              "      <th>hispanic_any_race_percent</th>\n",
              "      <th>not_hispanic_pop_percent</th>\n",
              "      <th>Total_SDI_Score</th>\n",
              "    </tr>\n",
              "  </thead>\n",
              "  <tbody>\n",
              "    <tr>\n",
              "      <th>count</th>\n",
              "      <td>2331.000000</td>\n",
              "      <td>2331.000000</td>\n",
              "      <td>2331.000000</td>\n",
              "      <td>2331.000000</td>\n",
              "      <td>2331.000000</td>\n",
              "      <td>2331.000000</td>\n",
              "      <td>2331.000000</td>\n",
              "      <td>2331.000000</td>\n",
              "      <td>2331.000000</td>\n",
              "      <td>3220.000000</td>\n",
              "    </tr>\n",
              "    <tr>\n",
              "      <th>mean</th>\n",
              "      <td>0.757116</td>\n",
              "      <td>0.095848</td>\n",
              "      <td>0.015432</td>\n",
              "      <td>0.097738</td>\n",
              "      <td>0.011851</td>\n",
              "      <td>0.001218</td>\n",
              "      <td>0.019953</td>\n",
              "      <td>0.097738</td>\n",
              "      <td>0.902262</td>\n",
              "      <td>0.559580</td>\n",
              "    </tr>\n",
              "    <tr>\n",
              "      <th>std</th>\n",
              "      <td>0.193011</td>\n",
              "      <td>0.139561</td>\n",
              "      <td>0.028639</td>\n",
              "      <td>0.139395</td>\n",
              "      <td>0.042658</td>\n",
              "      <td>0.002021</td>\n",
              "      <td>0.016202</td>\n",
              "      <td>0.139395</td>\n",
              "      <td>0.139395</td>\n",
              "      <td>0.195002</td>\n",
              "    </tr>\n",
              "    <tr>\n",
              "      <th>min</th>\n",
              "      <td>0.007278</td>\n",
              "      <td>0.000000</td>\n",
              "      <td>0.000000</td>\n",
              "      <td>0.000000</td>\n",
              "      <td>0.000000</td>\n",
              "      <td>0.000000</td>\n",
              "      <td>0.000000</td>\n",
              "      <td>0.000000</td>\n",
              "      <td>0.009312</td>\n",
              "      <td>0.100000</td>\n",
              "    </tr>\n",
              "    <tr>\n",
              "      <th>25%</th>\n",
              "      <td>0.639607</td>\n",
              "      <td>0.009277</td>\n",
              "      <td>0.003874</td>\n",
              "      <td>0.023510</td>\n",
              "      <td>0.001356</td>\n",
              "      <td>0.000049</td>\n",
              "      <td>0.011813</td>\n",
              "      <td>0.023510</td>\n",
              "      <td>0.897037</td>\n",
              "      <td>0.450000</td>\n",
              "    </tr>\n",
              "    <tr>\n",
              "      <th>50%</th>\n",
              "      <td>0.818640</td>\n",
              "      <td>0.031461</td>\n",
              "      <td>0.007123</td>\n",
              "      <td>0.045256</td>\n",
              "      <td>0.002729</td>\n",
              "      <td>0.000660</td>\n",
              "      <td>0.016878</td>\n",
              "      <td>0.045256</td>\n",
              "      <td>0.954744</td>\n",
              "      <td>0.550000</td>\n",
              "    </tr>\n",
              "    <tr>\n",
              "      <th>75%</th>\n",
              "      <td>0.914632</td>\n",
              "      <td>0.116694</td>\n",
              "      <td>0.014767</td>\n",
              "      <td>0.102963</td>\n",
              "      <td>0.005844</td>\n",
              "      <td>0.001609</td>\n",
              "      <td>0.023287</td>\n",
              "      <td>0.102963</td>\n",
              "      <td>0.976490</td>\n",
              "      <td>0.666667</td>\n",
              "    </tr>\n",
              "    <tr>\n",
              "      <th>max</th>\n",
              "      <td>0.993958</td>\n",
              "      <td>0.837123</td>\n",
              "      <td>0.414846</td>\n",
              "      <td>0.990688</td>\n",
              "      <td>0.736578</td>\n",
              "      <td>0.030995</td>\n",
              "      <td>0.233014</td>\n",
              "      <td>0.990688</td>\n",
              "      <td>1.000000</td>\n",
              "      <td>1.000000</td>\n",
              "    </tr>\n",
              "  </tbody>\n",
              "</table>\n",
              "</div>"
            ],
            "text/plain": [
              "       white_pop_percent  ...  Total_SDI_Score\n",
              "count        2331.000000  ...      3220.000000\n",
              "mean            0.757116  ...         0.559580\n",
              "std             0.193011  ...         0.195002\n",
              "min             0.007278  ...         0.100000\n",
              "25%             0.639607  ...         0.450000\n",
              "50%             0.818640  ...         0.550000\n",
              "75%             0.914632  ...         0.666667\n",
              "max             0.993958  ...         1.000000\n",
              "\n",
              "[8 rows x 10 columns]"
            ]
          },
          "metadata": {
            "tags": []
          },
          "execution_count": 102
        }
      ]
    },
    {
      "cell_type": "markdown",
      "metadata": {
        "id": "3d1fRAPFiehx",
        "colab_type": "text"
      },
      "source": [
        "# Regression Analysis of SDI vs. Racial Distribution by County"
      ]
    },
    {
      "cell_type": "code",
      "metadata": {
        "id": "bpv7iTMVbOrM",
        "colab_type": "code",
        "colab": {}
      },
      "source": [
        "features = ['white_pop_percent',\n",
        "                   'black_pop_percent',\n",
        "                   'asian_pop_percent', \n",
        "                   'hispanic_pop_percent',\n",
        "            \"amerindian_pop_percent\",\n",
        "            \"other_race_pop_percent\",\n",
        "            ]\n"
      ],
      "execution_count": 0,
      "outputs": []
    },
    {
      "cell_type": "code",
      "metadata": {
        "id": "HUsttlKCVk9C",
        "colab_type": "code",
        "colab": {}
      },
      "source": [
        "lr = LinearRegression()"
      ],
      "execution_count": 0,
      "outputs": []
    },
    {
      "cell_type": "code",
      "metadata": {
        "id": "gVyusVXNVqls",
        "colab_type": "code",
        "outputId": "27f60e9f-5ac4-4d0a-8b49-ab6abfe821d5",
        "colab": {
          "base_uri": "https://localhost:8080/",
          "height": 328
        }
      },
      "source": [
        "X = regression_df[features]\n",
        "y = regression_df[\"Total_SDI_Score\"]\n",
        "lr.fit(X, y)"
      ],
      "execution_count": 106,
      "outputs": [
        {
          "output_type": "error",
          "ename": "ValueError",
          "evalue": "ignored",
          "traceback": [
            "\u001b[0;31m---------------------------------------------------------------------------\u001b[0m",
            "\u001b[0;31mValueError\u001b[0m                                Traceback (most recent call last)",
            "\u001b[0;32m<ipython-input-106-6a68a085c6b8>\u001b[0m in \u001b[0;36m<module>\u001b[0;34m()\u001b[0m\n\u001b[1;32m      1\u001b[0m \u001b[0mX\u001b[0m \u001b[0;34m=\u001b[0m \u001b[0mregression_df\u001b[0m\u001b[0;34m[\u001b[0m\u001b[0mfeatures\u001b[0m\u001b[0;34m]\u001b[0m\u001b[0;34m\u001b[0m\u001b[0;34m\u001b[0m\u001b[0m\n\u001b[1;32m      2\u001b[0m \u001b[0my\u001b[0m \u001b[0;34m=\u001b[0m \u001b[0mregression_df\u001b[0m\u001b[0;34m[\u001b[0m\u001b[0;34m\"Total_SDI_Score\"\u001b[0m\u001b[0;34m]\u001b[0m\u001b[0;34m\u001b[0m\u001b[0;34m\u001b[0m\u001b[0m\n\u001b[0;32m----> 3\u001b[0;31m \u001b[0mlr\u001b[0m\u001b[0;34m.\u001b[0m\u001b[0mfit\u001b[0m\u001b[0;34m(\u001b[0m\u001b[0mX\u001b[0m\u001b[0;34m,\u001b[0m \u001b[0my\u001b[0m\u001b[0;34m)\u001b[0m\u001b[0;34m\u001b[0m\u001b[0;34m\u001b[0m\u001b[0m\n\u001b[0m",
            "\u001b[0;32m/usr/local/lib/python3.6/dist-packages/sklearn/linear_model/_base.py\u001b[0m in \u001b[0;36mfit\u001b[0;34m(self, X, y, sample_weight)\u001b[0m\n\u001b[1;32m    490\u001b[0m         \u001b[0mn_jobs_\u001b[0m \u001b[0;34m=\u001b[0m \u001b[0mself\u001b[0m\u001b[0;34m.\u001b[0m\u001b[0mn_jobs\u001b[0m\u001b[0;34m\u001b[0m\u001b[0;34m\u001b[0m\u001b[0m\n\u001b[1;32m    491\u001b[0m         X, y = check_X_y(X, y, accept_sparse=['csr', 'csc', 'coo'],\n\u001b[0;32m--> 492\u001b[0;31m                          y_numeric=True, multi_output=True)\n\u001b[0m\u001b[1;32m    493\u001b[0m \u001b[0;34m\u001b[0m\u001b[0m\n\u001b[1;32m    494\u001b[0m         \u001b[0;32mif\u001b[0m \u001b[0msample_weight\u001b[0m \u001b[0;32mis\u001b[0m \u001b[0;32mnot\u001b[0m \u001b[0;32mNone\u001b[0m\u001b[0;34m:\u001b[0m\u001b[0;34m\u001b[0m\u001b[0;34m\u001b[0m\u001b[0m\n",
            "\u001b[0;32m/usr/local/lib/python3.6/dist-packages/sklearn/utils/validation.py\u001b[0m in \u001b[0;36mcheck_X_y\u001b[0;34m(X, y, accept_sparse, accept_large_sparse, dtype, order, copy, force_all_finite, ensure_2d, allow_nd, multi_output, ensure_min_samples, ensure_min_features, y_numeric, warn_on_dtype, estimator)\u001b[0m\n\u001b[1;32m    753\u001b[0m                     \u001b[0mensure_min_features\u001b[0m\u001b[0;34m=\u001b[0m\u001b[0mensure_min_features\u001b[0m\u001b[0;34m,\u001b[0m\u001b[0;34m\u001b[0m\u001b[0;34m\u001b[0m\u001b[0m\n\u001b[1;32m    754\u001b[0m                     \u001b[0mwarn_on_dtype\u001b[0m\u001b[0;34m=\u001b[0m\u001b[0mwarn_on_dtype\u001b[0m\u001b[0;34m,\u001b[0m\u001b[0;34m\u001b[0m\u001b[0;34m\u001b[0m\u001b[0m\n\u001b[0;32m--> 755\u001b[0;31m                     estimator=estimator)\n\u001b[0m\u001b[1;32m    756\u001b[0m     \u001b[0;32mif\u001b[0m \u001b[0mmulti_output\u001b[0m\u001b[0;34m:\u001b[0m\u001b[0;34m\u001b[0m\u001b[0;34m\u001b[0m\u001b[0m\n\u001b[1;32m    757\u001b[0m         y = check_array(y, 'csr', force_all_finite=True, ensure_2d=False,\n",
            "\u001b[0;32m/usr/local/lib/python3.6/dist-packages/sklearn/utils/validation.py\u001b[0m in \u001b[0;36mcheck_array\u001b[0;34m(array, accept_sparse, accept_large_sparse, dtype, order, copy, force_all_finite, ensure_2d, allow_nd, ensure_min_samples, ensure_min_features, warn_on_dtype, estimator)\u001b[0m\n\u001b[1;32m    576\u001b[0m         \u001b[0;32mif\u001b[0m \u001b[0mforce_all_finite\u001b[0m\u001b[0;34m:\u001b[0m\u001b[0;34m\u001b[0m\u001b[0;34m\u001b[0m\u001b[0m\n\u001b[1;32m    577\u001b[0m             _assert_all_finite(array,\n\u001b[0;32m--> 578\u001b[0;31m                                allow_nan=force_all_finite == 'allow-nan')\n\u001b[0m\u001b[1;32m    579\u001b[0m \u001b[0;34m\u001b[0m\u001b[0m\n\u001b[1;32m    580\u001b[0m     \u001b[0;32mif\u001b[0m \u001b[0mensure_min_samples\u001b[0m \u001b[0;34m>\u001b[0m \u001b[0;36m0\u001b[0m\u001b[0;34m:\u001b[0m\u001b[0;34m\u001b[0m\u001b[0;34m\u001b[0m\u001b[0m\n",
            "\u001b[0;32m/usr/local/lib/python3.6/dist-packages/sklearn/utils/validation.py\u001b[0m in \u001b[0;36m_assert_all_finite\u001b[0;34m(X, allow_nan, msg_dtype)\u001b[0m\n\u001b[1;32m     58\u001b[0m                     \u001b[0mmsg_err\u001b[0m\u001b[0;34m.\u001b[0m\u001b[0mformat\u001b[0m\u001b[0;34m\u001b[0m\u001b[0;34m\u001b[0m\u001b[0m\n\u001b[1;32m     59\u001b[0m                     (type_err,\n\u001b[0;32m---> 60\u001b[0;31m                      msg_dtype if msg_dtype is not None else X.dtype)\n\u001b[0m\u001b[1;32m     61\u001b[0m             )\n\u001b[1;32m     62\u001b[0m     \u001b[0;31m# for object dtype data, we only check for NaNs (GH-13254)\u001b[0m\u001b[0;34m\u001b[0m\u001b[0;34m\u001b[0m\u001b[0;34m\u001b[0m\u001b[0m\n",
            "\u001b[0;31mValueError\u001b[0m: Input contains NaN, infinity or a value too large for dtype('float64')."
          ]
        }
      ]
    },
    {
      "cell_type": "code",
      "metadata": {
        "id": "TS0rMZjgX5WT",
        "colab_type": "code",
        "outputId": "d4a20e96-1b99-4397-e0e9-01436dcf74d0",
        "colab": {
          "base_uri": "https://localhost:8080/",
          "height": 207
        }
      },
      "source": [
        "print('intercept:', lr.intercept_)\n",
        "coefs = lr.coef_\n",
        "for x, a in zip(features, coefs):\n",
        "  print(f\"{x}: {a}\")"
      ],
      "execution_count": 107,
      "outputs": [
        {
          "output_type": "error",
          "ename": "AttributeError",
          "evalue": "ignored",
          "traceback": [
            "\u001b[0;31m---------------------------------------------------------------------------\u001b[0m",
            "\u001b[0;31mAttributeError\u001b[0m                            Traceback (most recent call last)",
            "\u001b[0;32m<ipython-input-107-edd83484b51a>\u001b[0m in \u001b[0;36m<module>\u001b[0;34m()\u001b[0m\n\u001b[0;32m----> 1\u001b[0;31m \u001b[0mprint\u001b[0m\u001b[0;34m(\u001b[0m\u001b[0;34m'intercept:'\u001b[0m\u001b[0;34m,\u001b[0m \u001b[0mlr\u001b[0m\u001b[0;34m.\u001b[0m\u001b[0mintercept_\u001b[0m\u001b[0;34m)\u001b[0m\u001b[0;34m\u001b[0m\u001b[0;34m\u001b[0m\u001b[0m\n\u001b[0m\u001b[1;32m      2\u001b[0m \u001b[0mcoefs\u001b[0m \u001b[0;34m=\u001b[0m \u001b[0mlr\u001b[0m\u001b[0;34m.\u001b[0m\u001b[0mcoef_\u001b[0m\u001b[0;34m\u001b[0m\u001b[0;34m\u001b[0m\u001b[0m\n\u001b[1;32m      3\u001b[0m \u001b[0;32mfor\u001b[0m \u001b[0mx\u001b[0m\u001b[0;34m,\u001b[0m \u001b[0ma\u001b[0m \u001b[0;32min\u001b[0m \u001b[0mzip\u001b[0m\u001b[0;34m(\u001b[0m\u001b[0mfeatures\u001b[0m\u001b[0;34m,\u001b[0m \u001b[0mcoefs\u001b[0m\u001b[0;34m)\u001b[0m\u001b[0;34m:\u001b[0m\u001b[0;34m\u001b[0m\u001b[0;34m\u001b[0m\u001b[0m\n\u001b[1;32m      4\u001b[0m   \u001b[0mprint\u001b[0m\u001b[0;34m(\u001b[0m\u001b[0;34mf\"{x}: {a}\"\u001b[0m\u001b[0;34m)\u001b[0m\u001b[0;34m\u001b[0m\u001b[0;34m\u001b[0m\u001b[0m\n",
            "\u001b[0;31mAttributeError\u001b[0m: 'LinearRegression' object has no attribute 'intercept_'"
          ]
        }
      ]
    },
    {
      "cell_type": "code",
      "metadata": {
        "id": "bUwkeIR3hU7l",
        "colab_type": "code",
        "colab": {}
      },
      "source": [
        "plt.bar(features[:-1], coefs[:-1])\n",
        "plt.xlabel('Coefficient')  \n",
        "plt.ylabel('race')\n",
        "plt.show() "
      ],
      "execution_count": 0,
      "outputs": []
    },
    {
      "cell_type": "markdown",
      "metadata": {
        "id": "v0zQ82EZKlxD",
        "colab_type": "text"
      },
      "source": [
        "# Visual Analysis"
      ]
    },
    {
      "cell_type": "code",
      "metadata": {
        "id": "zTMWrqSecdej",
        "colab_type": "code",
        "colab": {}
      },
      "source": [
        "plt.figure(figsize=(10,5))\n",
        "sns.heatmap(regression_df[features + [\"Total_SDI_Score\"] ].corr(), annot = True)"
      ],
      "execution_count": 0,
      "outputs": []
    },
    {
      "cell_type": "code",
      "metadata": {
        "id": "AZPl5kygceKQ",
        "colab_type": "code",
        "colab": {}
      },
      "source": [
        "race_list = [master_df[\"white_pop\"], master_df[\"black_pop\"], master_df[\"asian_pop\"], master_df[\"hispanic_pop\"]]\n",
        "race_label = [\"white_pop\", \"black_pop\", \"asian_pop\", \"hispanic_pop\"]\n",
        "for i in range(len(race_list)):\n",
        "  X =race_list[i]/master_df[\"total_pop\"]\n",
        "  y= sdi_df[\"Total_SDI_Score\"]\n",
        "  plt.figure(figsize=(10,5))\n",
        "  plt.plot(X,y, 'o')\n",
        "  plt.ylabel(\"SDI Score\")\n",
        "  m, b = np.polyfit(X,y, 1)\n",
        "  plt.plot(X, m*X + b)\n",
        "  plt.xlabel(race_label[i])\n",
        "  print(f\"The intercept for proportion of \", race_label[i], \"is\", b)\n",
        "  print(f\"The slope for proportion of \", race_label[i], \"is\", m, \"\\n\")"
      ],
      "execution_count": 0,
      "outputs": []
    },
    {
      "cell_type": "code",
      "metadata": {
        "id": "z78EvnpweIp6",
        "colab_type": "code",
        "colab": {}
      },
      "source": [
        ""
      ],
      "execution_count": 0,
      "outputs": []
    }
  ]
}